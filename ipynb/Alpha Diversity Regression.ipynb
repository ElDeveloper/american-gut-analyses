{
 "cells": [
  {
   "cell_type": "markdown",
   "metadata": {},
   "source": [
    "**Author**: Justine Debelius<br>\n",
    "**email**: jdebelius@ucsd.edu<br>\n",
    "**enviroment**: agp_2017<br>\n",
    "**Date**: 16 May 2017<br>\n",
    "**Update**: 3 November 2017"
   ]
  },
  {
   "cell_type": "markdown",
   "metadata": {},
   "source": [
    "This notebook will build a linear regression comparing the alpha diversity of participants in the American Gut to covariates fo interest.\n",
    "\n",
    "We're going to focus on a subset of the participants. Namely, we're going to look at individuals living in the US and UK with a BMI of less than 40."
   ]
  },
  {
   "cell_type": "code",
   "execution_count": 1,
   "metadata": {
    "collapsed": false
   },
   "outputs": [],
   "source": [
    "import matplotlib.pyplot as plt\n",
    "import numpy as np\n",
    "import pandas as pd\n",
    "import patsy\n",
    "import scipy\n",
    "import skbio\n",
    "import seaborn as sn\n",
    "import statsmodels.api as sms\n",
    "import statsmodels.formula.api as smf\n",
    "\n",
    "%matplotlib inline"
   ]
  },
  {
   "cell_type": "markdown",
   "metadata": {},
   "source": [
    "We'll start by loading the study metadata and converting the alpha diversity, age, and BMI to floats."
   ]
  },
  {
   "cell_type": "code",
   "execution_count": 2,
   "metadata": {
    "collapsed": false
   },
   "outputs": [],
   "source": [
    "map_ = pd.read_csv('./ag_map_with_alpha.txt', sep='\\t', dtype=str)\n",
    "map_.set_index('#SampleID', inplace=True)\n",
    "\n",
    "map_.replace('Unspecified', np.nan, inplace=True)"
   ]
  },
  {
   "cell_type": "code",
   "execution_count": 3,
   "metadata": {
    "collapsed": false
   },
   "outputs": [],
   "source": [
    "map_['faiths_pd_1250'] = map_['faiths_pd_1250'].astype(float)"
   ]
  },
  {
   "cell_type": "code",
   "execution_count": 4,
   "metadata": {
    "collapsed": false
   },
   "outputs": [],
   "source": [
    "map_['age_corrected'] = map_['age_corrected'].astype(float)\n",
    "map_.loc[map_['age_corrected'] > 105, 'age_corrected'] = np.nan\n",
    "\n",
    "map_['bmi_corrected'] = map_['bmi_corrected'].astype(float)"
   ]
  },
  {
   "cell_type": "markdown",
   "metadata": {},
   "source": [
    "Next, we'll load the bloom percentage file, and add that to the mapping file."
   ]
  },
  {
   "cell_type": "code",
   "execution_count": 5,
   "metadata": {
    "collapsed": true
   },
   "outputs": [],
   "source": [
    "bloom = pd.read_csv('./ag-bloom-fractions-125nt.txt', sep='\\t', dtype=str)\n",
    "bloom.set_index('#SampleID', inplace=True)"
   ]
  },
  {
   "cell_type": "code",
   "execution_count": 6,
   "metadata": {
    "collapsed": false
   },
   "outputs": [],
   "source": [
    "map_['bloom_fraction'] = bloom['bloom_fraction'].astype(float)"
   ]
  },
  {
   "cell_type": "markdown",
   "metadata": {},
   "source": [
    "We're going to only look at samples from the US, UK, Australia and Canada, since these represent about 92% of the samples in the data set. We'll also limit the data based on BMI, limit the data set to participants who have provided their sex and male and female. "
   ]
  },
  {
   "cell_type": "code",
   "execution_count": 47,
   "metadata": {
    "collapsed": false
   },
   "outputs": [],
   "source": [
    "def filter_map(x):\n",
    "    country = x['country'] in {'USA', 'United Kingdom', 'Canada', 'Australia'}\n",
    "    bmi = (x['bmi_corrected'] < 40) and (pd.isnull(x['bmi_corrected']) == False)\n",
    "    sex = x['sex'] in {'male', 'female'}\n",
    "    poo = x['bowel_movement_quality'] not in {\"I don't know, I do not have a point of reference\"}\n",
    "    race = x['race'] in {'Caucasian', 'Asian or Pacific Islander', 'Other'}\n",
    "    cpn = x['center_project_name'] in {'AG31', 'AGag35', 'AG27', 'AGag33', 'AGag36', \n",
    "                                       'AGag34', 'AGAGA.RR', 'AG25', 'AGp.109.110.111', \n",
    "                                       'AGagFerm', 'AG3dMouse', 'AG29', 'AG30'}\n",
    "    pox = x['chickenpox'] in {'No', 'Yes'}\n",
    "    \n",
    "    return country & bmi & sex & poo & race & cpn & pox"
   ]
  },
  {
   "cell_type": "code",
   "execution_count": 48,
   "metadata": {
    "collapsed": true
   },
   "outputs": [],
   "source": [
    "study_columns = [\n",
    "    'center_project_name',\n",
    "    'age_corrected', \n",
    "    'age_cat',\n",
    "    'alcohol_frequency', \n",
    "    'antibiotic_history',\n",
    "    'bmi_corrected', \n",
    "    'bowel_movement_quality', \n",
    "    'ibd', \n",
    "    'ibs',\n",
    "    'country', \n",
    "    'race', \n",
    "    'types_of_plants',\n",
    "    'sex', \n",
    "    'sleep_duration', \n",
    "    'faiths_pd_1250',\n",
    "    'chickenpox',\n",
    "    'bloom_fraction'\n",
    "    ]"
   ]
  },
  {
   "cell_type": "code",
   "execution_count": 49,
   "metadata": {
    "collapsed": false
   },
   "outputs": [],
   "source": [
    "fmap_ = map_.loc[map_.apply(filter_map, axis=1)]\n",
    "smap_ = fmap_[study_columns].dropna()"
   ]
  },
  {
   "cell_type": "markdown",
   "metadata": {},
   "source": [
    "We're going to do some additional clean up, to make life easier? \n",
    "\n",
    "So, we'll combine the self diagnosed or alternative medicate practioner diagnosis into a `non medical diagnosis` category. This allows us to keep the individuals, but combines the groups.\n",
    "\n",
    "We'll rename the alcohol frequency, antibiotic history, bowel movement quality, and to make them prettier in the regression.<br>\n",
    "We'll also combine people who took antibiotics in the last week and the last month, since the last week is also part of the last month.<br>\n",
    "We'll also combine the sleep durations of less than 6 hours (Less than 5 and 5 - 6).\n",
    "\n"
   ]
  },
  {
   "cell_type": "markdown",
   "metadata": {},
   "source": [
    "We're going to code the data using numeric codeing, since this will be easier for patsy to handle.\n",
    "We'll also do some work to build combinations.\n",
    "\n",
    "We're going to combine the antibiotics in the last week and in the last month. <br>\n",
    "For both IBD and IBS, we will combine people who were idagnosed by an alternative medicine practioner or self diagnosed individuals into a different category."
   ]
  },
  {
   "cell_type": "code",
   "execution_count": 51,
   "metadata": {
    "collapsed": true
   },
   "outputs": [],
   "source": [
    "numeric_coding = {'alcohol_frequency': {'Never': 0,\n",
    "                                        'Rarely (a few times/month)': 1,\n",
    "                                        'Occasionally (1-2 times/week)': 2,\n",
    "                                        'Regularly (3-5 times/week)': 3,\n",
    "                                        'Daily': 4,\n",
    "                                        },\n",
    "                  'antibiotic_history': {'I have not taken antibiotics in the past year.': 0,\n",
    "                                         'Year': 1,\n",
    "                                         '6 months': 2,\n",
    "                                         'Month': 3,\n",
    "                                         'Week': 3,\n",
    "                                         },\n",
    "                  'bowel_movement_quality': {'I tend to have normal formed stool': 0,\n",
    "                                             'I tend to have diarrhea (watery stool)': 1,\n",
    "                                             'I tend to be constipated (have difficulty passing stool)': 2,\n",
    "                                             },\n",
    "                  'chickenpox': {'No': 0,\n",
    "                                 'Yes': 1,\n",
    "                                },\n",
    "                  'country': {'USA': 0,\n",
    "                              'United Kingdom': 1,\n",
    "                              'Canada': 2,\n",
    "                              'Australia': 3,\n",
    "                              },\n",
    "                  'ibd': {'I do not have this condition': 0,\n",
    "                          'Diagnosed by a medical professional (doctor, physician assistant)': 1,\n",
    "                          'Self-diagnosed': 2,\n",
    "                          'Diagnosed by an alternative medicine practitioner': 2,\n",
    "                          },\n",
    "                  'ibs': {'I do not have this condition': 0,\n",
    "                          'Diagnosed by a medical professional (doctor, physician assistant)': 1,\n",
    "                          'Self-diagnosed': 2,\n",
    "                          'Diagnosed by an alternative medicine practitioner': 2,\n",
    "                          },\n",
    "                  'race': {\"Caucasian\": 0,\n",
    "                           'Asian or Pacific Islander': 1,\n",
    "                           'Other': 2,\n",
    "                           },\n",
    "                  'sex': {'female': 0, \n",
    "                          'male': 1},\n",
    "                  'sleep_duration': {'Less than 5 hours': 0,\n",
    "                                     '5-6 hours': 0,\n",
    "                                     '6-7 hours': 1,\n",
    "                                     '7-8 hours': 2,\n",
    "                                     '8 or more hours': 3,\n",
    "                                     },\n",
    "                  'types_of_plants': {'Less than 5': 0,\n",
    "                                      '6 to 10': 1,\n",
    "                                      '11 to 20': 2,\n",
    "                                      '21 to 30': 3,\n",
    "                                      'More than 30': 4,\n",
    "                                      },\n",
    "                  }"
   ]
  },
  {
   "cell_type": "code",
   "execution_count": 52,
   "metadata": {
    "collapsed": false,
    "scrolled": true
   },
   "outputs": [],
   "source": [
    "smap_numeric = smap_.replace(numeric_coding)"
   ]
  },
  {
   "cell_type": "code",
   "execution_count": 53,
   "metadata": {
    "collapsed": true
   },
   "outputs": [],
   "source": [
    "smap_numeric['ln_age'] = np.log(smap_numeric['age_corrected'] + 1)"
   ]
  },
  {
   "cell_type": "code",
   "execution_count": 38,
   "metadata": {
    "collapsed": true
   },
   "outputs": [],
   "source": [
    "smap_numeric.to_csv('./coded_regression_map_5k.txt', sep='\\t', index_label='#SampleID')"
   ]
  },
  {
   "cell_type": "code",
   "execution_count": 39,
   "metadata": {
    "collapsed": false
   },
   "outputs": [
    {
     "name": "stdout",
     "output_type": "stream",
     "text": [
      "/Users/jwdebelius/Repositories/american-gut-analyses/ipynb\r\n"
     ]
    }
   ],
   "source": [
    "!pwd"
   ]
  },
  {
   "cell_type": "markdown",
   "metadata": {},
   "source": [
    "Next, we'll build a regression including the covariate we're potentially interested in."
   ]
  },
  {
   "cell_type": "markdown",
   "metadata": {},
   "source": [
    "Next, we'll build a function that will let us preform a step-wise selection based on a decrease in the AIC, an increase in the adjusted $R^{2}$ and not blowing up the condition number."
   ]
  },
  {
   "cell_type": "code",
   "execution_count": 54,
   "metadata": {
    "collapsed": false
   },
   "outputs": [
    {
     "name": "stdout",
     "output_type": "stream",
     "text": [
      "                            OLS Regression Results                            \n",
      "==============================================================================\n",
      "Dep. Variable:         faiths_pd_1250   R-squared:                       0.021\n",
      "Model:                            OLS   Adj. R-squared:                  0.020\n",
      "Method:                 Least Squares   F-statistic:                     46.39\n",
      "Date:                Fri, 03 Nov 2017   Prob (F-statistic):           1.25e-11\n",
      "Time:                        15:06:20   Log-Likelihood:                -5847.1\n",
      "No. Observations:                2197   AIC:                         1.170e+04\n",
      "Df Residuals:                    2195   BIC:                         1.171e+04\n",
      "Df Model:                           1                                         \n",
      "Covariance Type:            nonrobust                                         \n",
      "==================================================================================\n",
      "                     coef    std err          t      P>|t|      [95.0% Conf. Int.]\n",
      "----------------------------------------------------------------------------------\n",
      "Intercept         14.0253      0.096    146.097      0.000        13.837    14.214\n",
      "bloom_fraction    -1.9026      0.279     -6.811      0.000        -2.450    -1.355\n",
      "==============================================================================\n",
      "Omnibus:                       33.114   Durbin-Watson:                   1.979\n",
      "Prob(Omnibus):                  0.000   Jarque-Bera (JB):               34.403\n",
      "Skew:                           0.306   Prob(JB):                     3.38e-08\n",
      "Kurtosis:                       2.979   Cond. No.                         3.97\n",
      "==============================================================================\n",
      "\n",
      "Warnings:\n",
      "[1] Standard Errors assume that the covariance matrix of the errors is correctly specified.\n"
     ]
    }
   ],
   "source": [
    "fit1 = smf.ols('faiths_pd_1250 ~ bloom_fraction', data=smap_numeric).fit()\n",
    "print(fit1.summary())"
   ]
  },
  {
   "cell_type": "code",
   "execution_count": 55,
   "metadata": {
    "collapsed": false
   },
   "outputs": [
    {
     "name": "stdout",
     "output_type": "stream",
     "text": [
      "                            OLS Regression Results                            \n",
      "==============================================================================\n",
      "Dep. Variable:         faiths_pd_1250   R-squared:                       0.084\n",
      "Model:                            OLS   Adj. R-squared:                  0.083\n",
      "Method:                 Least Squares   F-statistic:                     50.42\n",
      "Date:                Fri, 03 Nov 2017   Prob (F-statistic):           1.19e-40\n",
      "Time:                        15:06:21   Log-Likelihood:                -5773.3\n",
      "No. Observations:                2197   AIC:                         1.156e+04\n",
      "Df Residuals:                    2192   BIC:                         1.159e+04\n",
      "Df Model:                           4                                         \n",
      "Covariance Type:            nonrobust                                         \n",
      "===================================================================================\n",
      "                      coef    std err          t      P>|t|      [95.0% Conf. Int.]\n",
      "-----------------------------------------------------------------------------------\n",
      "Intercept          13.2542      0.112    117.922      0.000        13.034    13.475\n",
      "C(country)[T.1]     1.8113      0.147     12.325      0.000         1.523     2.099\n",
      "C(country)[T.2]     0.7647      0.620      1.233      0.218        -0.451     1.981\n",
      "C(country)[T.3]     1.0477      0.482      2.172      0.030         0.102     1.994\n",
      "bloom_fraction     -2.0526      0.272     -7.547      0.000        -2.586    -1.519\n",
      "==============================================================================\n",
      "Omnibus:                       27.171   Durbin-Watson:                   2.009\n",
      "Prob(Omnibus):                  0.000   Jarque-Bera (JB):               27.857\n",
      "Skew:                           0.269   Prob(JB):                     8.93e-07\n",
      "Kurtosis:                       3.124   Cond. No.                         9.80\n",
      "==============================================================================\n",
      "\n",
      "Warnings:\n",
      "[1] Standard Errors assume that the covariance matrix of the errors is correctly specified.\n"
     ]
    }
   ],
   "source": [
    "fit1 = smf.ols('faiths_pd_1250 ~ bloom_fraction + C(country)', data=smap_numeric).fit()\n",
    "print(fit1.summary())"
   ]
  },
  {
   "cell_type": "code",
   "execution_count": 56,
   "metadata": {
    "collapsed": false
   },
   "outputs": [
    {
     "name": "stdout",
     "output_type": "stream",
     "text": [
      "                            OLS Regression Results                            \n",
      "==============================================================================\n",
      "Dep. Variable:         faiths_pd_1250   R-squared:                       0.103\n",
      "Model:                            OLS   Adj. R-squared:                  0.100\n",
      "Method:                 Least Squares   F-statistic:                     41.70\n",
      "Date:                Fri, 03 Nov 2017   Prob (F-statistic):           2.31e-48\n",
      "Time:                        15:06:21   Log-Likelihood:                -5751.2\n",
      "No. Observations:                2197   AIC:                         1.152e+04\n",
      "Df Residuals:                    2190   BIC:                         1.156e+04\n",
      "Df Model:                           6                                         \n",
      "Covariance Type:            nonrobust                                         \n",
      "===================================================================================\n",
      "                      coef    std err          t      P>|t|      [95.0% Conf. Int.]\n",
      "-----------------------------------------------------------------------------------\n",
      "Intercept          13.3364      0.112    119.035      0.000        13.117    13.556\n",
      "C(country)[T.1]     1.7777      0.146     12.194      0.000         1.492     2.064\n",
      "C(country)[T.2]     0.6588      0.614      1.072      0.284        -0.546     1.863\n",
      "C(country)[T.3]     1.0168      0.478      2.128      0.033         0.080     1.954\n",
      "C(ibd)[T.1]        -2.5345      0.380     -6.678      0.000        -3.279    -1.790\n",
      "C(ibd)[T.2]        -0.0240      0.767     -0.031      0.975        -1.527     1.479\n",
      "bloom_fraction     -1.9306      0.270     -7.150      0.000        -2.460    -1.401\n",
      "==============================================================================\n",
      "Omnibus:                       31.064   Durbin-Watson:                   2.002\n",
      "Prob(Omnibus):                  0.000   Jarque-Bera (JB):               32.031\n",
      "Skew:                           0.293   Prob(JB):                     1.11e-07\n",
      "Kurtosis:                       3.078   Cond. No.                         12.2\n",
      "==============================================================================\n",
      "\n",
      "Warnings:\n",
      "[1] Standard Errors assume that the covariance matrix of the errors is correctly specified.\n"
     ]
    }
   ],
   "source": [
    "fit1 = smf.ols('faiths_pd_1250 ~ bloom_fraction + C(country) + C(ibd)', data=smap_numeric).fit()\n",
    "print(fit1.summary())"
   ]
  },
  {
   "cell_type": "code",
   "execution_count": 57,
   "metadata": {
    "collapsed": false
   },
   "outputs": [
    {
     "name": "stdout",
     "output_type": "stream",
     "text": [
      "                            OLS Regression Results                            \n",
      "==============================================================================\n",
      "Dep. Variable:         faiths_pd_1250   R-squared:                       0.094\n",
      "Model:                            OLS   Adj. R-squared:                  0.091\n",
      "Method:                 Least Squares   F-statistic:                     32.54\n",
      "Date:                Fri, 03 Nov 2017   Prob (F-statistic):           2.90e-43\n",
      "Time:                        15:06:22   Log-Likelihood:                -5761.3\n",
      "No. Observations:                2197   AIC:                         1.154e+04\n",
      "Df Residuals:                    2189   BIC:                         1.158e+04\n",
      "Df Model:                           7                                         \n",
      "Covariance Type:            nonrobust                                         \n",
      "===================================================================================\n",
      "                      coef    std err          t      P>|t|      [95.0% Conf. Int.]\n",
      "-----------------------------------------------------------------------------------\n",
      "Intercept          13.0945      0.102    128.427      0.000        12.895    13.294\n",
      "C(country)[T.1]     1.8624      0.148     12.563      0.000         1.572     2.153\n",
      "C(country)[T.2]     0.7530      0.617      1.220      0.223        -0.458     1.964\n",
      "C(country)[T.3]     0.7292      0.478      1.527      0.127        -0.207     1.666\n",
      "C(ibd)[T.1]        -2.5746      0.383     -6.730      0.000        -3.325    -1.824\n",
      "C(ibd)[T.2]         0.5070      0.783      0.648      0.517        -1.028     2.042\n",
      "C(ibs)[T.1]        -0.9603      0.211     -4.556      0.000        -1.374    -0.547\n",
      "C(ibs)[T.2]        -1.0037      0.268     -3.743      0.000        -1.530    -0.478\n",
      "==============================================================================\n",
      "Omnibus:                       28.479   Durbin-Watson:                   2.001\n",
      "Prob(Omnibus):                  0.000   Jarque-Bera (JB):               29.247\n",
      "Skew:                           0.279   Prob(JB):                     4.46e-07\n",
      "Kurtosis:                       3.092   Cond. No.                         12.4\n",
      "==============================================================================\n",
      "\n",
      "Warnings:\n",
      "[1] Standard Errors assume that the covariance matrix of the errors is correctly specified.\n"
     ]
    }
   ],
   "source": [
    "fit1 = smf.ols('faiths_pd_1250 ~ C(country) + C(ibd) + C(ibs)', data=smap_numeric).fit()\n",
    "print(fit1.summary())"
   ]
  },
  {
   "cell_type": "code",
   "execution_count": 58,
   "metadata": {
    "collapsed": false
   },
   "outputs": [
    {
     "name": "stdout",
     "output_type": "stream",
     "text": [
      "                            OLS Regression Results                            \n",
      "==============================================================================\n",
      "Dep. Variable:         faiths_pd_1250   R-squared:                       0.137\n",
      "Model:                            OLS   Adj. R-squared:                  0.133\n",
      "Method:                 Least Squares   F-statistic:                     31.64\n",
      "Date:                Fri, 03 Nov 2017   Prob (F-statistic):           9.12e-63\n",
      "Time:                        15:06:22   Log-Likelihood:                -5707.7\n",
      "No. Observations:                2197   AIC:                         1.144e+04\n",
      "Df Residuals:                    2185   BIC:                         1.151e+04\n",
      "Df Model:                          11                                         \n",
      "Covariance Type:            nonrobust                                         \n",
      "==============================================================================================\n",
      "                                 coef    std err          t      P>|t|      [95.0% Conf. Int.]\n",
      "----------------------------------------------------------------------------------------------\n",
      "Intercept                     13.7808      0.121    113.751      0.000        13.543    14.018\n",
      "C(country)[T.1]                1.8076      0.146     12.417      0.000         1.522     2.093\n",
      "C(country)[T.2]                0.5915      0.604      0.980      0.327        -0.592     1.775\n",
      "C(country)[T.3]                1.2145      0.470      2.586      0.010         0.294     2.135\n",
      "C(ibd)[T.1]                   -2.2670      0.375     -6.043      0.000        -3.003    -1.531\n",
      "C(ibd)[T.2]                    0.6813      0.765      0.890      0.373        -0.819     2.182\n",
      "C(ibs)[T.1]                   -0.7970      0.207     -3.846      0.000        -1.203    -0.391\n",
      "C(ibs)[T.2]                   -0.8353      0.263     -3.179      0.001        -1.350    -0.320\n",
      "C(antibiotic_history)[T.1]    -0.6062      0.200     -3.025      0.003        -0.999    -0.213\n",
      "C(antibiotic_history)[T.2]    -1.2765      0.219     -5.833      0.000        -1.706    -0.847\n",
      "C(antibiotic_history)[T.3]    -1.6589      0.316     -5.257      0.000        -2.278    -1.040\n",
      "bloom_fraction                -1.7677      0.266     -6.637      0.000        -2.290    -1.245\n",
      "==============================================================================\n",
      "Omnibus:                       31.823   Durbin-Watson:                   1.995\n",
      "Prob(Omnibus):                  0.000   Jarque-Bera (JB):               32.831\n",
      "Skew:                           0.295   Prob(JB):                     7.43e-08\n",
      "Kurtosis:                       3.102   Cond. No.                         12.8\n",
      "==============================================================================\n",
      "\n",
      "Warnings:\n",
      "[1] Standard Errors assume that the covariance matrix of the errors is correctly specified.\n"
     ]
    }
   ],
   "source": [
    "fit1 = smf.ols('faiths_pd_1250 ~ bloom_fraction + C(country) + C(ibd) + C(ibs) + C(antibiotic_history)', data=smap_numeric).fit()\n",
    "print(fit1.summary())"
   ]
  },
  {
   "cell_type": "code",
   "execution_count": 59,
   "metadata": {
    "collapsed": false
   },
   "outputs": [
    {
     "name": "stdout",
     "output_type": "stream",
     "text": [
      "                            OLS Regression Results                            \n",
      "==============================================================================\n",
      "Dep. Variable:         faiths_pd_1250   R-squared:                       0.169\n",
      "Model:                            OLS   Adj. R-squared:                  0.164\n",
      "Method:                 Least Squares   F-statistic:                     34.18\n",
      "Date:                Fri, 03 Nov 2017   Prob (F-statistic):           1.61e-78\n",
      "Time:                        15:06:23   Log-Likelihood:                -5666.5\n",
      "No. Observations:                2197   AIC:                         1.136e+04\n",
      "Df Residuals:                    2183   BIC:                         1.144e+04\n",
      "Df Model:                          13                                         \n",
      "Covariance Type:            nonrobust                                         \n",
      "==============================================================================================\n",
      "                                 coef    std err          t      P>|t|      [95.0% Conf. Int.]\n",
      "----------------------------------------------------------------------------------------------\n",
      "Intercept                     14.0572      0.123    114.512      0.000        13.817    14.298\n",
      "C(country)[T.1]                1.6945      0.144     11.800      0.000         1.413     1.976\n",
      "C(country)[T.2]                0.4390      0.593      0.740      0.459        -0.724     1.602\n",
      "C(country)[T.3]                1.0848      0.462      2.350      0.019         0.180     1.990\n",
      "C(ibd)[T.1]                   -2.2886      0.368     -6.212      0.000        -3.011    -1.566\n",
      "C(ibd)[T.2]                    0.5469      0.752      0.728      0.467        -0.927     2.021\n",
      "C(ibs)[T.1]                   -0.8160      0.204     -4.009      0.000        -1.215    -0.417\n",
      "C(ibs)[T.2]                   -0.8605      0.258     -3.335      0.001        -1.366    -0.355\n",
      "C(antibiotic_history)[T.1]    -0.6030      0.197     -3.064      0.002        -0.989    -0.217\n",
      "C(antibiotic_history)[T.2]    -1.2392      0.215     -5.764      0.000        -1.661    -0.818\n",
      "C(antibiotic_history)[T.3]    -1.6903      0.310     -5.455      0.000        -2.298    -1.083\n",
      "C(race)[T.1]                  -2.5555      0.326     -7.839      0.000        -3.195    -1.916\n",
      "C(race)[T.2]                  -1.9820      0.396     -5.008      0.000        -2.758    -1.206\n",
      "bloom_fraction                -1.9449      0.262     -7.415      0.000        -2.459    -1.431\n",
      "==============================================================================\n",
      "Omnibus:                       32.848   Durbin-Watson:                   1.997\n",
      "Prob(Omnibus):                  0.000   Jarque-Bera (JB):               33.979\n",
      "Skew:                           0.295   Prob(JB):                     4.18e-08\n",
      "Kurtosis:                       3.155   Cond. No.                         12.8\n",
      "==============================================================================\n",
      "\n",
      "Warnings:\n",
      "[1] Standard Errors assume that the covariance matrix of the errors is correctly specified.\n"
     ]
    }
   ],
   "source": [
    "fit1 = smf.ols('faiths_pd_1250 ~ bloom_fraction + C(country) + C(ibd) + C(ibs) '\n",
    "               '+ C(antibiotic_history) + C(race)', data=smap_numeric).fit()\n",
    "print(fit1.summary())"
   ]
  },
  {
   "cell_type": "code",
   "execution_count": 60,
   "metadata": {
    "collapsed": false
   },
   "outputs": [
    {
     "name": "stdout",
     "output_type": "stream",
     "text": [
      "                            OLS Regression Results                            \n",
      "==============================================================================\n",
      "Dep. Variable:         faiths_pd_1250   R-squared:                       0.172\n",
      "Model:                            OLS   Adj. R-squared:                  0.167\n",
      "Method:                 Least Squares   F-statistic:                     37.74\n",
      "Date:                Fri, 03 Nov 2017   Prob (F-statistic):           8.57e-81\n",
      "Time:                        15:06:23   Log-Likelihood:                -5663.0\n",
      "No. Observations:                2197   AIC:                         1.135e+04\n",
      "Df Residuals:                    2184   BIC:                         1.143e+04\n",
      "Df Model:                          12                                         \n",
      "Covariance Type:            nonrobust                                         \n",
      "==============================================================================================\n",
      "                                 coef    std err          t      P>|t|      [95.0% Conf. Int.]\n",
      "----------------------------------------------------------------------------------------------\n",
      "Intercept                     11.8424      0.236     50.230      0.000        11.380    12.305\n",
      "C(country)[T.1]                1.6599      0.144     11.565      0.000         1.378     1.941\n",
      "C(country)[T.2]                0.4385      0.592      0.741      0.459        -0.722     1.599\n",
      "C(country)[T.3]                1.0042      0.461      2.179      0.029         0.101     1.908\n",
      "C(ibd)[T.1]                   -2.0223      0.369     -5.487      0.000        -2.745    -1.300\n",
      "C(ibd)[T.2]                    0.8173      0.750      1.090      0.276        -0.654     2.288\n",
      "C(ibs)[T.1]                   -0.7661      0.203     -3.771      0.000        -1.164    -0.368\n",
      "C(ibs)[T.2]                   -0.7074      0.258     -2.743      0.006        -1.213    -0.202\n",
      "C(antibiotic_history)[T.1]    -0.6191      0.196     -3.152      0.002        -1.004    -0.234\n",
      "C(antibiotic_history)[T.2]    -1.2866      0.214     -5.999      0.000        -1.707    -0.866\n",
      "C(antibiotic_history)[T.3]    -1.6690      0.309     -5.397      0.000        -2.276    -1.063\n",
      "bloom_fraction                -2.0421      0.263     -7.776      0.000        -2.557    -1.527\n",
      "age_corrected                  0.0430      0.005      9.517      0.000         0.034     0.052\n",
      "==============================================================================\n",
      "Omnibus:                       23.715   Durbin-Watson:                   2.011\n",
      "Prob(Omnibus):                  0.000   Jarque-Bera (JB):               24.300\n",
      "Skew:                           0.243   Prob(JB):                     5.29e-06\n",
      "Kurtosis:                       3.168   Cond. No.                         552.\n",
      "==============================================================================\n",
      "\n",
      "Warnings:\n",
      "[1] Standard Errors assume that the covariance matrix of the errors is correctly specified.\n"
     ]
    }
   ],
   "source": [
    "fit1 = smf.ols('faiths_pd_1250 ~ bloom_fraction + C(country) + C(ibd) + C(ibs) + C(antibiotic_history)'\n",
    "               ' + age_corrected', data=smap_numeric).fit()\n",
    "print(fit1.summary())"
   ]
  },
  {
   "cell_type": "code",
   "execution_count": 61,
   "metadata": {
    "collapsed": false
   },
   "outputs": [
    {
     "name": "stderr",
     "output_type": "stream",
     "text": [
      "/Users/jwdebelius/miniconda3/envs/agp_2017/lib/python3.6/site-packages/statsmodels/nonparametric/kdetools.py:20: VisibleDeprecationWarning: using a non-integer number instead of an integer will result in an error in the future\n",
      "  y = X[:m/2+1] + np.r_[0,X[m/2+1:],0]*1j\n"
     ]
    },
    {
     "data": {
      "text/plain": [
       "<matplotlib.axes._subplots.AxesSubplot at 0x11b34afd0>"
      ]
     },
     "execution_count": 61,
     "metadata": {},
     "output_type": "execute_result"
    },
    {
     "data": {
      "image/png": "[encoded data removed]",
      "text/plain": [
       "<matplotlib.figure.Figure at 0x11b484c50>"
      ]
     },
     "metadata": {},
     "output_type": "display_data"
    }
   ],
   "source": [
    "sn.distplot(fit1.resid)"
   ]
  },
  {
   "cell_type": "code",
   "execution_count": 62,
   "metadata": {
    "collapsed": false
   },
   "outputs": [
    {
     "name": "stdout",
     "output_type": "stream",
     "text": [
      "                            OLS Regression Results                            \n",
      "==============================================================================\n",
      "Dep. Variable:         faiths_pd_1250   R-squared:                       0.173\n",
      "Model:                            OLS   Adj. R-squared:                  0.168\n",
      "Method:                 Least Squares   F-statistic:                     37.97\n",
      "Date:                Fri, 03 Nov 2017   Prob (F-statistic):           2.84e-81\n",
      "Time:                        15:06:24   Log-Likelihood:                -5661.9\n",
      "No. Observations:                2197   AIC:                         1.135e+04\n",
      "Df Residuals:                    2184   BIC:                         1.142e+04\n",
      "Df Model:                          12                                         \n",
      "Covariance Type:            nonrobust                                         \n",
      "==============================================================================================\n",
      "                                 coef    std err          t      P>|t|      [95.0% Conf. Int.]\n",
      "----------------------------------------------------------------------------------------------\n",
      "Intercept                      6.7036      0.744      9.014      0.000         5.245     8.162\n",
      "C(country)[T.1]                1.6418      0.144     11.429      0.000         1.360     1.923\n",
      "C(country)[T.2]                0.4457      0.591      0.754      0.451        -0.714     1.606\n",
      "C(country)[T.3]                0.9723      0.461      2.111      0.035         0.069     1.876\n",
      "C(ibd)[T.1]                   -2.0112      0.368     -5.459      0.000        -2.734    -1.289\n",
      "C(ibd)[T.2]                    0.8107      0.750      1.081      0.280        -0.660     2.281\n",
      "C(ibs)[T.1]                   -0.7853      0.203     -3.868      0.000        -1.183    -0.387\n",
      "C(ibs)[T.2]                   -0.7311      0.258     -2.838      0.005        -1.236    -0.226\n",
      "C(antibiotic_history)[T.1]    -0.5964      0.196     -3.038      0.002        -0.981    -0.211\n",
      "C(antibiotic_history)[T.2]    -1.2751      0.214     -5.948      0.000        -1.696    -0.855\n",
      "C(antibiotic_history)[T.3]    -1.6283      0.309     -5.267      0.000        -2.234    -1.022\n",
      "bloom_fraction                -2.0601      0.263     -7.843      0.000        -2.575    -1.545\n",
      "ln_age                         1.8810      0.195      9.640      0.000         1.498     2.264\n",
      "==============================================================================\n",
      "Omnibus:                       23.436   Durbin-Watson:                   2.013\n",
      "Prob(Omnibus):                  0.000   Jarque-Bera (JB):               23.967\n",
      "Skew:                           0.244   Prob(JB):                     6.25e-06\n",
      "Kurtosis:                       3.156   Cond. No.                         45.4\n",
      "==============================================================================\n",
      "\n",
      "Warnings:\n",
      "[1] Standard Errors assume that the covariance matrix of the errors is correctly specified.\n"
     ]
    }
   ],
   "source": [
    "fit1 = smf.ols('faiths_pd_1250 ~ bloom_fraction + C(country) + C(ibd) + C(ibs) + C(antibiotic_history)'\n",
    "               ' + ln_age', data=smap_numeric).fit()\n",
    "print(fit1.summary())"
   ]
  },
  {
   "cell_type": "code",
   "execution_count": 63,
   "metadata": {
    "collapsed": false
   },
   "outputs": [
    {
     "name": "stderr",
     "output_type": "stream",
     "text": [
      "/Users/jwdebelius/miniconda3/envs/agp_2017/lib/python3.6/site-packages/statsmodels/nonparametric/kdetools.py:20: VisibleDeprecationWarning: using a non-integer number instead of an integer will result in an error in the future\n",
      "  y = X[:m/2+1] + np.r_[0,X[m/2+1:],0]*1j\n"
     ]
    },
    {
     "data": {
      "text/plain": [
       "<matplotlib.axes._subplots.AxesSubplot at 0x118677c18>"
      ]
     },
     "execution_count": 63,
     "metadata": {},
     "output_type": "execute_result"
    },
    {
     "data": {
      "image/png": "[encoded data removed]",
      "text/plain": [
       "<matplotlib.figure.Figure at 0x11e2d6438>"
      ]
     },
     "metadata": {},
     "output_type": "display_data"
    }
   ],
   "source": [
    "sn.distplot(fit1.resid)"
   ]
  },
  {
   "cell_type": "code",
   "execution_count": 64,
   "metadata": {
    "collapsed": false
   },
   "outputs": [
    {
     "name": "stdout",
     "output_type": "stream",
     "text": [
      "                            OLS Regression Results                            \n",
      "==============================================================================\n",
      "Dep. Variable:         faiths_pd_1250   R-squared:                       0.178\n",
      "Model:                            OLS   Adj. R-squared:                  0.173\n",
      "Method:                 Least Squares   F-statistic:                     36.42\n",
      "Date:                Fri, 03 Nov 2017   Prob (F-statistic):           1.23e-83\n",
      "Time:                        15:06:25   Log-Likelihood:                -5654.4\n",
      "No. Observations:                2197   AIC:                         1.134e+04\n",
      "Df Residuals:                    2183   BIC:                         1.142e+04\n",
      "Df Model:                          13                                         \n",
      "Covariance Type:            nonrobust                                         \n",
      "==============================================================================================\n",
      "                                 coef    std err          t      P>|t|      [95.0% Conf. Int.]\n",
      "----------------------------------------------------------------------------------------------\n",
      "Intercept                      6.9329      0.744      9.322      0.000         5.474     8.391\n",
      "C(country)[T.1]                1.6012      0.144     11.152      0.000         1.320     1.883\n",
      "C(country)[T.2]                0.4711      0.590      0.799      0.424        -0.685     1.627\n",
      "C(country)[T.3]                0.9452      0.459      2.058      0.040         0.045     1.846\n",
      "C(ibd)[T.1]                   -1.9634      0.367     -5.343      0.000        -2.684    -1.243\n",
      "C(ibd)[T.2]                    0.8868      0.748      1.186      0.236        -0.579     2.353\n",
      "C(ibs)[T.1]                   -0.8699      0.204     -4.273      0.000        -1.269    -0.471\n",
      "C(ibs)[T.2]                   -0.7957      0.257     -3.092      0.002        -1.300    -0.291\n",
      "C(antibiotic_history)[T.1]    -0.5938      0.196     -3.034      0.002        -0.978    -0.210\n",
      "C(antibiotic_history)[T.2]    -1.2955      0.214     -6.061      0.000        -1.715    -0.876\n",
      "C(antibiotic_history)[T.3]    -1.6713      0.308     -5.420      0.000        -2.276    -1.067\n",
      "C(sex)[T.1]                   -0.5358      0.138     -3.869      0.000        -0.807    -0.264\n",
      "bloom_fraction                -2.1064      0.262     -8.037      0.000        -2.620    -1.592\n",
      "ln_age                         1.8963      0.195      9.747      0.000         1.515     2.278\n",
      "==============================================================================\n",
      "Omnibus:                       22.155   Durbin-Watson:                   2.021\n",
      "Prob(Omnibus):                  0.000   Jarque-Bera (JB):               22.611\n",
      "Skew:                           0.237   Prob(JB):                     1.23e-05\n",
      "Kurtosis:                       3.152   Cond. No.                         45.7\n",
      "==============================================================================\n",
      "\n",
      "Warnings:\n",
      "[1] Standard Errors assume that the covariance matrix of the errors is correctly specified.\n"
     ]
    }
   ],
   "source": [
    "fit1 = smf.ols('faiths_pd_1250 ~ bloom_fraction + C(country) + C(ibd) + C(ibs) + C(antibiotic_history)'\n",
    "               '+ ln_age + C(sex)', \n",
    "               data=smap_numeric).fit()\n",
    "print(fit1.summary())"
   ]
  },
  {
   "cell_type": "code",
   "execution_count": 65,
   "metadata": {
    "collapsed": false
   },
   "outputs": [
    {
     "name": "stdout",
     "output_type": "stream",
     "text": [
      "                            OLS Regression Results                            \n",
      "==============================================================================\n",
      "Dep. Variable:         faiths_pd_1250   R-squared:                       0.181\n",
      "Model:                            OLS   Adj. R-squared:                  0.176\n",
      "Method:                 Least Squares   F-statistic:                     34.52\n",
      "Date:                Fri, 03 Nov 2017   Prob (F-statistic):           1.38e-84\n",
      "Time:                        15:06:26   Log-Likelihood:                -5650.2\n",
      "No. Observations:                2197   AIC:                         1.133e+04\n",
      "Df Residuals:                    2182   BIC:                         1.142e+04\n",
      "Df Model:                          14                                         \n",
      "Covariance Type:            nonrobust                                         \n",
      "==============================================================================================\n",
      "                                 coef    std err          t      P>|t|      [95.0% Conf. Int.]\n",
      "----------------------------------------------------------------------------------------------\n",
      "Intercept                      8.8802      1.006      8.827      0.000         6.907    10.853\n",
      "C(country)[T.1]                1.6004      0.143     11.165      0.000         1.319     1.881\n",
      "C(country)[T.2]                0.4783      0.589      0.813      0.417        -0.676     1.633\n",
      "C(country)[T.3]                0.9470      0.459      2.065      0.039         0.048     1.846\n",
      "C(ibd)[T.1]                   -1.9166      0.367     -5.219      0.000        -2.637    -1.197\n",
      "C(ibd)[T.2]                    0.9962      0.747      1.333      0.183        -0.469     2.462\n",
      "C(ibs)[T.1]                   -0.8606      0.203     -4.234      0.000        -1.259    -0.462\n",
      "C(ibs)[T.2]                   -0.7769      0.257     -3.023      0.003        -1.281    -0.273\n",
      "C(antibiotic_history)[T.1]    -0.6109      0.195     -3.125      0.002        -0.994    -0.228\n",
      "C(antibiotic_history)[T.2]    -1.3145      0.213     -6.157      0.000        -1.733    -0.896\n",
      "C(antibiotic_history)[T.3]    -1.6750      0.308     -5.441      0.000        -2.279    -1.071\n",
      "C(sex)[T.1]                   -4.7469      1.474     -3.220      0.001        -7.638    -1.856\n",
      "bloom_fraction                -2.0789      0.262     -7.940      0.000        -2.592    -1.565\n",
      "ln_age                         1.3853      0.264      5.257      0.000         0.868     1.902\n",
      "ln_age:C(sex)[T.1]             1.1010      0.384      2.869      0.004         0.348     1.854\n",
      "==============================================================================\n",
      "Omnibus:                       21.175   Durbin-Watson:                   2.022\n",
      "Prob(Omnibus):                  0.000   Jarque-Bera (JB):               21.570\n",
      "Skew:                           0.231   Prob(JB):                     2.07e-05\n",
      "Kurtosis:                       3.146   Cond. No.                         113.\n",
      "==============================================================================\n",
      "\n",
      "Warnings:\n",
      "[1] Standard Errors assume that the covariance matrix of the errors is correctly specified.\n"
     ]
    }
   ],
   "source": [
    "fit1 = smf.ols('faiths_pd_1250 ~ bloom_fraction + C(country) + C(ibd) + C(ibs) + C(antibiotic_history)'\n",
    "               ' + ln_age*C(sex)', \n",
    "               data=smap_numeric).fit()\n",
    "print(fit1.summary())"
   ]
  },
  {
   "cell_type": "code",
   "execution_count": 66,
   "metadata": {
    "collapsed": false
   },
   "outputs": [
    {
     "name": "stdout",
     "output_type": "stream",
     "text": [
      "                            OLS Regression Results                            \n",
      "==============================================================================\n",
      "Dep. Variable:         faiths_pd_1250   R-squared:                       0.191\n",
      "Model:                            OLS   Adj. R-squared:                  0.185\n",
      "Method:                 Least Squares   F-statistic:                     32.19\n",
      "Date:                Fri, 03 Nov 2017   Prob (F-statistic):           1.40e-88\n",
      "Time:                        15:06:26   Log-Likelihood:                -5637.0\n",
      "No. Observations:                2197   AIC:                         1.131e+04\n",
      "Df Residuals:                    2180   BIC:                         1.140e+04\n",
      "Df Model:                          16                                         \n",
      "Covariance Type:            nonrobust                                         \n",
      "===========================================================================================\n",
      "                              coef    std err          t      P>|t|      [95.0% Conf. Int.]\n",
      "-------------------------------------------------------------------------------------------\n",
      "Intercept                   8.5867      1.023      8.392      0.000         6.580    10.593\n",
      "C(country)[T.1]             1.5065      0.144     10.464      0.000         1.224     1.789\n",
      "C(country)[T.2]             0.3306      0.586      0.564      0.573        -0.819     1.480\n",
      "C(country)[T.3]             0.9006      0.456      1.974      0.049         0.006     1.795\n",
      "C(ibd)[T.1]                -1.9015      0.365     -5.205      0.000        -2.618    -1.185\n",
      "C(ibd)[T.2]                 0.9790      0.744      1.316      0.188        -0.480     2.438\n",
      "C(ibs)[T.1]                -0.7881      0.203     -3.892      0.000        -1.185    -0.391\n",
      "C(ibs)[T.2]                -0.7789      0.255     -3.050      0.002        -1.280    -0.278\n",
      "C(sex)[T.1]                -4.7735      1.467     -3.254      0.001        -7.650    -1.897\n",
      "C(types_of_plants)[T.1]     0.1375      0.318      0.432      0.666        -0.487     0.762\n",
      "C(types_of_plants)[T.2]     0.4727      0.307      1.538      0.124        -0.130     1.075\n",
      "C(types_of_plants)[T.3]     0.9088      0.322      2.821      0.005         0.277     1.541\n",
      "C(types_of_plants)[T.4]     1.1707      0.356      3.288      0.001         0.472     1.869\n",
      "bloom_fraction             -2.1021      0.260     -8.087      0.000        -2.612    -1.592\n",
      "antibiotic_history         -0.5800      0.076     -7.586      0.000        -0.730    -0.430\n",
      "ln_age                      1.3121      0.263      4.991      0.000         0.797     1.828\n",
      "ln_age:C(sex)[T.1]          1.1351      0.382      2.973      0.003         0.386     1.884\n",
      "==============================================================================\n",
      "Omnibus:                       20.014   Durbin-Watson:                   2.021\n",
      "Prob(Omnibus):                  0.000   Jarque-Bera (JB):               20.328\n",
      "Skew:                           0.226   Prob(JB):                     3.85e-05\n",
      "Kurtosis:                       3.131   Cond. No.                         115.\n",
      "==============================================================================\n",
      "\n",
      "Warnings:\n",
      "[1] Standard Errors assume that the covariance matrix of the errors is correctly specified.\n"
     ]
    }
   ],
   "source": [
    "fit1 = smf.ols('faiths_pd_1250 ~ bloom_fraction + C(country) + C(ibd) + C(ibs) + antibiotic_history + ln_age*C(sex)'\n",
    "               '+ C(types_of_plants)', \n",
    "               data=smap_numeric).fit()\n",
    "print(fit1.summary())"
   ]
  },
  {
   "cell_type": "code",
   "execution_count": 67,
   "metadata": {
    "collapsed": false
   },
   "outputs": [
    {
     "name": "stdout",
     "output_type": "stream",
     "text": [
      "                            OLS Regression Results                            \n",
      "==============================================================================\n",
      "Dep. Variable:         faiths_pd_1250   R-squared:                       0.211\n",
      "Model:                            OLS   Adj. R-squared:                  0.205\n",
      "Method:                 Least Squares   F-statistic:                     32.42\n",
      "Date:                Fri, 03 Nov 2017   Prob (F-statistic):           1.14e-98\n",
      "Time:                        15:06:27   Log-Likelihood:                -5609.3\n",
      "No. Observations:                2197   AIC:                         1.126e+04\n",
      "Df Residuals:                    2178   BIC:                         1.136e+04\n",
      "Df Model:                          18                                         \n",
      "Covariance Type:            nonrobust                                         \n",
      "===========================================================================================\n",
      "                              coef    std err          t      P>|t|      [95.0% Conf. Int.]\n",
      "-------------------------------------------------------------------------------------------\n",
      "Intercept                   9.3935      1.017      9.234      0.000         7.399    11.388\n",
      "C(country)[T.1]             1.4470      0.143     10.150      0.000         1.167     1.727\n",
      "C(country)[T.2]             0.2299      0.579      0.397      0.691        -0.906     1.366\n",
      "C(country)[T.3]             0.8373      0.451      1.856      0.064        -0.047     1.722\n",
      "C(ibd)[T.1]                -1.9650      0.361     -5.442      0.000        -2.673    -1.257\n",
      "C(ibd)[T.2]                 0.8313      0.735      1.131      0.258        -0.610     2.273\n",
      "C(ibs)[T.1]                -0.8015      0.200     -4.006      0.000        -1.194    -0.409\n",
      "C(ibs)[T.2]                -0.8025      0.252     -3.180      0.001        -1.297    -0.308\n",
      "C(sex)[T.1]                -4.2076      1.452     -2.899      0.004        -7.054    -1.361\n",
      "C(types_of_plants)[T.1]     0.0794      0.315      0.253      0.801        -0.537     0.696\n",
      "C(types_of_plants)[T.2]     0.3462      0.304      1.139      0.255        -0.250     0.943\n",
      "C(types_of_plants)[T.3]     0.7727      0.319      2.424      0.015         0.147     1.398\n",
      "C(types_of_plants)[T.4]     1.0643      0.352      3.022      0.003         0.374     1.755\n",
      "C(race)[T.1]               -2.0763      0.321     -6.460      0.000        -2.707    -1.446\n",
      "C(race)[T.2]               -1.5944      0.389     -4.103      0.000        -2.356    -0.832\n",
      "bloom_fraction             -2.2091      0.257     -8.587      0.000        -2.714    -1.705\n",
      "antibiotic_history         -0.5794      0.076     -7.671      0.000        -0.728    -0.431\n",
      "ln_age                      1.1765      0.261      4.516      0.000         0.666     1.687\n",
      "ln_age:C(sex)[T.1]          0.9996      0.378      2.646      0.008         0.259     1.740\n",
      "==============================================================================\n",
      "Omnibus:                       21.711   Durbin-Watson:                   2.020\n",
      "Prob(Omnibus):                  0.000   Jarque-Bera (JB):               22.235\n",
      "Skew:                           0.230   Prob(JB):                     1.49e-05\n",
      "Kurtosis:                       3.177   Cond. No.                         115.\n",
      "==============================================================================\n",
      "\n",
      "Warnings:\n",
      "[1] Standard Errors assume that the covariance matrix of the errors is correctly specified.\n"
     ]
    }
   ],
   "source": [
    "fit1 = smf.ols('faiths_pd_1250 ~ bloom_fraction + C(country) + C(ibd) + C(ibs) + antibiotic_history '\n",
    "               ' + ln_age*C(sex) + C(types_of_plants) + C(race)', \n",
    "               data=smap_numeric).fit()\n",
    "print(fit1.summary())"
   ]
  },
  {
   "cell_type": "code",
   "execution_count": 68,
   "metadata": {
    "collapsed": false
   },
   "outputs": [
    {
     "name": "stdout",
     "output_type": "stream",
     "text": [
      "                            OLS Regression Results                            \n",
      "==============================================================================\n",
      "Dep. Variable:         faiths_pd_1250   R-squared:                       0.213\n",
      "Model:                            OLS   Adj. R-squared:                  0.205\n",
      "Method:                 Least Squares   F-statistic:                     25.59\n",
      "Date:                Fri, 03 Nov 2017   Prob (F-statistic):           5.06e-96\n",
      "Time:                        15:06:27   Log-Likelihood:                -5606.8\n",
      "No. Observations:                2197   AIC:                         1.126e+04\n",
      "Df Residuals:                    2173   BIC:                         1.140e+04\n",
      "Df Model:                          23                                         \n",
      "Covariance Type:            nonrobust                                         \n",
      "==============================================================================================\n",
      "                                 coef    std err          t      P>|t|      [95.0% Conf. Int.]\n",
      "----------------------------------------------------------------------------------------------\n",
      "Intercept                      8.8774      1.050      8.457      0.000         6.819    10.936\n",
      "C(country)[T.1]                1.4514      0.143     10.164      0.000         1.171     1.731\n",
      "C(country)[T.2]                0.1826      0.580      0.315      0.753        -0.955     1.320\n",
      "C(country)[T.3]                0.8229      0.452      1.822      0.069        -0.063     1.708\n",
      "C(ibd)[T.1]                   -1.9530      0.362     -5.401      0.000        -2.662    -1.244\n",
      "C(ibd)[T.2]                    0.8640      0.736      1.174      0.241        -0.579     2.307\n",
      "C(ibs)[T.1]                   -0.7927      0.200     -3.957      0.000        -1.186    -0.400\n",
      "C(ibs)[T.2]                   -0.7879      0.253     -3.115      0.002        -1.284    -0.292\n",
      "C(antibiotic_history)[T.1]    -0.5531      0.193     -2.862      0.004        -0.932    -0.174\n",
      "C(antibiotic_history)[T.2]    -1.2124      0.211     -5.757      0.000        -1.625    -0.799\n",
      "C(antibiotic_history)[T.3]    -1.6065      0.303     -5.295      0.000        -2.202    -1.012\n",
      "C(sex)[T.1]                   -4.2855      1.453     -2.949      0.003        -7.135    -1.436\n",
      "C(types_of_plants)[T.1]        0.0392      0.316      0.124      0.901        -0.580     0.658\n",
      "C(types_of_plants)[T.2]        0.2968      0.305      0.972      0.331        -0.302     0.895\n",
      "C(types_of_plants)[T.3]        0.7294      0.320      2.281      0.023         0.102     1.356\n",
      "C(types_of_plants)[T.4]        1.0055      0.354      2.843      0.005         0.312     1.699\n",
      "C(race)[T.1]                  -1.9941      0.324     -6.146      0.000        -2.630    -1.358\n",
      "C(race)[T.2]                  -1.5802      0.389     -4.061      0.000        -2.343    -0.817\n",
      "C(sleep_duration)[T.1]         0.3784      0.228      1.661      0.097        -0.068     0.825\n",
      "C(sleep_duration)[T.2]         0.4141      0.223      1.860      0.063        -0.023     0.851\n",
      "C(sleep_duration)[T.3]         0.5709      0.278      2.051      0.040         0.025     1.117\n",
      "bloom_fraction                -2.2416      0.258     -8.674      0.000        -2.748    -1.735\n",
      "ln_age                         1.2234      0.262      4.674      0.000         0.710     1.737\n",
      "ln_age:C(sex)[T.1]             1.0218      0.378      2.702      0.007         0.280     1.764\n",
      "==============================================================================\n",
      "Omnibus:                       22.203   Durbin-Watson:                   2.018\n",
      "Prob(Omnibus):                  0.000   Jarque-Bera (JB):               22.826\n",
      "Skew:                           0.230   Prob(JB):                     1.11e-05\n",
      "Kurtosis:                       3.193   Cond. No.                         115.\n",
      "==============================================================================\n",
      "\n",
      "Warnings:\n",
      "[1] Standard Errors assume that the covariance matrix of the errors is correctly specified.\n"
     ]
    }
   ],
   "source": [
    "fit1 = smf.ols('faiths_pd_1250 ~ bloom_fraction + C(country) + C(ibd) + C(ibs) + C(antibiotic_history) + '\n",
    "               'ln_age*C(sex) + C(types_of_plants) + C(race) + C(sleep_duration)', \n",
    "               data=smap_numeric).fit()\n",
    "print(fit1.summary())"
   ]
  },
  {
   "cell_type": "code",
   "execution_count": 69,
   "metadata": {
    "collapsed": false
   },
   "outputs": [
    {
     "name": "stdout",
     "output_type": "stream",
     "text": [
      "                            OLS Regression Results                            \n",
      "==============================================================================\n",
      "Dep. Variable:         faiths_pd_1250   R-squared:                       0.222\n",
      "Model:                            OLS   Adj. R-squared:                  0.213\n",
      "Method:                 Least Squares   F-statistic:                     24.74\n",
      "Date:                Fri, 03 Nov 2017   Prob (F-statistic):           1.32e-99\n",
      "Time:                        15:06:28   Log-Likelihood:                -5594.7\n",
      "No. Observations:                2197   AIC:                         1.124e+04\n",
      "Df Residuals:                    2171   BIC:                         1.139e+04\n",
      "Df Model:                          25                                         \n",
      "Covariance Type:            nonrobust                                         \n",
      "==================================================================================================\n",
      "                                     coef    std err          t      P>|t|      [95.0% Conf. Int.]\n",
      "--------------------------------------------------------------------------------------------------\n",
      "Intercept                          8.8926      1.045      8.511      0.000         6.844    10.942\n",
      "C(country)[T.1]                    1.4616      0.142     10.264      0.000         1.182     1.741\n",
      "C(country)[T.2]                    0.2963      0.578      0.513      0.608        -0.837     1.429\n",
      "C(country)[T.3]                    0.7371      0.450      1.639      0.101        -0.145     1.619\n",
      "C(ibd)[T.1]                       -1.7418      0.363     -4.802      0.000        -2.453    -1.030\n",
      "C(ibd)[T.2]                        0.7955      0.733      1.086      0.278        -0.641     2.232\n",
      "C(ibs)[T.1]                       -0.6565      0.205     -3.196      0.001        -1.059    -0.254\n",
      "C(ibs)[T.2]                       -0.6667      0.254     -2.625      0.009        -1.165    -0.169\n",
      "C(antibiotic_history)[T.1]        -0.5512      0.192     -2.867      0.004        -0.928    -0.174\n",
      "C(antibiotic_history)[T.2]        -1.2511      0.210     -5.963      0.000        -1.662    -0.840\n",
      "C(antibiotic_history)[T.3]        -1.5793      0.302     -5.228      0.000        -2.172    -0.987\n",
      "C(sex)[T.1]                       -4.0966      1.446     -2.832      0.005        -6.933    -1.260\n",
      "C(types_of_plants)[T.1]            0.0199      0.314      0.063      0.950        -0.596     0.636\n",
      "C(types_of_plants)[T.2]            0.2831      0.304      0.932      0.352        -0.313     0.879\n",
      "C(types_of_plants)[T.3]            0.6879      0.318      2.160      0.031         0.063     1.312\n",
      "C(types_of_plants)[T.4]            1.0014      0.353      2.841      0.005         0.310     1.693\n",
      "C(race)[T.1]                      -1.9949      0.323     -6.179      0.000        -2.628    -1.362\n",
      "C(race)[T.2]                      -1.5341      0.387     -3.961      0.000        -2.294    -0.775\n",
      "C(sleep_duration)[T.1]             0.3694      0.227      1.627      0.104        -0.076     0.815\n",
      "C(sleep_duration)[T.2]             0.4221      0.222      1.903      0.057        -0.013     0.857\n",
      "C(sleep_duration)[T.3]             0.5777      0.277      2.084      0.037         0.034     1.121\n",
      "C(bowel_movement_quality)[T.1]    -0.8809      0.198     -4.449      0.000        -1.269    -0.493\n",
      "C(bowel_movement_quality)[T.2]     0.2986      0.240      1.246      0.213        -0.171     0.769\n",
      "bloom_fraction                    -2.1975      0.257     -8.541      0.000        -2.702    -1.693\n",
      "ln_age                             1.2343      0.260      4.739      0.000         0.723     1.745\n",
      "ln_age:C(sex)[T.1]                 0.9812      0.376      2.606      0.009         0.243     1.720\n",
      "==============================================================================\n",
      "Omnibus:                       19.478   Durbin-Watson:                   2.014\n",
      "Prob(Omnibus):                  0.000   Jarque-Bera (JB):               19.775\n",
      "Skew:                           0.222   Prob(JB):                     5.08e-05\n",
      "Kurtosis:                       3.135   Cond. No.                         116.\n",
      "==============================================================================\n",
      "\n",
      "Warnings:\n",
      "[1] Standard Errors assume that the covariance matrix of the errors is correctly specified.\n"
     ]
    }
   ],
   "source": [
    "fit1 = smf.ols('faiths_pd_1250 ~ bloom_fraction + C(country) + C(ibd) + C(ibs) + C(antibiotic_history) + '\n",
    "               'ln_age*C(sex) + C(types_of_plants) + C(race) + C(sleep_duration) + C(bowel_movement_quality)', \n",
    "               data=smap_numeric).fit()\n",
    "print(fit1.summary())"
   ]
  },
  {
   "cell_type": "code",
   "execution_count": 77,
   "metadata": {
    "collapsed": false
   },
   "outputs": [
    {
     "name": "stdout",
     "output_type": "stream",
     "text": [
      "                            OLS Regression Results                            \n",
      "==============================================================================\n",
      "Dep. Variable:         faiths_pd_1250   R-squared:                       0.223\n",
      "Model:                            OLS   Adj. R-squared:                  0.213\n",
      "Method:                 Least Squares   F-statistic:                     23.91\n",
      "Date:                Fri, 03 Nov 2017   Prob (F-statistic):           1.92e-99\n",
      "Time:                        15:12:12   Log-Likelihood:                -5593.4\n",
      "No. Observations:                2197   AIC:                         1.124e+04\n",
      "Df Residuals:                    2170   BIC:                         1.139e+04\n",
      "Df Model:                          26                                         \n",
      "Covariance Type:            nonrobust                                         \n",
      "==================================================================================================\n",
      "                                     coef    std err          t      P>|t|      [95.0% Conf. Int.]\n",
      "--------------------------------------------------------------------------------------------------\n",
      "Intercept                          8.8928      1.045      8.514      0.000         6.844    10.941\n",
      "C(country)[T.1]                    1.4683      0.142     10.310      0.000         1.189     1.748\n",
      "C(country)[T.2]                    0.2888      0.578      0.500      0.617        -0.844     1.422\n",
      "C(country)[T.3]                    0.7561      0.450      1.682      0.093        -0.126     1.638\n",
      "C(ibd)[T.1]                       -1.7455      0.363     -4.814      0.000        -2.457    -1.034\n",
      "C(ibd)[T.2]                        0.7940      0.732      1.084      0.278        -0.642     2.230\n",
      "C(ibs)[T.1]                       -0.6378      0.206     -3.101      0.002        -1.041    -0.234\n",
      "C(ibs)[T.2]                       -0.6550      0.254     -2.579      0.010        -1.153    -0.157\n",
      "C(antibiotic_history)[T.1]        -0.5569      0.192     -2.897      0.004        -0.934    -0.180\n",
      "C(antibiotic_history)[T.2]        -1.2531      0.210     -5.975      0.000        -1.664    -0.842\n",
      "C(antibiotic_history)[T.3]        -1.5811      0.302     -5.236      0.000        -2.173    -0.989\n",
      "C(sex)[T.1]                       -4.1608      1.446     -2.877      0.004        -6.997    -1.324\n",
      "C(types_of_plants)[T.1]            0.0232      0.314      0.074      0.941        -0.592     0.639\n",
      "C(types_of_plants)[T.2]            0.2957      0.304      0.973      0.331        -0.300     0.891\n",
      "C(types_of_plants)[T.3]            0.7023      0.318      2.206      0.028         0.078     1.327\n",
      "C(types_of_plants)[T.4]            1.0159      0.352      2.882      0.004         0.325     1.707\n",
      "C(race)[T.1]                      -2.0190      0.323     -6.250      0.000        -2.653    -1.385\n",
      "C(race)[T.2]                      -1.5390      0.387     -3.975      0.000        -2.298    -0.780\n",
      "C(sleep_duration)[T.1]             0.3654      0.227      1.610      0.108        -0.080     0.810\n",
      "C(sleep_duration)[T.2]             0.4278      0.222      1.929      0.054        -0.007     0.863\n",
      "C(sleep_duration)[T.3]             0.5644      0.277      2.036      0.042         0.021     1.108\n",
      "C(bowel_movement_quality)[T.1]    -0.8667      0.198     -4.375      0.000        -1.255    -0.478\n",
      "C(bowel_movement_quality)[T.2]     0.3011      0.240      1.256      0.209        -0.169     0.771\n",
      "C(chickenpox)[T.1]                -0.3554      0.221     -1.606      0.108        -0.789     0.078\n",
      "bloom_fraction                    -2.1972      0.257     -8.543      0.000        -2.702    -1.693\n",
      "ln_age                             1.3126      0.265      4.955      0.000         0.793     1.832\n",
      "ln_age:C(sex)[T.1]                 0.9976      0.376      2.650      0.008         0.259     1.736\n",
      "==============================================================================\n",
      "Omnibus:                       20.388   Durbin-Watson:                   2.016\n",
      "Prob(Omnibus):                  0.000   Jarque-Bera (JB):               20.734\n",
      "Skew:                           0.227   Prob(JB):                     3.14e-05\n",
      "Kurtosis:                       3.140   Cond. No.                         118.\n",
      "==============================================================================\n",
      "\n",
      "Warnings:\n",
      "[1] Standard Errors assume that the covariance matrix of the errors is correctly specified.\n"
     ]
    }
   ],
   "source": [
    "fit1 = smf.ols('faiths_pd_1250 ~ bloom_fraction + C(country) + C(ibd) + C(ibs) + C(antibiotic_history) + '\n",
    "               'ln_age*C(sex) + C(types_of_plants) + C(race) + C(sleep_duration) + C(bowel_movement_quality)'\n",
    "               '+ C(chickenpox)', \n",
    "               data=smap_numeric).fit()\n",
    "print(fit1.summary())"
   ]
  },
  {
   "cell_type": "code",
   "execution_count": 78,
   "metadata": {
    "collapsed": false
   },
   "outputs": [
    {
     "name": "stderr",
     "output_type": "stream",
     "text": [
      "/Users/jwdebelius/miniconda3/envs/agp_2017/lib/python3.6/site-packages/statsmodels/nonparametric/kdetools.py:20: VisibleDeprecationWarning: using a non-integer number instead of an integer will result in an error in the future\n",
      "  y = X[:m/2+1] + np.r_[0,X[m/2+1:],0]*1j\n"
     ]
    },
    {
     "data": {
      "text/plain": [
       "<matplotlib.axes._subplots.AxesSubplot at 0x122b47470>"
      ]
     },
     "execution_count": 78,
     "metadata": {},
     "output_type": "execute_result"
    },
    {
     "data": {
      "image/png": "[encoded data removed]",
      "text/plain": [
       "<matplotlib.figure.Figure at 0x11b46d320>"
      ]
     },
     "metadata": {},
     "output_type": "display_data"
    }
   ],
   "source": [
    "sn.distplot(fit1.resid)"
   ]
  },
  {
   "cell_type": "code",
   "execution_count": 79,
   "metadata": {
    "collapsed": true
   },
   "outputs": [],
   "source": [
    "summary = fit1.summary()"
   ]
  },
  {
   "cell_type": "code",
   "execution_count": 81,
   "metadata": {
    "collapsed": false
   },
   "outputs": [
    {
     "name": "stdout",
     "output_type": "stream",
     "text": [
      "                            OLS Regression Results                            \n",
      "==============================================================================\n",
      "Dep. Variable:         faiths_pd_1250   R-squared:                       0.234\n",
      "Model:                            OLS   Adj. R-squared:                  0.225\n",
      "Method:                 Least Squares   F-statistic:                     24.59\n",
      "Date:                Fri, 03 Nov 2017   Prob (F-statistic):          1.22e-105\n",
      "Time:                        15:12:30   Log-Likelihood:                -5576.6\n",
      "No. Observations:                2197   AIC:                         1.121e+04\n",
      "Df Residuals:                    2169   BIC:                         1.137e+04\n",
      "Df Model:                          27                                         \n",
      "Covariance Type:            nonrobust                                         \n",
      "==================================================================================================\n",
      "                                     coef    std err          t      P>|t|      [95.0% Conf. Int.]\n",
      "--------------------------------------------------------------------------------------------------\n",
      "Intercept                         10.5118      1.074      9.786      0.000         8.405    12.618\n",
      "C(country)[T.1]                    1.4792      0.141     10.462      0.000         1.202     1.756\n",
      "C(country)[T.2]                    0.3899      0.574      0.680      0.497        -0.735     1.515\n",
      "C(country)[T.3]                    0.7787      0.446      1.745      0.081        -0.097     1.654\n",
      "C(ibd)[T.1]                       -1.7803      0.360     -4.945      0.000        -2.486    -1.074\n",
      "C(ibd)[T.2]                        0.8202      0.727      1.128      0.259        -0.605     2.246\n",
      "C(ibs)[T.1]                       -0.6450      0.204     -3.159      0.002        -1.045    -0.245\n",
      "C(ibs)[T.2]                       -0.6755      0.252     -2.679      0.007        -1.170    -0.181\n",
      "C(antibiotic_history)[T.1]        -0.5350      0.191     -2.803      0.005        -0.909    -0.161\n",
      "C(antibiotic_history)[T.2]        -1.1972      0.208     -5.744      0.000        -1.606    -0.788\n",
      "C(antibiotic_history)[T.3]        -1.5715      0.300     -5.242      0.000        -2.159    -0.984\n",
      "C(sex)[T.1]                       -3.9708      1.436     -2.765      0.006        -6.787    -1.155\n",
      "C(types_of_plants)[T.1]           -0.0030      0.312     -0.010      0.992        -0.614     0.608\n",
      "C(types_of_plants)[T.2]            0.2338      0.302      0.775      0.439        -0.358     0.826\n",
      "C(types_of_plants)[T.3]            0.5801      0.317      1.831      0.067        -0.041     1.201\n",
      "C(types_of_plants)[T.4]            0.8570      0.351      2.442      0.015         0.169     1.545\n",
      "C(race)[T.1]                      -2.1300      0.321     -6.630      0.000        -2.760    -1.500\n",
      "C(race)[T.2]                      -1.5505      0.384     -4.034      0.000        -2.304    -0.797\n",
      "C(sleep_duration)[T.1]             0.2866      0.226      1.270      0.204        -0.156     0.729\n",
      "C(sleep_duration)[T.2]             0.3127      0.221      1.415      0.157        -0.121     0.746\n",
      "C(sleep_duration)[T.3]             0.4475      0.276      1.622      0.105        -0.094     0.989\n",
      "C(bowel_movement_quality)[T.1]    -0.8256      0.197     -4.195      0.000        -1.211    -0.440\n",
      "C(bowel_movement_quality)[T.2]     0.2859      0.238      1.202      0.230        -0.181     0.752\n",
      "C(chickenpox)[T.1]                -0.3266      0.220     -1.487      0.137        -0.757     0.104\n",
      "bloom_fraction                    -2.1847      0.255     -8.557      0.000        -2.685    -1.684\n",
      "ln_age                             1.5201      0.265      5.728      0.000         1.000     2.041\n",
      "ln_age:C(sex)[T.1]                 0.9805      0.374      2.623      0.009         0.248     1.713\n",
      "bmi_corrected                     -0.0968      0.017     -5.767      0.000        -0.130    -0.064\n",
      "==============================================================================\n",
      "Omnibus:                       18.529   Durbin-Watson:                   2.027\n",
      "Prob(Omnibus):                  0.000   Jarque-Bera (JB):               18.927\n",
      "Skew:                           0.209   Prob(JB):                     7.76e-05\n",
      "Kurtosis:                       3.177   Cond. No.                         638.\n",
      "==============================================================================\n",
      "\n",
      "Warnings:\n",
      "[1] Standard Errors assume that the covariance matrix of the errors is correctly specified.\n"
     ]
    }
   ],
   "source": [
    "fit1 = smf.ols('faiths_pd_1250 ~ bloom_fraction + C(country) + C(ibd) + C(ibs) + C(antibiotic_history) + '\n",
    "               'ln_age*C(sex) + C(types_of_plants) + C(race) + C(sleep_duration) + C(bowel_movement_quality)'\n",
    "               '+ C(chickenpox) + bmi_corrected', \n",
    "               data=smap_numeric).fit()\n",
    "print(fit1.summary())"
   ]
  },
  {
   "cell_type": "code",
   "execution_count": 82,
   "metadata": {
    "collapsed": false
   },
   "outputs": [
    {
     "name": "stdout",
     "output_type": "stream",
     "text": [
      "                            OLS Regression Results                            \n",
      "==============================================================================\n",
      "Dep. Variable:         faiths_pd_1250   R-squared:                       0.223\n",
      "Model:                            OLS   Adj. R-squared:                  0.213\n",
      "Method:                 Least Squares   F-statistic:                     23.91\n",
      "Date:                Fri, 03 Nov 2017   Prob (F-statistic):           1.92e-99\n",
      "Time:                        15:12:37   Log-Likelihood:                -5593.4\n",
      "No. Observations:                2197   AIC:                         1.124e+04\n",
      "Df Residuals:                    2170   BIC:                         1.139e+04\n",
      "Df Model:                          26                                         \n",
      "Covariance Type:            nonrobust                                         \n",
      "==================================================================================================\n",
      "                                     coef    std err          t      P>|t|      [95.0% Conf. Int.]\n",
      "--------------------------------------------------------------------------------------------------\n",
      "Intercept                          8.8928      1.045      8.514      0.000         6.844    10.941\n",
      "C(country)[T.1]                    1.4683      0.142     10.310      0.000         1.189     1.748\n",
      "C(country)[T.2]                    0.2888      0.578      0.500      0.617        -0.844     1.422\n",
      "C(country)[T.3]                    0.7561      0.450      1.682      0.093        -0.126     1.638\n",
      "C(ibd)[T.1]                       -1.7455      0.363     -4.814      0.000        -2.457    -1.034\n",
      "C(ibd)[T.2]                        0.7940      0.732      1.084      0.278        -0.642     2.230\n",
      "C(ibs)[T.1]                       -0.6378      0.206     -3.101      0.002        -1.041    -0.234\n",
      "C(ibs)[T.2]                       -0.6550      0.254     -2.579      0.010        -1.153    -0.157\n",
      "C(antibiotic_history)[T.1]        -0.5569      0.192     -2.897      0.004        -0.934    -0.180\n",
      "C(antibiotic_history)[T.2]        -1.2531      0.210     -5.975      0.000        -1.664    -0.842\n",
      "C(antibiotic_history)[T.3]        -1.5811      0.302     -5.236      0.000        -2.173    -0.989\n",
      "C(sex)[T.1]                       -4.1608      1.446     -2.877      0.004        -6.997    -1.324\n",
      "C(types_of_plants)[T.1]            0.0232      0.314      0.074      0.941        -0.592     0.639\n",
      "C(types_of_plants)[T.2]            0.2957      0.304      0.973      0.331        -0.300     0.891\n",
      "C(types_of_plants)[T.3]            0.7023      0.318      2.206      0.028         0.078     1.327\n",
      "C(types_of_plants)[T.4]            1.0159      0.352      2.882      0.004         0.325     1.707\n",
      "C(race)[T.1]                      -2.0190      0.323     -6.250      0.000        -2.653    -1.385\n",
      "C(race)[T.2]                      -1.5390      0.387     -3.975      0.000        -2.298    -0.780\n",
      "C(sleep_duration)[T.1]             0.3654      0.227      1.610      0.108        -0.080     0.810\n",
      "C(sleep_duration)[T.2]             0.4278      0.222      1.929      0.054        -0.007     0.863\n",
      "C(sleep_duration)[T.3]             0.5644      0.277      2.036      0.042         0.021     1.108\n",
      "C(bowel_movement_quality)[T.1]    -0.8667      0.198     -4.375      0.000        -1.255    -0.478\n",
      "C(bowel_movement_quality)[T.2]     0.3011      0.240      1.256      0.209        -0.169     0.771\n",
      "C(chickenpox)[T.1]                -0.3554      0.221     -1.606      0.108        -0.789     0.078\n",
      "bloom_fraction                    -2.1972      0.257     -8.543      0.000        -2.702    -1.693\n",
      "ln_age                             1.3126      0.265      4.955      0.000         0.793     1.832\n",
      "ln_age:C(sex)[T.1]                 0.9976      0.376      2.650      0.008         0.259     1.736\n",
      "==============================================================================\n",
      "Omnibus:                       20.388   Durbin-Watson:                   2.016\n",
      "Prob(Omnibus):                  0.000   Jarque-Bera (JB):               20.734\n",
      "Skew:                           0.227   Prob(JB):                     3.14e-05\n",
      "Kurtosis:                       3.140   Cond. No.                         118.\n",
      "==============================================================================\n",
      "\n",
      "Warnings:\n",
      "[1] Standard Errors assume that the covariance matrix of the errors is correctly specified.\n"
     ]
    }
   ],
   "source": [
    "fit1 = smf.ols('faiths_pd_1250 ~ bloom_fraction + C(country) + C(ibd) + C(ibs) + C(antibiotic_history) + '\n",
    "               'ln_age*C(sex) + C(types_of_plants) + C(race) + C(sleep_duration) + C(bowel_movement_quality)'\n",
    "               '+ C(chickenpox)', \n",
    "               data=smap_numeric).fit()\n",
    "print(fit1.summary())"
   ]
  },
  {
   "cell_type": "code",
   "execution_count": 85,
   "metadata": {
    "collapsed": false
   },
   "outputs": [
    {
     "data": {
      "text/plain": [
       "'                      OLS Regression Results                      \\nDep. Variable:   ,faiths_pd_1250  ,  R-squared:         ,   0.223 \\nModel:           ,OLS             ,  Adj. R-squared:    ,   0.213 \\nMethod:          ,Least Squares   ,  F-statistic:       ,   23.91 \\nDate:            ,Fri, 03 Nov 2017,  Prob (F-statistic):,1.92e-99 \\nTime:            ,15:13:10        ,  Log-Likelihood:    , -5593.4 \\nNo. Observations:,  2197          ,  AIC:               ,1.124e+04\\nDf Residuals:    ,  2170          ,  BIC:               ,1.139e+04\\nDf Model:        ,    26          ,                     ,         \\nCovariance Type: ,nonrobust       ,                     ,         \\n                              ,   coef   , std err ,    t    ,P>|t| , [95.0% Conf. Int.]\\nIntercept                     ,    8.8928,    1.045,    8.514, 0.000,    6.844    10.941\\nC(country)[T.1]               ,    1.4683,    0.142,   10.310, 0.000,    1.189     1.748\\nC(country)[T.2]               ,    0.2888,    0.578,    0.500, 0.617,   -0.844     1.422\\nC(country)[T.3]               ,    0.7561,    0.450,    1.682, 0.093,   -0.126     1.638\\nC(ibd)[T.1]                   ,   -1.7455,    0.363,   -4.814, 0.000,   -2.457    -1.034\\nC(ibd)[T.2]                   ,    0.7940,    0.732,    1.084, 0.278,   -0.642     2.230\\nC(ibs)[T.1]                   ,   -0.6378,    0.206,   -3.101, 0.002,   -1.041    -0.234\\nC(ibs)[T.2]                   ,   -0.6550,    0.254,   -2.579, 0.010,   -1.153    -0.157\\nC(antibiotic_history)[T.1]    ,   -0.5569,    0.192,   -2.897, 0.004,   -0.934    -0.180\\nC(antibiotic_history)[T.2]    ,   -1.2531,    0.210,   -5.975, 0.000,   -1.664    -0.842\\nC(antibiotic_history)[T.3]    ,   -1.5811,    0.302,   -5.236, 0.000,   -2.173    -0.989\\nC(sex)[T.1]                   ,   -4.1608,    1.446,   -2.877, 0.004,   -6.997    -1.324\\nC(types_of_plants)[T.1]       ,    0.0232,    0.314,    0.074, 0.941,   -0.592     0.639\\nC(types_of_plants)[T.2]       ,    0.2957,    0.304,    0.973, 0.331,   -0.300     0.891\\nC(types_of_plants)[T.3]       ,    0.7023,    0.318,    2.206, 0.028,    0.078     1.327\\nC(types_of_plants)[T.4]       ,    1.0159,    0.352,    2.882, 0.004,    0.325     1.707\\nC(race)[T.1]                  ,   -2.0190,    0.323,   -6.250, 0.000,   -2.653    -1.385\\nC(race)[T.2]                  ,   -1.5390,    0.387,   -3.975, 0.000,   -2.298    -0.780\\nC(sleep_duration)[T.1]        ,    0.3654,    0.227,    1.610, 0.108,   -0.080     0.810\\nC(sleep_duration)[T.2]        ,    0.4278,    0.222,    1.929, 0.054,   -0.007     0.863\\nC(sleep_duration)[T.3]        ,    0.5644,    0.277,    2.036, 0.042,    0.021     1.108\\nC(bowel_movement_quality)[T.1],   -0.8667,    0.198,   -4.375, 0.000,   -1.255    -0.478\\nC(bowel_movement_quality)[T.2],    0.3011,    0.240,    1.256, 0.209,   -0.169     0.771\\nC(chickenpox)[T.1]            ,   -0.3554,    0.221,   -1.606, 0.108,   -0.789     0.078\\nbloom_fraction                ,   -2.1972,    0.257,   -8.543, 0.000,   -2.702    -1.693\\nln_age                        ,    1.3126,    0.265,    4.955, 0.000,    0.793     1.832\\nln_age:C(sex)[T.1]            ,    0.9976,    0.376,    2.650, 0.008,    0.259     1.736\\nOmnibus:      ,20.388,  Durbin-Watson:     ,   2.016\\nProb(Omnibus):, 0.000,  Jarque-Bera (JB):  ,  20.734\\nSkew:         , 0.227,  Prob(JB):          ,3.14e-05\\nKurtosis:     , 3.140,  Cond. No.          ,    118.'"
      ]
     },
     "execution_count": 85,
     "metadata": {},
     "output_type": "execute_result"
    }
   ],
   "source": [
    "fit1.summary().as_csv()"
   ]
  },
  {
   "cell_type": "code",
   "execution_count": 92,
   "metadata": {
    "collapsed": false
   },
   "outputs": [
    {
     "data": {
      "text/plain": [
       "array([  3.09299961e-17,   2.29366337e-24,   6.17141725e-01,\n",
       "         9.27598624e-02,   1.58522297e-06,   2.78367467e-01,\n",
       "         1.95368175e-03,   9.96388322e-03,   3.80963098e-03,\n",
       "         2.67942950e-09,   1.80094617e-07,   4.05712361e-03,\n",
       "         9.40986700e-01,   3.30638874e-01,   2.75195600e-02,\n",
       "         3.98898121e-03,   4.93869620e-10,   7.27667350e-05,\n",
       "         1.07540722e-01,   5.38551859e-02,   4.18947355e-02,\n",
       "         1.27170627e-05,   2.09111666e-01,   1.08309593e-01,\n",
       "         2.42772878e-17,   7.78673694e-07,   8.11871096e-03])"
      ]
     },
     "execution_count": 92,
     "metadata": {},
     "output_type": "execute_result"
    }
   ],
   "source": [
    "fit1.pvalues.values"
   ]
  },
  {
   "cell_type": "code",
   "execution_count": null,
   "metadata": {
    "collapsed": true
   },
   "outputs": [],
   "source": []
  }
 ],
 "metadata": {
  "kernelspec": {
   "display_name": "Python 3",
   "language": "python",
   "name": "python3"
  },
  "language_info": {
   "codemirror_mode": {
    "name": "ipython",
    "version": 3
   },
   "file_extension": ".py",
   "mimetype": "text/x-python",
   "name": "python",
   "nbconvert_exporter": "python",
   "pygments_lexer": "ipython3",
   "version": "3.6.0"
  }
 },
 "nbformat": 4,
 "nbformat_minor": 2
}
