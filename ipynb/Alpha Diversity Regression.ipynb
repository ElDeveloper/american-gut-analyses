{
 "cells": [
  {
   "cell_type": "markdown",
   "metadata": {},
   "source": [
    "**Author**: Justine Debelius<br>\n",
    "**email**: jdebelius@ucsd.edu<br>\n",
    "**enviroment**: agp_2017<br>\n",
    "**Date**: 16 May 2017<br>\n",
    "**Update**: 3 November 2017"
   ]
  },
  {
   "cell_type": "markdown",
   "metadata": {},
   "source": [
    "This notebook will build a linear regression comparing the alpha diversity of participants in the American Gut to covariates fo interest.\n",
    "\n",
    "We're going to focus on a subset of the participants. Namely, we're going to look at individuals living in the US and UK with a BMI of less than 40."
   ]
  },
  {
   "cell_type": "code",
   "execution_count": 1,
   "metadata": {
    "collapsed": false
   },
   "outputs": [],
   "source": [
    "import matplotlib.pyplot as plt\n",
    "import numpy as np\n",
    "import pandas as pd\n",
    "import patsy\n",
    "import scipy\n",
    "import skbio\n",
    "import seaborn as sn\n",
    "import statsmodels.api as sms\n",
    "import statsmodels.formula.api as smf\n",
    "\n",
    "%matplotlib inline"
   ]
  },
  {
   "cell_type": "markdown",
   "metadata": {},
   "source": [
    "We'll start by loading the study metadata and converting the alpha diversity, age, and BMI to floats."
   ]
  },
  {
   "cell_type": "code",
   "execution_count": 3,
   "metadata": {
    "collapsed": false
   },
   "outputs": [],
   "source": [
    "map_ = pd.read_csv('./ag_map_with_alpha.txt', sep='\\t', dtype=str)\n",
    "map_.set_index('#SampleID', inplace=True)\n",
    "\n",
    "map_.replace('Unspecified', np.nan, inplace=True)"
   ]
  },
  {
   "cell_type": "code",
   "execution_count": 4,
   "metadata": {
    "collapsed": false
   },
   "outputs": [],
   "source": [
    "map_['faiths_pd_1250'] = map_['faiths_pd_1250'].astype(float)"
   ]
  },
  {
   "cell_type": "code",
   "execution_count": 5,
   "metadata": {
    "collapsed": false
   },
   "outputs": [],
   "source": [
    "map_['age_corrected'] = map_['age_corrected'].astype(float)\n",
    "map_.loc[map_['age_corrected'] > 105, 'age_corrected'] = np.nan\n",
    "\n",
    "map_['bmi_corrected'] = map_['bmi_corrected'].astype(float)"
   ]
  },
  {
   "cell_type": "markdown",
   "metadata": {},
   "source": [
    "Next, we'll load the bloom percentage file, and add that to the mapping file."
   ]
  },
  {
   "cell_type": "code",
   "execution_count": 6,
   "metadata": {
    "collapsed": true
   },
   "outputs": [],
   "source": [
    "bloom = pd.read_csv('./ag-bloom-fractions-125nt.txt', sep='\\t', dtype=str)\n",
    "bloom.set_index('#SampleID', inplace=True)"
   ]
  },
  {
   "cell_type": "code",
   "execution_count": 7,
   "metadata": {
    "collapsed": false
   },
   "outputs": [],
   "source": [
    "map_['bloom_fraction'] = bloom['bloom_fraction'].astype(float)"
   ]
  },
  {
   "cell_type": "markdown",
   "metadata": {},
   "source": [
    "We're going to only look at samples from the US, UK, Australia and Canada, since these represent about 92% of the samples in the data set. We'll also limit the data based on BMI, limit the data set to participants who have provided their sex and male and female. "
   ]
  },
  {
   "cell_type": "code",
   "execution_count": 11,
   "metadata": {
    "collapsed": false
   },
   "outputs": [],
   "source": [
    "def filter_map(x):\n",
    "    country = x['country'] in {'USA', 'United Kingdom', 'Canada', 'Australia'}\n",
    "    bmi = (x['bmi_corrected'] < 40) and (pd.isnull(x['bmi_corrected']) == False)\n",
    "    sex = x['sex'] in {'male', 'female'}\n",
    "    poo = x['bowel_movement_quality'] not in {\"I don't know, I do not have a point of reference\"}\n",
    "    race = x['race'] in {'Caucasian', 'Asian or Pacific Islander', 'Other'}\n",
    "    pox = x['chickenpox'] in {'No', 'Yes'}\n",
    "    \n",
    "    return country & bmi & sex & poo & race & pox"
   ]
  },
  {
   "cell_type": "code",
   "execution_count": 12,
   "metadata": {
    "collapsed": true
   },
   "outputs": [],
   "source": [
    "study_columns = [\n",
    "    'center_project_name',\n",
    "    'age_corrected', \n",
    "    'age_cat',\n",
    "    'alcohol_frequency', \n",
    "    'antibiotic_history',\n",
    "    'bmi_corrected', \n",
    "    'bowel_movement_quality', \n",
    "    'ibd', \n",
    "    'ibs',\n",
    "    'country', \n",
    "    'race', \n",
    "    'types_of_plants',\n",
    "    'sex', \n",
    "    'sleep_duration', \n",
    "    'faiths_pd_1250',\n",
    "    'chickenpox',\n",
    "    'bloom_fraction'\n",
    "    ]"
   ]
  },
  {
   "cell_type": "code",
   "execution_count": 15,
   "metadata": {
    "collapsed": true
   },
   "outputs": [],
   "source": [
    "fmap_ = map_.loc[map_.apply(filter_map, axis=1)]\n",
    "dmap_ = fmap_[study_columns].dropna()"
   ]
  },
  {
   "cell_type": "markdown",
   "metadata": {},
   "source": [
    "We'll also filter the map to remove any center project name category with less than 100 samples, so that if we chose to include it in the regression, we have enough groups that it won't lead to weird behavior."
   ]
  },
  {
   "cell_type": "code",
   "execution_count": 18,
   "metadata": {
    "collapsed": false
   },
   "outputs": [],
   "source": [
    "cpn_counts = dmap_['center_project_name'].value_counts()\n",
    "cpn_filter = set(cpn_counts.index[cpn_counts > 100])"
   ]
  },
  {
   "cell_type": "code",
   "execution_count": 19,
   "metadata": {
    "collapsed": false
   },
   "outputs": [],
   "source": [
    "smap_ = dmap_.loc[dmap_['center_project_name'].apply(lambda x: x in cpn_filter)]"
   ]
  },
  {
   "cell_type": "markdown",
   "metadata": {},
   "source": [
    "We're going to do some additional clean up, to make life easier? \n",
    "\n",
    "So, we'll combine the self diagnosed or alternative medicate practioner diagnosis into a `non medical diagnosis` category. This allows us to keep the individuals, but combines the groups.\n",
    "\n",
    "We'll rename the alcohol frequency, antibiotic history, bowel movement quality, and to make them prettier in the regression.<br>\n",
    "We'll also combine people who took antibiotics in the last week and the last month, since the last week is also part of the last month.<br>\n",
    "We'll also combine the sleep durations of less than 6 hours (Less than 5 and 5 - 6).\n",
    "\n"
   ]
  },
  {
   "cell_type": "markdown",
   "metadata": {},
   "source": [
    "We're going to code the data using numeric codeing, since this will be easier for patsy to handle.\n",
    "We'll also do some work to build combinations.\n",
    "\n",
    "We're going to combine the antibiotics in the last week and in the last month. <br>\n",
    "For both IBD and IBS, we will combine people who were idagnosed by an alternative medicine practioner or self diagnosed individuals into a different category."
   ]
  },
  {
   "cell_type": "code",
   "execution_count": 20,
   "metadata": {
    "collapsed": true
   },
   "outputs": [],
   "source": [
    "numeric_coding = {'alcohol_frequency': {'Never': 0,\n",
    "                                        'Rarely (a few times/month)': 1,\n",
    "                                        'Occasionally (1-2 times/week)': 2,\n",
    "                                        'Regularly (3-5 times/week)': 3,\n",
    "                                        'Daily': 4,\n",
    "                                        },\n",
    "                  'antibiotic_history': {'I have not taken antibiotics in the past year.': 0,\n",
    "                                         'Year': 1,\n",
    "                                         '6 months': 2,\n",
    "                                         'Month': 3,\n",
    "                                         'Week': 3,\n",
    "                                         },\n",
    "                  'bowel_movement_quality': {'I tend to have normal formed stool': 0,\n",
    "                                             'I tend to have diarrhea (watery stool)': 1,\n",
    "                                             'I tend to be constipated (have difficulty passing stool)': 2,\n",
    "                                             },\n",
    "                  'chickenpox': {'No': 0,\n",
    "                                 'Yes': 1,\n",
    "                                },\n",
    "                  'country': {'USA': 0,\n",
    "                              'United Kingdom': 1,\n",
    "                              'Canada': 2,\n",
    "                              'Australia': 3,\n",
    "                              },\n",
    "                  'ibd': {'I do not have this condition': 0,\n",
    "                          'Diagnosed by a medical professional (doctor, physician assistant)': 1,\n",
    "                          'Self-diagnosed': 2,\n",
    "                          'Diagnosed by an alternative medicine practitioner': 2,\n",
    "                          },\n",
    "                  'ibs': {'I do not have this condition': 0,\n",
    "                          'Diagnosed by a medical professional (doctor, physician assistant)': 1,\n",
    "                          'Self-diagnosed': 2,\n",
    "                          'Diagnosed by an alternative medicine practitioner': 2,\n",
    "                          },\n",
    "                  'race': {\"Caucasian\": 0,\n",
    "                           'Asian or Pacific Islander': 1,\n",
    "                           'Other': 2,\n",
    "                           },\n",
    "                  'sex': {'female': 0, \n",
    "                          'male': 1},\n",
    "                  'sleep_duration': {'Less than 5 hours': 0,\n",
    "                                     '5-6 hours': 0,\n",
    "                                     '6-7 hours': 1,\n",
    "                                     '7-8 hours': 2,\n",
    "                                     '8 or more hours': 3,\n",
    "                                     },\n",
    "                  'types_of_plants': {'Less than 5': 0,\n",
    "                                      '6 to 10': 1,\n",
    "                                      '11 to 20': 2,\n",
    "                                      '21 to 30': 3,\n",
    "                                      'More than 30': 4,\n",
    "                                      },\n",
    "                  }"
   ]
  },
  {
   "cell_type": "code",
   "execution_count": 21,
   "metadata": {
    "collapsed": false,
    "scrolled": true
   },
   "outputs": [],
   "source": [
    "smap_numeric = smap_.replace(numeric_coding)"
   ]
  },
  {
   "cell_type": "code",
   "execution_count": 22,
   "metadata": {
    "collapsed": true
   },
   "outputs": [],
   "source": [
    "smap_numeric['ln_age'] = np.log(smap_numeric['age_corrected'] + 1)"
   ]
  },
  {
   "cell_type": "code",
   "execution_count": 23,
   "metadata": {
    "collapsed": true
   },
   "outputs": [],
   "source": [
    "smap_numeric.to_csv('./coded_regression_map_5k.txt', sep='\\t', index_label='#SampleID')"
   ]
  },
  {
   "cell_type": "code",
   "execution_count": 24,
   "metadata": {
    "collapsed": false
   },
   "outputs": [
    {
     "name": "stdout",
     "output_type": "stream",
     "text": [
      "/Users/jwdebelius/Repositories/american-gut-analyses/ipynb\r\n"
     ]
    }
   ],
   "source": [
    "!pwd"
   ]
  },
  {
   "cell_type": "markdown",
   "metadata": {},
   "source": [
    "Next, we'll build a regression including the covariate we're potentially interested in."
   ]
  },
  {
   "cell_type": "markdown",
   "metadata": {},
   "source": [
    "Next, we'll build a function that will let us preform a step-wise selection based on a decrease in the AIC, an increase in the adjusted $R^{2}$ and not blowing up the condition number."
   ]
  },
  {
   "cell_type": "code",
   "execution_count": 25,
   "metadata": {
    "collapsed": false
   },
   "outputs": [
    {
     "name": "stdout",
     "output_type": "stream",
     "text": [
      "                            OLS Regression Results                            \n",
      "==============================================================================\n",
      "Dep. Variable:         faiths_pd_1250   R-squared:                       0.020\n",
      "Model:                            OLS   Adj. R-squared:                  0.019\n",
      "Method:                 Least Squares   F-statistic:                     43.18\n",
      "Date:                Sun, 05 Nov 2017   Prob (F-statistic):           6.26e-11\n",
      "Time:                        13:59:21   Log-Likelihood:                -5719.1\n",
      "No. Observations:                2149   AIC:                         1.144e+04\n",
      "Df Residuals:                    2147   BIC:                         1.145e+04\n",
      "Df Model:                           1                                         \n",
      "Covariance Type:            nonrobust                                         \n",
      "==================================================================================\n",
      "                     coef    std err          t      P>|t|      [95.0% Conf. Int.]\n",
      "----------------------------------------------------------------------------------\n",
      "Intercept         14.0161      0.097    144.456      0.000        13.826    14.206\n",
      "bloom_fraction    -1.8529      0.282     -6.571      0.000        -2.406    -1.300\n",
      "==============================================================================\n",
      "Omnibus:                       31.919   Durbin-Watson:                   1.967\n",
      "Prob(Omnibus):                  0.000   Jarque-Bera (JB):               33.123\n",
      "Skew:                           0.304   Prob(JB):                     6.42e-08\n",
      "Kurtosis:                       2.988   Cond. No.                         3.97\n",
      "==============================================================================\n",
      "\n",
      "Warnings:\n",
      "[1] Standard Errors assume that the covariance matrix of the errors is correctly specified.\n"
     ]
    }
   ],
   "source": [
    "fit1 = smf.ols('faiths_pd_1250 ~ bloom_fraction', data=smap_numeric).fit()\n",
    "print(fit1.summary())"
   ]
  },
  {
   "cell_type": "code",
   "execution_count": 26,
   "metadata": {
    "collapsed": false
   },
   "outputs": [
    {
     "name": "stdout",
     "output_type": "stream",
     "text": [
      "                            OLS Regression Results                            \n",
      "==============================================================================\n",
      "Dep. Variable:         faiths_pd_1250   R-squared:                       0.082\n",
      "Model:                            OLS   Adj. R-squared:                  0.080\n",
      "Method:                 Least Squares   F-statistic:                     47.76\n",
      "Date:                Sun, 05 Nov 2017   Prob (F-statistic):           1.61e-38\n",
      "Time:                        13:59:22   Log-Likelihood:                -5648.8\n",
      "No. Observations:                2149   AIC:                         1.131e+04\n",
      "Df Residuals:                    2144   BIC:                         1.134e+04\n",
      "Df Model:                           4                                         \n",
      "Covariance Type:            nonrobust                                         \n",
      "===================================================================================\n",
      "                      coef    std err          t      P>|t|      [95.0% Conf. Int.]\n",
      "-----------------------------------------------------------------------------------\n",
      "Intercept          13.2536      0.114    116.481      0.000        13.030    13.477\n",
      "C(country)[T.1]     1.7894      0.149     12.034      0.000         1.498     2.081\n",
      "C(country)[T.2]     0.7303      0.631      1.157      0.247        -0.507     1.968\n",
      "C(country)[T.3]     1.0301      0.483      2.133      0.033         0.083     1.977\n",
      "bloom_fraction     -2.0066      0.275     -7.301      0.000        -2.546    -1.468\n",
      "==============================================================================\n",
      "Omnibus:                       26.865   Durbin-Watson:                   2.000\n",
      "Prob(Omnibus):                  0.000   Jarque-Bera (JB):               27.559\n",
      "Skew:                           0.269   Prob(JB):                     1.04e-06\n",
      "Kurtosis:                       3.136   Cond. No.                         9.86\n",
      "==============================================================================\n",
      "\n",
      "Warnings:\n",
      "[1] Standard Errors assume that the covariance matrix of the errors is correctly specified.\n"
     ]
    }
   ],
   "source": [
    "fit1 = smf.ols('faiths_pd_1250 ~ bloom_fraction + C(country)', data=smap_numeric).fit()\n",
    "print(fit1.summary())"
   ]
  },
  {
   "cell_type": "code",
   "execution_count": 27,
   "metadata": {
    "collapsed": false
   },
   "outputs": [
    {
     "name": "stdout",
     "output_type": "stream",
     "text": [
      "                            OLS Regression Results                            \n",
      "==============================================================================\n",
      "Dep. Variable:         faiths_pd_1250   R-squared:                       0.100\n",
      "Model:                            OLS   Adj. R-squared:                  0.097\n",
      "Method:                 Least Squares   F-statistic:                     39.67\n",
      "Date:                Sun, 05 Nov 2017   Prob (F-statistic):           5.70e-46\n",
      "Time:                        13:59:22   Log-Likelihood:                -5627.3\n",
      "No. Observations:                2149   AIC:                         1.127e+04\n",
      "Df Residuals:                    2142   BIC:                         1.131e+04\n",
      "Df Model:                           6                                         \n",
      "Covariance Type:            nonrobust                                         \n",
      "===================================================================================\n",
      "                      coef    std err          t      P>|t|      [95.0% Conf. Int.]\n",
      "-----------------------------------------------------------------------------------\n",
      "Intercept          13.3348      0.113    117.593      0.000        13.112    13.557\n",
      "C(country)[T.1]     1.7559      0.148     11.900      0.000         1.467     2.045\n",
      "C(country)[T.2]     0.6271      0.625      1.003      0.316        -0.599     1.853\n",
      "C(country)[T.3]     1.0012      0.478      2.092      0.037         0.063     1.940\n",
      "C(ibd)[T.1]        -2.5464      0.387     -6.579      0.000        -3.305    -1.787\n",
      "C(ibd)[T.2]        -0.0153      0.788     -0.019      0.985        -1.561     1.531\n",
      "bloom_fraction     -1.8857      0.273     -6.909      0.000        -2.421    -1.350\n",
      "==============================================================================\n",
      "Omnibus:                       31.116   Durbin-Watson:                   1.992\n",
      "Prob(Omnibus):                  0.000   Jarque-Bera (JB):               32.100\n",
      "Skew:                           0.296   Prob(JB):                     1.07e-07\n",
      "Kurtosis:                       3.088   Cond. No.                         12.4\n",
      "==============================================================================\n",
      "\n",
      "Warnings:\n",
      "[1] Standard Errors assume that the covariance matrix of the errors is correctly specified.\n"
     ]
    }
   ],
   "source": [
    "fit1 = smf.ols('faiths_pd_1250 ~ bloom_fraction + C(country) + C(ibd)', data=smap_numeric).fit()\n",
    "print(fit1.summary())"
   ]
  },
  {
   "cell_type": "code",
   "execution_count": 28,
   "metadata": {
    "collapsed": false
   },
   "outputs": [
    {
     "name": "stdout",
     "output_type": "stream",
     "text": [
      "                            OLS Regression Results                            \n",
      "==============================================================================\n",
      "Dep. Variable:         faiths_pd_1250   R-squared:                       0.093\n",
      "Model:                            OLS   Adj. R-squared:                  0.090\n",
      "Method:                 Least Squares   F-statistic:                     31.27\n",
      "Date:                Sun, 05 Nov 2017   Prob (F-statistic):           1.68e-41\n",
      "Time:                        13:59:22   Log-Likelihood:                -5635.9\n",
      "No. Observations:                2149   AIC:                         1.129e+04\n",
      "Df Residuals:                    2141   BIC:                         1.133e+04\n",
      "Df Model:                           7                                         \n",
      "Covariance Type:            nonrobust                                         \n",
      "===================================================================================\n",
      "                      coef    std err          t      P>|t|      [95.0% Conf. Int.]\n",
      "-----------------------------------------------------------------------------------\n",
      "Intercept          13.1012      0.103    127.042      0.000        12.899    13.303\n",
      "C(country)[T.1]     1.8416      0.150     12.282      0.000         1.548     2.136\n",
      "C(country)[T.2]     0.7205      0.628      1.147      0.251        -0.511     1.952\n",
      "C(country)[T.3]     0.7235      0.478      1.514      0.130        -0.214     1.661\n",
      "C(ibd)[T.1]        -2.5633      0.390     -6.570      0.000        -3.328    -1.798\n",
      "C(ibd)[T.2]         0.4788      0.804      0.596      0.551        -1.097     2.055\n",
      "C(ibs)[T.1]        -0.9819      0.213     -4.604      0.000        -1.400    -0.564\n",
      "C(ibs)[T.2]        -0.9879      0.274     -3.607      0.000        -1.525    -0.451\n",
      "==============================================================================\n",
      "Omnibus:                       28.459   Durbin-Watson:                   1.996\n",
      "Prob(Omnibus):                  0.000   Jarque-Bera (JB):               29.239\n",
      "Skew:                           0.281   Prob(JB):                     4.47e-07\n",
      "Kurtosis:                       3.106   Cond. No.                         12.5\n",
      "==============================================================================\n",
      "\n",
      "Warnings:\n",
      "[1] Standard Errors assume that the covariance matrix of the errors is correctly specified.\n"
     ]
    }
   ],
   "source": [
    "fit1 = smf.ols('faiths_pd_1250 ~ C(country) + C(ibd) + C(ibs)', data=smap_numeric).fit()\n",
    "print(fit1.summary())"
   ]
  },
  {
   "cell_type": "code",
   "execution_count": 29,
   "metadata": {
    "collapsed": false
   },
   "outputs": [
    {
     "name": "stdout",
     "output_type": "stream",
     "text": [
      "                            OLS Regression Results                            \n",
      "==============================================================================\n",
      "Dep. Variable:         faiths_pd_1250   R-squared:                       0.135\n",
      "Model:                            OLS   Adj. R-squared:                  0.131\n",
      "Method:                 Least Squares   F-statistic:                     30.44\n",
      "Date:                Sun, 05 Nov 2017   Prob (F-statistic):           2.94e-60\n",
      "Time:                        13:59:22   Log-Likelihood:                -5584.1\n",
      "No. Observations:                2149   AIC:                         1.119e+04\n",
      "Df Residuals:                    2137   BIC:                         1.126e+04\n",
      "Df Model:                          11                                         \n",
      "Covariance Type:            nonrobust                                         \n",
      "==============================================================================================\n",
      "                                 coef    std err          t      P>|t|      [95.0% Conf. Int.]\n",
      "----------------------------------------------------------------------------------------------\n",
      "Intercept                     13.7827      0.123    112.386      0.000        13.542    14.023\n",
      "C(country)[T.1]                1.7853      0.147     12.118      0.000         1.496     2.074\n",
      "C(country)[T.2]                0.5480      0.614      0.892      0.372        -0.656     1.752\n",
      "C(country)[T.3]                1.2066      0.470      2.566      0.010         0.284     2.129\n",
      "C(ibd)[T.1]                   -2.2651      0.383     -5.919      0.000        -3.016    -1.515\n",
      "C(ibd)[T.2]                    0.6222      0.786      0.792      0.429        -0.919     2.164\n",
      "C(ibs)[T.1]                   -0.8132      0.210     -3.876      0.000        -1.225    -0.402\n",
      "C(ibs)[T.2]                   -0.8355      0.269     -3.111      0.002        -1.362    -0.309\n",
      "C(antibiotic_history)[T.1]    -0.5956      0.203     -2.927      0.003        -0.995    -0.197\n",
      "C(antibiotic_history)[T.2]    -1.2987      0.221     -5.864      0.000        -1.733    -0.864\n",
      "C(antibiotic_history)[T.3]    -1.6634      0.321     -5.178      0.000        -2.293    -1.033\n",
      "bloom_fraction                -1.7368      0.269     -6.454      0.000        -2.265    -1.209\n",
      "==============================================================================\n",
      "Omnibus:                       31.569   Durbin-Watson:                   1.987\n",
      "Prob(Omnibus):                  0.000   Jarque-Bera (JB):               32.579\n",
      "Skew:                           0.297   Prob(JB):                     8.43e-08\n",
      "Kurtosis:                       3.109   Cond. No.                         13.0\n",
      "==============================================================================\n",
      "\n",
      "Warnings:\n",
      "[1] Standard Errors assume that the covariance matrix of the errors is correctly specified.\n"
     ]
    }
   ],
   "source": [
    "fit1 = smf.ols('faiths_pd_1250 ~ bloom_fraction + C(country) + C(ibd) + C(ibs) + C(antibiotic_history)', data=smap_numeric).fit()\n",
    "print(fit1.summary())"
   ]
  },
  {
   "cell_type": "code",
   "execution_count": 30,
   "metadata": {
    "collapsed": false
   },
   "outputs": [
    {
     "name": "stdout",
     "output_type": "stream",
     "text": [
      "                            OLS Regression Results                            \n",
      "==============================================================================\n",
      "Dep. Variable:         faiths_pd_1250   R-squared:                       0.167\n",
      "Model:                            OLS   Adj. R-squared:                  0.162\n",
      "Method:                 Least Squares   F-statistic:                     32.86\n",
      "Date:                Sun, 05 Nov 2017   Prob (F-statistic):           2.38e-75\n",
      "Time:                        13:59:22   Log-Likelihood:                -5544.5\n",
      "No. Observations:                2149   AIC:                         1.112e+04\n",
      "Df Residuals:                    2135   BIC:                         1.120e+04\n",
      "Df Model:                          13                                         \n",
      "Covariance Type:            nonrobust                                         \n",
      "==============================================================================================\n",
      "                                 coef    std err          t      P>|t|      [95.0% Conf. Int.]\n",
      "----------------------------------------------------------------------------------------------\n",
      "Intercept                     14.0552      0.124    113.122      0.000        13.812    14.299\n",
      "C(country)[T.1]                1.6749      0.145     11.521      0.000         1.390     1.960\n",
      "C(country)[T.2]                0.3997      0.603      0.662      0.508        -0.784     1.583\n",
      "C(country)[T.3]                1.0797      0.462      2.335      0.020         0.173     1.986\n",
      "C(ibd)[T.1]                   -2.2802      0.376     -6.064      0.000        -3.018    -1.543\n",
      "C(ibd)[T.2]                    0.4983      0.772      0.645      0.519        -1.016     2.013\n",
      "C(ibs)[T.1]                   -0.8284      0.206     -4.019      0.000        -1.233    -0.424\n",
      "C(ibs)[T.2]                   -0.8684      0.264     -3.292      0.001        -1.386    -0.351\n",
      "C(antibiotic_history)[T.1]    -0.6019      0.200     -3.012      0.003        -0.994    -0.210\n",
      "C(antibiotic_history)[T.2]    -1.2574      0.218     -5.777      0.000        -1.684    -0.831\n",
      "C(antibiotic_history)[T.3]    -1.6912      0.316     -5.359      0.000        -2.310    -1.072\n",
      "C(race)[T.1]                  -2.5279      0.331     -7.633      0.000        -3.177    -1.878\n",
      "C(race)[T.2]                  -2.0053      0.402     -4.989      0.000        -2.794    -1.217\n",
      "bloom_fraction                -1.9085      0.265     -7.201      0.000        -2.428    -1.389\n",
      "==============================================================================\n",
      "Omnibus:                       32.842   Durbin-Watson:                   1.987\n",
      "Prob(Omnibus):                  0.000   Jarque-Bera (JB):               34.017\n",
      "Skew:                           0.297   Prob(JB):                     4.10e-08\n",
      "Kurtosis:                       3.165   Cond. No.                         13.0\n",
      "==============================================================================\n",
      "\n",
      "Warnings:\n",
      "[1] Standard Errors assume that the covariance matrix of the errors is correctly specified.\n"
     ]
    }
   ],
   "source": [
    "fit1 = smf.ols('faiths_pd_1250 ~ bloom_fraction + C(country) + C(ibd) + C(ibs) '\n",
    "               '+ C(antibiotic_history) + C(race)', data=smap_numeric).fit()\n",
    "print(fit1.summary())"
   ]
  },
  {
   "cell_type": "code",
   "execution_count": 31,
   "metadata": {
    "collapsed": false
   },
   "outputs": [
    {
     "name": "stdout",
     "output_type": "stream",
     "text": [
      "                            OLS Regression Results                            \n",
      "==============================================================================\n",
      "Dep. Variable:         faiths_pd_1250   R-squared:                       0.171\n",
      "Model:                            OLS   Adj. R-squared:                  0.166\n",
      "Method:                 Least Squares   F-statistic:                     36.69\n",
      "Date:                Sun, 05 Nov 2017   Prob (F-statistic):           2.11e-78\n",
      "Time:                        13:59:23   Log-Likelihood:                -5539.1\n",
      "No. Observations:                2149   AIC:                         1.110e+04\n",
      "Df Residuals:                    2136   BIC:                         1.118e+04\n",
      "Df Model:                          12                                         \n",
      "Covariance Type:            nonrobust                                         \n",
      "==============================================================================================\n",
      "                                 coef    std err          t      P>|t|      [95.0% Conf. Int.]\n",
      "----------------------------------------------------------------------------------------------\n",
      "Intercept                     11.8243      0.238     49.760      0.000        11.358    12.290\n",
      "C(country)[T.1]                1.6292      0.145     11.218      0.000         1.344     1.914\n",
      "C(country)[T.2]                0.4037      0.602      0.671      0.502        -0.776     1.584\n",
      "C(country)[T.3]                0.9819      0.461      2.129      0.033         0.078     1.886\n",
      "C(ibd)[T.1]                   -2.0097      0.376     -5.347      0.000        -2.747    -1.273\n",
      "C(ibd)[T.2]                    0.7155      0.770      0.929      0.353        -0.794     2.226\n",
      "C(ibs)[T.1]                   -0.7884      0.206     -3.836      0.000        -1.191    -0.385\n",
      "C(ibs)[T.2]                   -0.7015      0.263     -2.663      0.008        -1.218    -0.185\n",
      "C(antibiotic_history)[T.1]    -0.6227      0.199     -3.124      0.002        -1.014    -0.232\n",
      "C(antibiotic_history)[T.2]    -1.2962      0.217     -5.975      0.000        -1.722    -0.871\n",
      "C(antibiotic_history)[T.3]    -1.6709      0.315     -5.310      0.000        -2.288    -1.054\n",
      "bloom_fraction                -2.0079      0.265     -7.574      0.000        -2.528    -1.488\n",
      "age_corrected                  0.0436      0.005      9.551      0.000         0.035     0.053\n",
      "==============================================================================\n",
      "Omnibus:                       24.095   Durbin-Watson:                   2.006\n",
      "Prob(Omnibus):                  0.000   Jarque-Bera (JB):               24.764\n",
      "Skew:                           0.246   Prob(JB):                     4.19e-06\n",
      "Kurtosis:                       3.183   Cond. No.                         559.\n",
      "==============================================================================\n",
      "\n",
      "Warnings:\n",
      "[1] Standard Errors assume that the covariance matrix of the errors is correctly specified.\n"
     ]
    }
   ],
   "source": [
    "fit1 = smf.ols('faiths_pd_1250 ~ bloom_fraction + C(country) + C(ibd) + C(ibs) + C(antibiotic_history)'\n",
    "               ' + age_corrected', data=smap_numeric).fit()\n",
    "print(fit1.summary())"
   ]
  },
  {
   "cell_type": "code",
   "execution_count": 32,
   "metadata": {
    "collapsed": false
   },
   "outputs": [
    {
     "name": "stderr",
     "output_type": "stream",
     "text": [
      "/Users/jwdebelius/miniconda3/envs/agp_2017/lib/python3.6/site-packages/statsmodels/nonparametric/kdetools.py:20: VisibleDeprecationWarning: using a non-integer number instead of an integer will result in an error in the future\n",
      "  y = X[:m/2+1] + np.r_[0,X[m/2+1:],0]*1j\n"
     ]
    },
    {
     "data": {
      "text/plain": [
       "<matplotlib.axes._subplots.AxesSubplot at 0x111797128>"
      ]
     },
     "execution_count": 32,
     "metadata": {},
     "output_type": "execute_result"
    },
    {
     "data": {
      "image/png": "[encoded data removed]",
      "text/plain": [
       "<matplotlib.figure.Figure at 0x1118164e0>"
      ]
     },
     "metadata": {},
     "output_type": "display_data"
    }
   ],
   "source": [
    "sn.distplot(fit1.resid)"
   ]
  },
  {
   "cell_type": "code",
   "execution_count": 33,
   "metadata": {
    "collapsed": false
   },
   "outputs": [
    {
     "name": "stdout",
     "output_type": "stream",
     "text": [
      "                            OLS Regression Results                            \n",
      "==============================================================================\n",
      "Dep. Variable:         faiths_pd_1250   R-squared:                       0.172\n",
      "Model:                            OLS   Adj. R-squared:                  0.167\n",
      "Method:                 Least Squares   F-statistic:                     36.98\n",
      "Date:                Sun, 05 Nov 2017   Prob (F-statistic):           5.17e-79\n",
      "Time:                        13:59:23   Log-Likelihood:                -5537.7\n",
      "No. Observations:                2149   AIC:                         1.110e+04\n",
      "Df Residuals:                    2136   BIC:                         1.118e+04\n",
      "Df Model:                          12                                         \n",
      "Covariance Type:            nonrobust                                         \n",
      "==============================================================================================\n",
      "                                 coef    std err          t      P>|t|      [95.0% Conf. Int.]\n",
      "----------------------------------------------------------------------------------------------\n",
      "Intercept                      6.6002      0.750      8.805      0.000         5.130     8.070\n",
      "C(country)[T.1]                1.6117      0.145     11.091      0.000         1.327     1.897\n",
      "C(country)[T.2]                0.4091      0.601      0.680      0.496        -0.770     1.588\n",
      "C(country)[T.3]                0.9500      0.461      2.061      0.039         0.046     1.854\n",
      "C(ibd)[T.1]                   -1.9949      0.376     -5.310      0.000        -2.732    -1.258\n",
      "C(ibd)[T.2]                    0.6980      0.769      0.907      0.364        -0.811     2.207\n",
      "C(ibs)[T.1]                   -0.8065      0.205     -3.927      0.000        -1.209    -0.404\n",
      "C(ibs)[T.2]                   -0.7253      0.263     -2.757      0.006        -1.241    -0.209\n",
      "C(antibiotic_history)[T.1]    -0.5985      0.199     -3.005      0.003        -0.989    -0.208\n",
      "C(antibiotic_history)[T.2]    -1.2879      0.217     -5.940      0.000        -1.713    -0.863\n",
      "C(antibiotic_history)[T.3]    -1.6321      0.314     -5.190      0.000        -2.249    -1.015\n",
      "bloom_fraction                -2.0276      0.265     -7.648      0.000        -2.548    -1.508\n",
      "ln_age                         1.9110      0.197      9.707      0.000         1.525     2.297\n",
      "==============================================================================\n",
      "Omnibus:                       23.655   Durbin-Watson:                   2.007\n",
      "Prob(Omnibus):                  0.000   Jarque-Bera (JB):               24.250\n",
      "Skew:                           0.246   Prob(JB):                     5.42e-06\n",
      "Kurtosis:                       3.171   Cond. No.                         45.2\n",
      "==============================================================================\n",
      "\n",
      "Warnings:\n",
      "[1] Standard Errors assume that the covariance matrix of the errors is correctly specified.\n"
     ]
    }
   ],
   "source": [
    "fit1 = smf.ols('faiths_pd_1250 ~ bloom_fraction + C(country) + C(ibd) + C(ibs) + C(antibiotic_history)'\n",
    "               ' + ln_age', data=smap_numeric).fit()\n",
    "print(fit1.summary())"
   ]
  },
  {
   "cell_type": "code",
   "execution_count": 34,
   "metadata": {
    "collapsed": false
   },
   "outputs": [
    {
     "name": "stderr",
     "output_type": "stream",
     "text": [
      "/Users/jwdebelius/miniconda3/envs/agp_2017/lib/python3.6/site-packages/statsmodels/nonparametric/kdetools.py:20: VisibleDeprecationWarning: using a non-integer number instead of an integer will result in an error in the future\n",
      "  y = X[:m/2+1] + np.r_[0,X[m/2+1:],0]*1j\n"
     ]
    },
    {
     "data": {
      "text/plain": [
       "<matplotlib.axes._subplots.AxesSubplot at 0x1116b9278>"
      ]
     },
     "execution_count": 34,
     "metadata": {},
     "output_type": "execute_result"
    },
    {
     "data": {
      "image/png": "[encoded data removed]",
      "text/plain": [
       "<matplotlib.figure.Figure at 0x1221f5b70>"
      ]
     },
     "metadata": {},
     "output_type": "display_data"
    }
   ],
   "source": [
    "sn.distplot(fit1.resid)"
   ]
  },
  {
   "cell_type": "code",
   "execution_count": 35,
   "metadata": {
    "collapsed": false
   },
   "outputs": [
    {
     "name": "stdout",
     "output_type": "stream",
     "text": [
      "                            OLS Regression Results                            \n",
      "==============================================================================\n",
      "Dep. Variable:         faiths_pd_1250   R-squared:                       0.178\n",
      "Model:                            OLS   Adj. R-squared:                  0.173\n",
      "Method:                 Least Squares   F-statistic:                     35.46\n",
      "Date:                Sun, 05 Nov 2017   Prob (F-statistic):           2.82e-81\n",
      "Time:                        13:59:23   Log-Likelihood:                -5530.4\n",
      "No. Observations:                2149   AIC:                         1.109e+04\n",
      "Df Residuals:                    2135   BIC:                         1.117e+04\n",
      "Df Model:                          13                                         \n",
      "Covariance Type:            nonrobust                                         \n",
      "==============================================================================================\n",
      "                                 coef    std err          t      P>|t|      [95.0% Conf. Int.]\n",
      "----------------------------------------------------------------------------------------------\n",
      "Intercept                      6.8263      0.750      9.107      0.000         5.356     8.296\n",
      "C(country)[T.1]                1.5728      0.145     10.831      0.000         1.288     1.858\n",
      "C(country)[T.2]                0.4233      0.599      0.706      0.480        -0.752     1.599\n",
      "C(country)[T.3]                0.9226      0.460      2.007      0.045         0.021     1.824\n",
      "C(ibd)[T.1]                   -1.9496      0.375     -5.204      0.000        -2.684    -1.215\n",
      "C(ibd)[T.2]                    0.7570      0.767      0.987      0.324        -0.747     2.261\n",
      "C(ibs)[T.1]                   -0.8920      0.206     -4.331      0.000        -1.296    -0.488\n",
      "C(ibs)[T.2]                   -0.7896      0.263     -3.005      0.003        -1.305    -0.274\n",
      "C(antibiotic_history)[T.1]    -0.5978      0.199     -3.011      0.003        -0.987    -0.208\n",
      "C(antibiotic_history)[T.2]    -1.3096      0.216     -6.057      0.000        -1.734    -0.886\n",
      "C(antibiotic_history)[T.3]    -1.6782      0.314     -5.349      0.000        -2.293    -1.063\n",
      "C(sex)[T.1]                   -0.5324      0.140     -3.804      0.000        -0.807    -0.258\n",
      "bloom_fraction                -2.0691      0.264     -7.823      0.000        -2.588    -1.550\n",
      "ln_age                         1.9267      0.196      9.815      0.000         1.542     2.312\n",
      "==============================================================================\n",
      "Omnibus:                       22.342   Durbin-Watson:                   2.018\n",
      "Prob(Omnibus):                  0.000   Jarque-Bera (JB):               22.857\n",
      "Skew:                           0.238   Prob(JB):                     1.09e-05\n",
      "Kurtosis:                       3.167   Cond. No.                         45.6\n",
      "==============================================================================\n",
      "\n",
      "Warnings:\n",
      "[1] Standard Errors assume that the covariance matrix of the errors is correctly specified.\n"
     ]
    }
   ],
   "source": [
    "fit1 = smf.ols('faiths_pd_1250 ~ bloom_fraction + C(country) + C(ibd) + C(ibs) + C(antibiotic_history)'\n",
    "               '+ ln_age + C(sex)', \n",
    "               data=smap_numeric).fit()\n",
    "print(fit1.summary())"
   ]
  },
  {
   "cell_type": "code",
   "execution_count": 36,
   "metadata": {
    "collapsed": false
   },
   "outputs": [
    {
     "name": "stdout",
     "output_type": "stream",
     "text": [
      "                            OLS Regression Results                            \n",
      "==============================================================================\n",
      "Dep. Variable:         faiths_pd_1250   R-squared:                       0.181\n",
      "Model:                            OLS   Adj. R-squared:                  0.175\n",
      "Method:                 Least Squares   F-statistic:                     33.65\n",
      "Date:                Sun, 05 Nov 2017   Prob (F-statistic):           2.73e-82\n",
      "Time:                        13:59:24   Log-Likelihood:                -5526.1\n",
      "No. Observations:                2149   AIC:                         1.108e+04\n",
      "Df Residuals:                    2134   BIC:                         1.117e+04\n",
      "Df Model:                          14                                         \n",
      "Covariance Type:            nonrobust                                         \n",
      "==============================================================================================\n",
      "                                 coef    std err          t      P>|t|      [95.0% Conf. Int.]\n",
      "----------------------------------------------------------------------------------------------\n",
      "Intercept                      8.8194      1.013      8.706      0.000         6.833    10.806\n",
      "C(country)[T.1]                1.5730      0.145     10.851      0.000         1.289     1.857\n",
      "C(country)[T.2]                0.4389      0.598      0.733      0.463        -0.735     1.612\n",
      "C(country)[T.3]                0.9257      0.459      2.018      0.044         0.026     1.826\n",
      "C(ibd)[T.1]                   -1.9032      0.374     -5.084      0.000        -2.637    -1.169\n",
      "C(ibd)[T.2]                    0.8527      0.767      1.112      0.266        -0.651     2.356\n",
      "C(ibs)[T.1]                   -0.8804      0.206     -4.281      0.000        -1.284    -0.477\n",
      "C(ibs)[T.2]                   -0.7714      0.262     -2.939      0.003        -1.286    -0.257\n",
      "C(antibiotic_history)[T.1]    -0.6156      0.198     -3.105      0.002        -1.004    -0.227\n",
      "C(antibiotic_history)[T.2]    -1.3277      0.216     -6.149      0.000        -1.751    -0.904\n",
      "C(antibiotic_history)[T.3]    -1.6870      0.313     -5.386      0.000        -2.301    -1.073\n",
      "C(sex)[T.1]                   -4.8480      1.485     -3.264      0.001        -7.761    -1.935\n",
      "bloom_fraction                -2.0440      0.264     -7.737      0.000        -2.562    -1.526\n",
      "ln_age                         1.4033      0.266      5.283      0.000         0.882     1.924\n",
      "ln_age:C(sex)[T.1]             1.1291      0.387      2.919      0.004         0.370     1.888\n",
      "==============================================================================\n",
      "Omnibus:                       21.344   Durbin-Watson:                   2.018\n",
      "Prob(Omnibus):                  0.000   Jarque-Bera (JB):               21.796\n",
      "Skew:                           0.233   Prob(JB):                     1.85e-05\n",
      "Kurtosis:                       3.162   Cond. No.                         113.\n",
      "==============================================================================\n",
      "\n",
      "Warnings:\n",
      "[1] Standard Errors assume that the covariance matrix of the errors is correctly specified.\n"
     ]
    }
   ],
   "source": [
    "fit1 = smf.ols('faiths_pd_1250 ~ bloom_fraction + C(country) + C(ibd) + C(ibs) + C(antibiotic_history)'\n",
    "               ' + ln_age*C(sex)', \n",
    "               data=smap_numeric).fit()\n",
    "print(fit1.summary())"
   ]
  },
  {
   "cell_type": "code",
   "execution_count": 37,
   "metadata": {
    "collapsed": false
   },
   "outputs": [
    {
     "name": "stdout",
     "output_type": "stream",
     "text": [
      "                            OLS Regression Results                            \n",
      "==============================================================================\n",
      "Dep. Variable:         faiths_pd_1250   R-squared:                       0.191\n",
      "Model:                            OLS   Adj. R-squared:                  0.185\n",
      "Method:                 Least Squares   F-statistic:                     31.51\n",
      "Date:                Sun, 05 Nov 2017   Prob (F-statistic):           1.70e-86\n",
      "Time:                        13:59:24   Log-Likelihood:                -5512.4\n",
      "No. Observations:                2149   AIC:                         1.106e+04\n",
      "Df Residuals:                    2132   BIC:                         1.116e+04\n",
      "Df Model:                          16                                         \n",
      "Covariance Type:            nonrobust                                         \n",
      "===========================================================================================\n",
      "                              coef    std err          t      P>|t|      [95.0% Conf. Int.]\n",
      "-------------------------------------------------------------------------------------------\n",
      "Intercept                   8.5175      1.031      8.258      0.000         6.495    10.540\n",
      "C(country)[T.1]             1.4779      0.146     10.152      0.000         1.192     1.763\n",
      "C(country)[T.2]             0.2709      0.596      0.455      0.649        -0.897     1.439\n",
      "C(country)[T.3]             0.8751      0.456      1.917      0.055        -0.020     1.770\n",
      "C(ibd)[T.1]                -1.8928      0.372     -5.086      0.000        -2.623    -1.163\n",
      "C(ibd)[T.2]                 0.8221      0.762      1.078      0.281        -0.673     2.317\n",
      "C(ibs)[T.1]                -0.8063      0.205     -3.935      0.000        -1.208    -0.405\n",
      "C(ibs)[T.2]                -0.7826      0.261     -3.003      0.003        -1.294    -0.272\n",
      "C(sex)[T.1]                -4.8923      1.477     -3.312      0.001        -7.789    -1.995\n",
      "C(types_of_plants)[T.1]     0.1032      0.323      0.320      0.749        -0.530     0.736\n",
      "C(types_of_plants)[T.2]     0.4783      0.312      1.533      0.125        -0.133     1.090\n",
      "C(types_of_plants)[T.3]     0.9244      0.327      2.831      0.005         0.284     1.565\n",
      "C(types_of_plants)[T.4]     1.1610      0.362      3.210      0.001         0.452     1.870\n",
      "bloom_fraction             -2.0669      0.262     -7.886      0.000        -2.581    -1.553\n",
      "antibiotic_history         -0.5829      0.077     -7.525      0.000        -0.735    -0.431\n",
      "ln_age                      1.3330      0.265      5.034      0.000         0.814     1.852\n",
      "ln_age:C(sex)[T.1]          1.1682      0.385      3.036      0.002         0.414     1.923\n",
      "==============================================================================\n",
      "Omnibus:                       20.428   Durbin-Watson:                   2.018\n",
      "Prob(Omnibus):                  0.000   Jarque-Bera (JB):               20.799\n",
      "Skew:                           0.229   Prob(JB):                     3.05e-05\n",
      "Kurtosis:                       3.148   Cond. No.                         114.\n",
      "==============================================================================\n",
      "\n",
      "Warnings:\n",
      "[1] Standard Errors assume that the covariance matrix of the errors is correctly specified.\n"
     ]
    }
   ],
   "source": [
    "fit1 = smf.ols('faiths_pd_1250 ~ bloom_fraction + C(country) + C(ibd) + C(ibs) + antibiotic_history + ln_age*C(sex)'\n",
    "               '+ C(types_of_plants)', \n",
    "               data=smap_numeric).fit()\n",
    "print(fit1.summary())"
   ]
  },
  {
   "cell_type": "code",
   "execution_count": 38,
   "metadata": {
    "collapsed": false
   },
   "outputs": [
    {
     "name": "stdout",
     "output_type": "stream",
     "text": [
      "                            OLS Regression Results                            \n",
      "==============================================================================\n",
      "Dep. Variable:         faiths_pd_1250   R-squared:                       0.211\n",
      "Model:                            OLS   Adj. R-squared:                  0.204\n",
      "Method:                 Least Squares   F-statistic:                     31.59\n",
      "Date:                Sun, 05 Nov 2017   Prob (F-statistic):           6.10e-96\n",
      "Time:                        13:59:24   Log-Likelihood:                -5486.2\n",
      "No. Observations:                2149   AIC:                         1.101e+04\n",
      "Df Residuals:                    2130   BIC:                         1.112e+04\n",
      "Df Model:                          18                                         \n",
      "Covariance Type:            nonrobust                                         \n",
      "===========================================================================================\n",
      "                              coef    std err          t      P>|t|      [95.0% Conf. Int.]\n",
      "-------------------------------------------------------------------------------------------\n",
      "Intercept                   9.2934      1.025      9.063      0.000         7.282    11.304\n",
      "C(country)[T.1]             1.4210      0.144      9.853      0.000         1.138     1.704\n",
      "C(country)[T.2]             0.1736      0.589      0.295      0.768        -0.981     1.329\n",
      "C(country)[T.3]             0.8160      0.451      1.807      0.071        -0.069     1.701\n",
      "C(ibd)[T.1]                -1.9518      0.368     -5.304      0.000        -2.673    -1.230\n",
      "C(ibd)[T.2]                 0.6942      0.754      0.921      0.357        -0.784     2.172\n",
      "C(ibs)[T.1]                -0.8153      0.203     -4.025      0.000        -1.213    -0.418\n",
      "C(ibs)[T.2]                -0.8118      0.258     -3.152      0.002        -1.317    -0.307\n",
      "C(sex)[T.1]                -4.2949      1.463     -2.936      0.003        -7.163    -1.426\n",
      "C(types_of_plants)[T.1]     0.0537      0.319      0.168      0.866        -0.572     0.680\n",
      "C(types_of_plants)[T.2]     0.3584      0.309      1.161      0.246        -0.247     0.964\n",
      "C(types_of_plants)[T.3]     0.8007      0.323      2.478      0.013         0.167     1.434\n",
      "C(types_of_plants)[T.4]     1.0677      0.358      2.985      0.003         0.366     1.769\n",
      "C(race)[T.1]               -2.0340      0.326     -6.236      0.000        -2.674    -1.394\n",
      "C(race)[T.2]               -1.5981      0.394     -4.051      0.000        -2.372    -0.825\n",
      "bloom_fraction             -2.1701      0.259     -8.364      0.000        -2.679    -1.661\n",
      "antibiotic_history         -0.5812      0.077     -7.592      0.000        -0.731    -0.431\n",
      "ln_age                      1.2011      0.262      4.576      0.000         0.686     1.716\n",
      "ln_age:C(sex)[T.1]          1.0251      0.381      2.691      0.007         0.278     1.772\n",
      "==============================================================================\n",
      "Omnibus:                       22.323   Durbin-Watson:                   2.016\n",
      "Prob(Omnibus):                  0.000   Jarque-Bera (JB):               22.975\n",
      "Skew:                           0.233   Prob(JB):                     1.03e-05\n",
      "Kurtosis:                       3.197   Cond. No.                         115.\n",
      "==============================================================================\n",
      "\n",
      "Warnings:\n",
      "[1] Standard Errors assume that the covariance matrix of the errors is correctly specified.\n"
     ]
    }
   ],
   "source": [
    "fit1 = smf.ols('faiths_pd_1250 ~ bloom_fraction + C(country) + C(ibd) + C(ibs) + antibiotic_history '\n",
    "               ' + ln_age*C(sex) + C(types_of_plants) + C(race)', \n",
    "               data=smap_numeric).fit()\n",
    "print(fit1.summary())"
   ]
  },
  {
   "cell_type": "code",
   "execution_count": 39,
   "metadata": {
    "collapsed": false
   },
   "outputs": [
    {
     "name": "stdout",
     "output_type": "stream",
     "text": [
      "                            OLS Regression Results                            \n",
      "==============================================================================\n",
      "Dep. Variable:         faiths_pd_1250   R-squared:                       0.212\n",
      "Model:                            OLS   Adj. R-squared:                  0.204\n",
      "Method:                 Least Squares   F-statistic:                     24.93\n",
      "Date:                Sun, 05 Nov 2017   Prob (F-statistic):           2.91e-93\n",
      "Time:                        13:59:25   Log-Likelihood:                -5483.9\n",
      "No. Observations:                2149   AIC:                         1.102e+04\n",
      "Df Residuals:                    2125   BIC:                         1.115e+04\n",
      "Df Model:                          23                                         \n",
      "Covariance Type:            nonrobust                                         \n",
      "==============================================================================================\n",
      "                                 coef    std err          t      P>|t|      [95.0% Conf. Int.]\n",
      "----------------------------------------------------------------------------------------------\n",
      "Intercept                      8.7854      1.058      8.306      0.000         6.711    10.860\n",
      "C(country)[T.1]                1.4222      0.144      9.845      0.000         1.139     1.706\n",
      "C(country)[T.2]                0.1267      0.590      0.215      0.830        -1.031     1.284\n",
      "C(country)[T.3]                0.7993      0.452      1.769      0.077        -0.087     1.686\n",
      "C(ibd)[T.1]                   -1.9429      0.369     -5.272      0.000        -2.666    -1.220\n",
      "C(ibd)[T.2]                    0.7379      0.755      0.977      0.329        -0.743     2.219\n",
      "C(ibs)[T.1]                   -0.8055      0.203     -3.973      0.000        -1.203    -0.408\n",
      "C(ibs)[T.2]                   -0.7950      0.258     -3.077      0.002        -1.302    -0.288\n",
      "C(antibiotic_history)[T.1]    -0.5674      0.196     -2.895      0.004        -0.952    -0.183\n",
      "C(antibiotic_history)[T.2]    -1.2150      0.213     -5.702      0.000        -1.633    -0.797\n",
      "C(antibiotic_history)[T.3]    -1.6092      0.309     -5.212      0.000        -2.215    -1.004\n",
      "C(sex)[T.1]                   -4.3742      1.464     -2.988      0.003        -7.245    -1.503\n",
      "C(types_of_plants)[T.1]        0.0109      0.320      0.034      0.973        -0.617     0.639\n",
      "C(types_of_plants)[T.2]        0.3063      0.310      0.988      0.323        -0.301     0.914\n",
      "C(types_of_plants)[T.3]        0.7553      0.324      2.330      0.020         0.120     1.391\n",
      "C(types_of_plants)[T.4]        1.0089      0.359      2.809      0.005         0.305     1.713\n",
      "C(race)[T.1]                  -1.9578      0.329     -5.944      0.000        -2.604    -1.312\n",
      "C(race)[T.2]                  -1.5818      0.395     -4.005      0.000        -2.356    -0.807\n",
      "C(sleep_duration)[T.1]         0.3913      0.231      1.696      0.090        -0.061     0.844\n",
      "C(sleep_duration)[T.2]         0.4066      0.225      1.805      0.071        -0.035     0.848\n",
      "C(sleep_duration)[T.3]         0.5568      0.282      1.976      0.048         0.004     1.110\n",
      "bloom_fraction                -2.2010      0.261     -8.441      0.000        -2.712    -1.690\n",
      "ln_age                         1.2472      0.264      4.729      0.000         0.730     1.764\n",
      "ln_age:C(sex)[T.1]             1.0481      0.381      2.749      0.006         0.300     1.796\n",
      "==============================================================================\n",
      "Omnibus:                       22.945   Durbin-Watson:                   2.015\n",
      "Prob(Omnibus):                  0.000   Jarque-Bera (JB):               23.718\n",
      "Skew:                           0.234   Prob(JB):                     7.07e-06\n",
      "Kurtosis:                       3.212   Cond. No.                         115.\n",
      "==============================================================================\n",
      "\n",
      "Warnings:\n",
      "[1] Standard Errors assume that the covariance matrix of the errors is correctly specified.\n"
     ]
    }
   ],
   "source": [
    "fit1 = smf.ols('faiths_pd_1250 ~ bloom_fraction + C(country) + C(ibd) + C(ibs) + C(antibiotic_history) + '\n",
    "               'ln_age*C(sex) + C(types_of_plants) + C(race) + C(sleep_duration)', \n",
    "               data=smap_numeric).fit()\n",
    "print(fit1.summary())"
   ]
  },
  {
   "cell_type": "code",
   "execution_count": 40,
   "metadata": {
    "collapsed": false
   },
   "outputs": [
    {
     "name": "stdout",
     "output_type": "stream",
     "text": [
      "                            OLS Regression Results                            \n",
      "==============================================================================\n",
      "Dep. Variable:         faiths_pd_1250   R-squared:                       0.221\n",
      "Model:                            OLS   Adj. R-squared:                  0.212\n",
      "Method:                 Least Squares   F-statistic:                     24.07\n",
      "Date:                Sun, 05 Nov 2017   Prob (F-statistic):           1.32e-96\n",
      "Time:                        13:59:25   Log-Likelihood:                -5472.3\n",
      "No. Observations:                2149   AIC:                         1.100e+04\n",
      "Df Residuals:                    2123   BIC:                         1.114e+04\n",
      "Df Model:                          25                                         \n",
      "Covariance Type:            nonrobust                                         \n",
      "==================================================================================================\n",
      "                                     coef    std err          t      P>|t|      [95.0% Conf. Int.]\n",
      "--------------------------------------------------------------------------------------------------\n",
      "Intercept                          8.7923      1.053      8.349      0.000         6.727    10.858\n",
      "C(country)[T.1]                    1.4325      0.144      9.940      0.000         1.150     1.715\n",
      "C(country)[T.2]                    0.2484      0.588      0.423      0.673        -0.905     1.401\n",
      "C(country)[T.3]                    0.7140      0.450      1.586      0.113        -0.169     1.597\n",
      "C(ibd)[T.1]                       -1.7479      0.369     -4.732      0.000        -2.472    -1.024\n",
      "C(ibd)[T.2]                        0.6892      0.751      0.917      0.359        -0.784     2.163\n",
      "C(ibs)[T.1]                       -0.6700      0.208     -3.220      0.001        -1.078    -0.262\n",
      "C(ibs)[T.2]                       -0.6608      0.260     -2.546      0.011        -1.170    -0.152\n",
      "C(antibiotic_history)[T.1]        -0.5659      0.195     -2.902      0.004        -0.948    -0.183\n",
      "C(antibiotic_history)[T.2]        -1.2555      0.212     -5.913      0.000        -1.672    -0.839\n",
      "C(antibiotic_history)[T.3]        -1.5698      0.307     -5.107      0.000        -2.173    -0.967\n",
      "C(sex)[T.1]                       -4.1832      1.457     -2.870      0.004        -7.041    -1.325\n",
      "C(types_of_plants)[T.1]           -0.0090      0.319     -0.028      0.977        -0.634     0.616\n",
      "C(types_of_plants)[T.2]            0.2863      0.309      0.928      0.354        -0.319     0.891\n",
      "C(types_of_plants)[T.3]            0.7074      0.323      2.190      0.029         0.074     1.341\n",
      "C(types_of_plants)[T.4]            1.0023      0.358      2.800      0.005         0.300     1.704\n",
      "C(race)[T.1]                      -1.9519      0.328     -5.956      0.000        -2.595    -1.309\n",
      "C(race)[T.2]                      -1.5347      0.393     -3.903      0.000        -2.306    -0.764\n",
      "C(sleep_duration)[T.1]             0.3908      0.230      1.700      0.089        -0.060     0.842\n",
      "C(sleep_duration)[T.2]             0.4236      0.224      1.888      0.059        -0.016     0.864\n",
      "C(sleep_duration)[T.3]             0.5736      0.281      2.044      0.041         0.023     1.124\n",
      "C(bowel_movement_quality)[T.1]    -0.8694      0.200     -4.354      0.000        -1.261    -0.478\n",
      "C(bowel_movement_quality)[T.2]     0.2852      0.242      1.181      0.238        -0.189     0.759\n",
      "bloom_fraction                    -2.1572      0.260     -8.308      0.000        -2.666    -1.648\n",
      "ln_age                             1.2592      0.262      4.797      0.000         0.744     1.774\n",
      "ln_age:C(sex)[T.1]                 1.0069      0.380      2.652      0.008         0.262     1.751\n",
      "==============================================================================\n",
      "Omnibus:                       20.354   Durbin-Watson:                   2.012\n",
      "Prob(Omnibus):                  0.000   Jarque-Bera (JB):               20.731\n",
      "Skew:                           0.228   Prob(JB):                     3.15e-05\n",
      "Kurtosis:                       3.152   Cond. No.                         115.\n",
      "==============================================================================\n",
      "\n",
      "Warnings:\n",
      "[1] Standard Errors assume that the covariance matrix of the errors is correctly specified.\n"
     ]
    }
   ],
   "source": [
    "fit1 = smf.ols('faiths_pd_1250 ~ bloom_fraction + C(country) + C(ibd) + C(ibs) + C(antibiotic_history) + '\n",
    "               'ln_age*C(sex) + C(types_of_plants) + C(race) + C(sleep_duration) + C(bowel_movement_quality)', \n",
    "               data=smap_numeric).fit()\n",
    "print(fit1.summary())"
   ]
  },
  {
   "cell_type": "code",
   "execution_count": 41,
   "metadata": {
    "collapsed": false
   },
   "outputs": [
    {
     "name": "stdout",
     "output_type": "stream",
     "text": [
      "                            OLS Regression Results                            \n",
      "==============================================================================\n",
      "Dep. Variable:         faiths_pd_1250   R-squared:                       0.222\n",
      "Model:                            OLS   Adj. R-squared:                  0.212\n",
      "Method:                 Least Squares   F-statistic:                     23.25\n",
      "Date:                Sun, 05 Nov 2017   Prob (F-statistic):           2.14e-96\n",
      "Time:                        13:59:25   Log-Likelihood:                -5471.2\n",
      "No. Observations:                2149   AIC:                         1.100e+04\n",
      "Df Residuals:                    2122   BIC:                         1.115e+04\n",
      "Df Model:                          26                                         \n",
      "Covariance Type:            nonrobust                                         \n",
      "==================================================================================================\n",
      "                                     coef    std err          t      P>|t|      [95.0% Conf. Int.]\n",
      "--------------------------------------------------------------------------------------------------\n",
      "Intercept                          8.7930      1.053      8.352      0.000         6.728    10.858\n",
      "C(country)[T.1]                    1.4377      0.144      9.976      0.000         1.155     1.720\n",
      "C(country)[T.2]                    0.2408      0.588      0.410      0.682        -0.912     1.394\n",
      "C(country)[T.3]                    0.7317      0.450      1.626      0.104        -0.151     1.614\n",
      "C(ibd)[T.1]                       -1.7531      0.369     -4.748      0.000        -2.477    -1.029\n",
      "C(ibd)[T.2]                        0.7007      0.751      0.933      0.351        -0.773     2.174\n",
      "C(ibs)[T.1]                       -0.6512      0.208     -3.125      0.002        -1.060    -0.243\n",
      "C(ibs)[T.2]                       -0.6499      0.260     -2.504      0.012        -1.159    -0.141\n",
      "C(antibiotic_history)[T.1]        -0.5709      0.195     -2.928      0.003        -0.953    -0.188\n",
      "C(antibiotic_history)[T.2]        -1.2576      0.212     -5.924      0.000        -1.674    -0.841\n",
      "C(antibiotic_history)[T.3]        -1.5698      0.307     -5.108      0.000        -2.172    -0.967\n",
      "C(sex)[T.1]                       -4.2375      1.457     -2.908      0.004        -7.096    -1.379\n",
      "C(types_of_plants)[T.1]           -0.0021      0.319     -0.006      0.995        -0.627     0.623\n",
      "C(types_of_plants)[T.2]            0.3013      0.309      0.976      0.329        -0.304     0.907\n",
      "C(types_of_plants)[T.3]            0.7237      0.323      2.240      0.025         0.090     1.357\n",
      "C(types_of_plants)[T.4]            1.0190      0.358      2.846      0.004         0.317     1.721\n",
      "C(race)[T.1]                      -1.9776      0.328     -6.028      0.000        -2.621    -1.334\n",
      "C(race)[T.2]                      -1.5366      0.393     -3.909      0.000        -2.307    -0.766\n",
      "C(sleep_duration)[T.1]             0.3880      0.230      1.688      0.092        -0.063     0.839\n",
      "C(sleep_duration)[T.2]             0.4298      0.224      1.916      0.056        -0.010     0.870\n",
      "C(sleep_duration)[T.3]             0.5604      0.281      1.996      0.046         0.010     1.111\n",
      "C(bowel_movement_quality)[T.1]    -0.8562      0.200     -4.284      0.000        -1.248    -0.464\n",
      "C(bowel_movement_quality)[T.2]     0.2884      0.241      1.194      0.233        -0.185     0.762\n",
      "C(chickenpox)[T.1]                -0.3406      0.223     -1.526      0.127        -0.778     0.097\n",
      "bloom_fraction                    -2.1579      0.260     -8.314      0.000        -2.667    -1.649\n",
      "ln_age                             1.3332      0.267      4.996      0.000         0.810     1.857\n",
      "ln_age:C(sex)[T.1]                 1.0210      0.380      2.690      0.007         0.277     1.765\n",
      "==============================================================================\n",
      "Omnibus:                       21.201   Durbin-Watson:                   2.014\n",
      "Prob(Omnibus):                  0.000   Jarque-Bera (JB):               21.631\n",
      "Skew:                           0.233   Prob(JB):                     2.01e-05\n",
      "Kurtosis:                       3.157   Cond. No.                         117.\n",
      "==============================================================================\n",
      "\n",
      "Warnings:\n",
      "[1] Standard Errors assume that the covariance matrix of the errors is correctly specified.\n"
     ]
    }
   ],
   "source": [
    "fit1 = smf.ols('faiths_pd_1250 ~ bloom_fraction + C(country) + C(ibd) + C(ibs) + C(antibiotic_history) + '\n",
    "               'ln_age*C(sex) + C(types_of_plants) + C(race) + C(sleep_duration) + C(bowel_movement_quality)'\n",
    "               '+ C(chickenpox)', \n",
    "               data=smap_numeric).fit()\n",
    "print(fit1.summary())"
   ]
  },
  {
   "cell_type": "code",
   "execution_count": 42,
   "metadata": {
    "collapsed": false
   },
   "outputs": [
    {
     "name": "stderr",
     "output_type": "stream",
     "text": [
      "/Users/jwdebelius/miniconda3/envs/agp_2017/lib/python3.6/site-packages/statsmodels/nonparametric/kdetools.py:20: VisibleDeprecationWarning: using a non-integer number instead of an integer will result in an error in the future\n",
      "  y = X[:m/2+1] + np.r_[0,X[m/2+1:],0]*1j\n"
     ]
    },
    {
     "data": {
      "text/plain": [
       "<matplotlib.axes._subplots.AxesSubplot at 0x1172bf9b0>"
      ]
     },
     "execution_count": 42,
     "metadata": {},
     "output_type": "execute_result"
    },
    {
     "data": {
      "image/png": "[encoded data removed]",
      "text/plain": [
       "<matplotlib.figure.Figure at 0x111785470>"
      ]
     },
     "metadata": {},
     "output_type": "display_data"
    }
   ],
   "source": [
    "sn.distplot(fit1.resid)"
   ]
  },
  {
   "cell_type": "code",
   "execution_count": 43,
   "metadata": {
    "collapsed": true
   },
   "outputs": [],
   "source": [
    "summary = fit1.summary()"
   ]
  },
  {
   "cell_type": "code",
   "execution_count": 44,
   "metadata": {
    "collapsed": false
   },
   "outputs": [
    {
     "name": "stdout",
     "output_type": "stream",
     "text": [
      "                            OLS Regression Results                            \n",
      "==============================================================================\n",
      "Dep. Variable:         faiths_pd_1250   R-squared:                       0.234\n",
      "Model:                            OLS   Adj. R-squared:                  0.224\n",
      "Method:                 Least Squares   F-statistic:                     24.02\n",
      "Date:                Sun, 05 Nov 2017   Prob (F-statistic):          7.39e-103\n",
      "Time:                        13:59:27   Log-Likelihood:                -5453.8\n",
      "No. Observations:                2149   AIC:                         1.096e+04\n",
      "Df Residuals:                    2121   BIC:                         1.112e+04\n",
      "Df Model:                          27                                         \n",
      "Covariance Type:            nonrobust                                         \n",
      "==================================================================================================\n",
      "                                     coef    std err          t      P>|t|      [95.0% Conf. Int.]\n",
      "--------------------------------------------------------------------------------------------------\n",
      "Intercept                         10.4886      1.084      9.679      0.000         8.363    12.614\n",
      "C(country)[T.1]                    1.4521      0.143     10.154      0.000         1.172     1.733\n",
      "C(country)[T.2]                    0.3505      0.583      0.601      0.548        -0.794     1.495\n",
      "C(country)[T.3]                    0.7600      0.447      1.702      0.089        -0.116     1.636\n",
      "C(ibd)[T.1]                       -1.7823      0.366     -4.864      0.000        -2.501    -1.064\n",
      "C(ibd)[T.2]                        0.6798      0.745      0.912      0.362        -0.782     2.142\n",
      "C(ibs)[T.1]                       -0.6526      0.207     -3.157      0.002        -1.058    -0.247\n",
      "C(ibs)[T.2]                       -0.6904      0.258     -2.680      0.007        -1.196    -0.185\n",
      "C(antibiotic_history)[T.1]        -0.5412      0.194     -2.796      0.005        -0.921    -0.162\n",
      "C(antibiotic_history)[T.2]        -1.1973      0.211     -5.678      0.000        -1.611    -0.784\n",
      "C(antibiotic_history)[T.3]        -1.5822      0.305     -5.189      0.000        -2.180    -0.984\n",
      "C(sex)[T.1]                       -4.0711      1.446     -2.815      0.005        -6.907    -1.235\n",
      "C(types_of_plants)[T.1]           -0.0416      0.316     -0.131      0.895        -0.662     0.578\n",
      "C(types_of_plants)[T.2]            0.2295      0.307      0.749      0.454        -0.372     0.831\n",
      "C(types_of_plants)[T.3]            0.5919      0.321      1.842      0.066        -0.038     1.222\n",
      "C(types_of_plants)[T.4]            0.8490      0.356      2.382      0.017         0.150     1.548\n",
      "C(race)[T.1]                      -2.0873      0.326     -6.402      0.000        -2.727    -1.448\n",
      "C(race)[T.2]                      -1.5553      0.390     -3.988      0.000        -2.320    -0.790\n",
      "C(sleep_duration)[T.1]             0.3031      0.228      1.326      0.185        -0.145     0.751\n",
      "C(sleep_duration)[T.2]             0.3049      0.224      1.364      0.173        -0.134     0.743\n",
      "C(sleep_duration)[T.3]             0.4286      0.279      1.534      0.125        -0.119     0.977\n",
      "C(bowel_movement_quality)[T.1]    -0.8065      0.198     -4.064      0.000        -1.196    -0.417\n",
      "C(bowel_movement_quality)[T.2]     0.2620      0.240      1.093      0.274        -0.208     0.732\n",
      "C(chickenpox)[T.1]                -0.3098      0.222     -1.398      0.162        -0.744     0.125\n",
      "bloom_fraction                    -2.1450      0.258     -8.329      0.000        -2.650    -1.640\n",
      "ln_age                             1.5444      0.267      5.780      0.000         1.020     2.068\n",
      "ln_age:C(sex)[T.1]                 1.0102      0.377      2.682      0.007         0.272     1.749\n",
      "bmi_corrected                     -0.0999      0.017     -5.879      0.000        -0.133    -0.067\n",
      "==============================================================================\n",
      "Omnibus:                       19.447   Durbin-Watson:                   2.028\n",
      "Prob(Omnibus):                  0.000   Jarque-Bera (JB):               20.011\n",
      "Skew:                           0.214   Prob(JB):                     4.52e-05\n",
      "Kurtosis:                       3.202   Cond. No.                         635.\n",
      "==============================================================================\n",
      "\n",
      "Warnings:\n",
      "[1] Standard Errors assume that the covariance matrix of the errors is correctly specified.\n"
     ]
    }
   ],
   "source": [
    "fit1 = smf.ols('faiths_pd_1250 ~ bloom_fraction + C(country) + C(ibd) + C(ibs) + C(antibiotic_history) + '\n",
    "               'ln_age*C(sex) + C(types_of_plants) + C(race) + C(sleep_duration) + C(bowel_movement_quality)'\n",
    "               '+ C(chickenpox) + bmi_corrected', \n",
    "               data=smap_numeric).fit()\n",
    "print(fit1.summary())"
   ]
  },
  {
   "cell_type": "code",
   "execution_count": 45,
   "metadata": {
    "collapsed": false
   },
   "outputs": [
    {
     "name": "stdout",
     "output_type": "stream",
     "text": [
      "                            OLS Regression Results                            \n",
      "==============================================================================\n",
      "Dep. Variable:         faiths_pd_1250   R-squared:                       0.222\n",
      "Model:                            OLS   Adj. R-squared:                  0.212\n",
      "Method:                 Least Squares   F-statistic:                     23.25\n",
      "Date:                Sun, 05 Nov 2017   Prob (F-statistic):           2.14e-96\n",
      "Time:                        13:59:28   Log-Likelihood:                -5471.2\n",
      "No. Observations:                2149   AIC:                         1.100e+04\n",
      "Df Residuals:                    2122   BIC:                         1.115e+04\n",
      "Df Model:                          26                                         \n",
      "Covariance Type:            nonrobust                                         \n",
      "==================================================================================================\n",
      "                                     coef    std err          t      P>|t|      [95.0% Conf. Int.]\n",
      "--------------------------------------------------------------------------------------------------\n",
      "Intercept                          8.7930      1.053      8.352      0.000         6.728    10.858\n",
      "C(country)[T.1]                    1.4377      0.144      9.976      0.000         1.155     1.720\n",
      "C(country)[T.2]                    0.2408      0.588      0.410      0.682        -0.912     1.394\n",
      "C(country)[T.3]                    0.7317      0.450      1.626      0.104        -0.151     1.614\n",
      "C(ibd)[T.1]                       -1.7531      0.369     -4.748      0.000        -2.477    -1.029\n",
      "C(ibd)[T.2]                        0.7007      0.751      0.933      0.351        -0.773     2.174\n",
      "C(ibs)[T.1]                       -0.6512      0.208     -3.125      0.002        -1.060    -0.243\n",
      "C(ibs)[T.2]                       -0.6499      0.260     -2.504      0.012        -1.159    -0.141\n",
      "C(antibiotic_history)[T.1]        -0.5709      0.195     -2.928      0.003        -0.953    -0.188\n",
      "C(antibiotic_history)[T.2]        -1.2576      0.212     -5.924      0.000        -1.674    -0.841\n",
      "C(antibiotic_history)[T.3]        -1.5698      0.307     -5.108      0.000        -2.172    -0.967\n",
      "C(sex)[T.1]                       -4.2375      1.457     -2.908      0.004        -7.096    -1.379\n",
      "C(types_of_plants)[T.1]           -0.0021      0.319     -0.006      0.995        -0.627     0.623\n",
      "C(types_of_plants)[T.2]            0.3013      0.309      0.976      0.329        -0.304     0.907\n",
      "C(types_of_plants)[T.3]            0.7237      0.323      2.240      0.025         0.090     1.357\n",
      "C(types_of_plants)[T.4]            1.0190      0.358      2.846      0.004         0.317     1.721\n",
      "C(race)[T.1]                      -1.9776      0.328     -6.028      0.000        -2.621    -1.334\n",
      "C(race)[T.2]                      -1.5366      0.393     -3.909      0.000        -2.307    -0.766\n",
      "C(sleep_duration)[T.1]             0.3880      0.230      1.688      0.092        -0.063     0.839\n",
      "C(sleep_duration)[T.2]             0.4298      0.224      1.916      0.056        -0.010     0.870\n",
      "C(sleep_duration)[T.3]             0.5604      0.281      1.996      0.046         0.010     1.111\n",
      "C(bowel_movement_quality)[T.1]    -0.8562      0.200     -4.284      0.000        -1.248    -0.464\n",
      "C(bowel_movement_quality)[T.2]     0.2884      0.241      1.194      0.233        -0.185     0.762\n",
      "C(chickenpox)[T.1]                -0.3406      0.223     -1.526      0.127        -0.778     0.097\n",
      "bloom_fraction                    -2.1579      0.260     -8.314      0.000        -2.667    -1.649\n",
      "ln_age                             1.3332      0.267      4.996      0.000         0.810     1.857\n",
      "ln_age:C(sex)[T.1]                 1.0210      0.380      2.690      0.007         0.277     1.765\n",
      "==============================================================================\n",
      "Omnibus:                       21.201   Durbin-Watson:                   2.014\n",
      "Prob(Omnibus):                  0.000   Jarque-Bera (JB):               21.631\n",
      "Skew:                           0.233   Prob(JB):                     2.01e-05\n",
      "Kurtosis:                       3.157   Cond. No.                         117.\n",
      "==============================================================================\n",
      "\n",
      "Warnings:\n",
      "[1] Standard Errors assume that the covariance matrix of the errors is correctly specified.\n"
     ]
    }
   ],
   "source": [
    "fit1 = smf.ols('faiths_pd_1250 ~ bloom_fraction + C(country) + C(ibd) + C(ibs) + C(antibiotic_history) + '\n",
    "               'ln_age*C(sex) + C(types_of_plants) + C(race) + C(sleep_duration) + C(bowel_movement_quality)'\n",
    "               '+ C(chickenpox)', \n",
    "               data=smap_numeric).fit()\n",
    "print(fit1.summary())"
   ]
  },
  {
   "cell_type": "code",
   "execution_count": 46,
   "metadata": {
    "collapsed": false
   },
   "outputs": [
    {
     "data": {
      "text/plain": [
       "'                      OLS Regression Results                      \\nDep. Variable:   ,faiths_pd_1250  ,  R-squared:         ,   0.222 \\nModel:           ,OLS             ,  Adj. R-squared:    ,   0.212 \\nMethod:          ,Least Squares   ,  F-statistic:       ,   23.25 \\nDate:            ,Sun, 05 Nov 2017,  Prob (F-statistic):,2.14e-96 \\nTime:            ,13:59:28        ,  Log-Likelihood:    , -5471.2 \\nNo. Observations:,  2149          ,  AIC:               ,1.100e+04\\nDf Residuals:    ,  2122          ,  BIC:               ,1.115e+04\\nDf Model:        ,    26          ,                     ,         \\nCovariance Type: ,nonrobust       ,                     ,         \\n                              ,   coef   , std err ,    t    ,P>|t| , [95.0% Conf. Int.]\\nIntercept                     ,    8.7930,    1.053,    8.352, 0.000,    6.728    10.858\\nC(country)[T.1]               ,    1.4377,    0.144,    9.976, 0.000,    1.155     1.720\\nC(country)[T.2]               ,    0.2408,    0.588,    0.410, 0.682,   -0.912     1.394\\nC(country)[T.3]               ,    0.7317,    0.450,    1.626, 0.104,   -0.151     1.614\\nC(ibd)[T.1]                   ,   -1.7531,    0.369,   -4.748, 0.000,   -2.477    -1.029\\nC(ibd)[T.2]                   ,    0.7007,    0.751,    0.933, 0.351,   -0.773     2.174\\nC(ibs)[T.1]                   ,   -0.6512,    0.208,   -3.125, 0.002,   -1.060    -0.243\\nC(ibs)[T.2]                   ,   -0.6499,    0.260,   -2.504, 0.012,   -1.159    -0.141\\nC(antibiotic_history)[T.1]    ,   -0.5709,    0.195,   -2.928, 0.003,   -0.953    -0.188\\nC(antibiotic_history)[T.2]    ,   -1.2576,    0.212,   -5.924, 0.000,   -1.674    -0.841\\nC(antibiotic_history)[T.3]    ,   -1.5698,    0.307,   -5.108, 0.000,   -2.172    -0.967\\nC(sex)[T.1]                   ,   -4.2375,    1.457,   -2.908, 0.004,   -7.096    -1.379\\nC(types_of_plants)[T.1]       ,   -0.0021,    0.319,   -0.006, 0.995,   -0.627     0.623\\nC(types_of_plants)[T.2]       ,    0.3013,    0.309,    0.976, 0.329,   -0.304     0.907\\nC(types_of_plants)[T.3]       ,    0.7237,    0.323,    2.240, 0.025,    0.090     1.357\\nC(types_of_plants)[T.4]       ,    1.0190,    0.358,    2.846, 0.004,    0.317     1.721\\nC(race)[T.1]                  ,   -1.9776,    0.328,   -6.028, 0.000,   -2.621    -1.334\\nC(race)[T.2]                  ,   -1.5366,    0.393,   -3.909, 0.000,   -2.307    -0.766\\nC(sleep_duration)[T.1]        ,    0.3880,    0.230,    1.688, 0.092,   -0.063     0.839\\nC(sleep_duration)[T.2]        ,    0.4298,    0.224,    1.916, 0.056,   -0.010     0.870\\nC(sleep_duration)[T.3]        ,    0.5604,    0.281,    1.996, 0.046,    0.010     1.111\\nC(bowel_movement_quality)[T.1],   -0.8562,    0.200,   -4.284, 0.000,   -1.248    -0.464\\nC(bowel_movement_quality)[T.2],    0.2884,    0.241,    1.194, 0.233,   -0.185     0.762\\nC(chickenpox)[T.1]            ,   -0.3406,    0.223,   -1.526, 0.127,   -0.778     0.097\\nbloom_fraction                ,   -2.1579,    0.260,   -8.314, 0.000,   -2.667    -1.649\\nln_age                        ,    1.3332,    0.267,    4.996, 0.000,    0.810     1.857\\nln_age:C(sex)[T.1]            ,    1.0210,    0.380,    2.690, 0.007,    0.277     1.765\\nOmnibus:      ,21.201,  Durbin-Watson:     ,   2.014\\nProb(Omnibus):, 0.000,  Jarque-Bera (JB):  ,  21.631\\nSkew:         , 0.233,  Prob(JB):          ,2.01e-05\\nKurtosis:     , 3.157,  Cond. No.          ,    117.'"
      ]
     },
     "execution_count": 46,
     "metadata": {},
     "output_type": "execute_result"
    }
   ],
   "source": [
    "fit1.summary().as_csv()"
   ]
  },
  {
   "cell_type": "code",
   "execution_count": 47,
   "metadata": {
    "collapsed": false
   },
   "outputs": [
    {
     "data": {
      "text/plain": [
       "array([  1.19490392e-16,   6.15354305e-23,   6.82044727e-01,\n",
       "         1.04180482e-01,   2.19640985e-06,   3.51077811e-01,\n",
       "         1.79950328e-03,   1.23580346e-02,   3.45186507e-03,\n",
       "         3.65084610e-09,   3.54204791e-07,   3.68085201e-03,\n",
       "         9.94817249e-01,   3.29172015e-01,   2.51779902e-02,\n",
       "         4.47332000e-03,   1.95284091e-09,   9.55824472e-05,\n",
       "         9.15243296e-02,   5.55220708e-02,   4.60502495e-02,\n",
       "         1.91345572e-05,   2.32568350e-01,   1.27271323e-01,\n",
       "         1.63413375e-16,   6.32670656e-07,   7.21178475e-03])"
      ]
     },
     "execution_count": 47,
     "metadata": {},
     "output_type": "execute_result"
    }
   ],
   "source": [
    "fit1.pvalues.values"
   ]
  },
  {
   "cell_type": "code",
   "execution_count": null,
   "metadata": {
    "collapsed": true
   },
   "outputs": [],
   "source": []
  },
  {
   "cell_type": "code",
   "execution_count": null,
   "metadata": {
    "collapsed": true
   },
   "outputs": [],
   "source": []
  }
 ],
 "metadata": {
  "kernelspec": {
   "display_name": "Python 3",
   "language": "python",
   "name": "python3"
  },
  "language_info": {
   "codemirror_mode": {
    "name": "ipython",
    "version": 3
   },
   "file_extension": ".py",
   "mimetype": "text/x-python",
   "name": "python",
   "nbconvert_exporter": "python",
   "pygments_lexer": "ipython3",
   "version": "3.6.0"
  }
 },
 "nbformat": 4,
 "nbformat_minor": 2
}
