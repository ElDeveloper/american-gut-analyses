{
 "cells": [
  {
   "cell_type": "code",
   "execution_count": 1,
   "metadata": {
    "collapsed": true
   },
   "outputs": [],
   "source": [
    "import pandas as pd\n",
    "import numpy as np\n",
    "\n",
    "def load_mf(fp, index='#SampleID'):\n",
    "    _df = pd.read_csv(fp, sep='\\t', keep_default_na=False, na_values=[], dtype=str)\n",
    "    _df.set_index(index, inplace=True)\n",
    "    return _df"
   ]
  },
  {
   "cell_type": "markdown",
   "metadata": {},
   "source": [
    "Download the mapping files for the ICU, ITS and FMT from Qiita. Then combine them with the AG mapping file that you got from Justine."
   ]
  },
  {
   "cell_type": "code",
   "execution_count": 2,
   "metadata": {
    "collapsed": true
   },
   "outputs": [],
   "source": [
    "mf = load_mf('ag_full_no_letters.fmt-icu-its.tsv')"
   ]
  },
  {
   "cell_type": "markdown",
   "metadata": {},
   "source": [
    "Create two columns for the ITS animation."
   ]
  },
  {
   "cell_type": "code",
   "execution_count": 3,
   "metadata": {
    "collapsed": false
   },
   "outputs": [],
   "source": [
    "def rename(row):\n",
    "    if row.qiita_study_id == '101' and row.name != '101.Mother':\n",
    "        return 'Child'\n",
    "    else:\n",
    "        return 'no_data'\n",
    "mf['animations_trajectory_its'] = mf.apply(rename, axis=1, reduce=False)\n",
    "\n",
    "def renumber(row):\n",
    "    if row.qiita_study_id == '101' and row.name != '101.Mother':\n",
    "        return str(int(row.age))\n",
    "    else:\n",
    "        return '0'\n",
    "mf['animations_gradient_its'] = mf.apply(renumber, axis=1, reduce=False)"
   ]
  },
  {
   "cell_type": "markdown",
   "metadata": {},
   "source": [
    "Now add a run number column."
   ]
  },
  {
   "cell_type": "code",
   "execution_count": 4,
   "metadata": {
    "collapsed": true
   },
   "outputs": [],
   "source": [
    "# Run number additions\n",
    "date = pd.to_datetime(mf['run_date'])\n",
    "date.loc[date == pd.to_datetime('2013-02-25')] = pd.to_datetime('2013-01-01')\n",
    "\n",
    "date_count = pd.DataFrame(date.value_counts().sort_index())\n",
    "date_count['order'] = np.arange(0, len(date_count))\n",
    "order_map = date_count[['order']].to_dict()\n",
    "run_order = date.apply(lambda x: order_map['order'][x])\n",
    "\n",
    "mf['run_number'] = run_order.copy()"
   ]
  },
  {
   "cell_type": "markdown",
   "metadata": {},
   "source": [
    "The values for samples from the ITS, FMT and ICU should not be included in this column."
   ]
  },
  {
   "cell_type": "code",
   "execution_count": 5,
   "metadata": {
    "collapsed": false
   },
   "outputs": [],
   "source": [
    "def renumber_runs(row):\n",
    "    # American Gut\n",
    "    if row.qiita_study_id == '10317':\n",
    "        return row.run_number\n",
    "    else:\n",
    "        # FMT and ITS\n",
    "        if row.qiita_study_id in {'101', '1924'}:\n",
    "            return 'FMT and ITS'\n",
    "        # ICU\n",
    "        else:\n",
    "            return 'ICU'\n",
    "\n",
    "mf['run_number'] = mf.apply(renumber_runs, axis=1, reduce=False)"
   ]
  },
  {
   "cell_type": "markdown",
   "metadata": {},
   "source": [
    "To make the animation a bit smoother, we will make two columns that capture higher level groups in the `COUNTRY` and `BODY_PRODUCT` categories."
   ]
  },
  {
   "cell_type": "code",
   "execution_count": 6,
   "metadata": {
    "collapsed": false
   },
   "outputs": [],
   "source": [
    "rename_body_product = {'UBERON:cerumen': 'Skin',\n",
    " 'UBERON:feces': 'Fecal',\n",
    " 'UBERON:mucus': 'Oral',\n",
    " 'UBERON:saliva': 'Oral',\n",
    " 'UBERON:sebum': 'Skin',\n",
    " 'UBERON:tears': 'Oral',\n",
    " 'not applicable': 'Fecal'}\n",
    "\n",
    "mf['body_product_animation'] = mf.body_product.replace(rename_body_product)\n",
    "\n",
    "def rename_country(row):\n",
    "    if row.country in {'USA', 'United Kingdom', 'Australia'}:\n",
    "        return row.country\n",
    "    else:\n",
    "        return 'Other'\n",
    "\n",
    "mf['country_animation'] = mf.apply(rename_country, axis=1, reduce=False)"
   ]
  },
  {
   "cell_type": "code",
   "execution_count": 8,
   "metadata": {
    "collapsed": true
   },
   "outputs": [],
   "source": [
    "mf.to_csv('ag_full_no_letters.its-and-fmt.with-animations.tsv', sep='\\t')"
   ]
  },
  {
   "cell_type": "code",
   "execution_count": null,
   "metadata": {
    "collapsed": true
   },
   "outputs": [],
   "source": []
  }
 ],
 "metadata": {
  "kernelspec": {
   "display_name": "Python 3",
   "language": "python",
   "name": "python3"
  },
  "language_info": {
   "codemirror_mode": {
    "name": "ipython",
    "version": 3
   },
   "file_extension": ".py",
   "mimetype": "text/x-python",
   "name": "python",
   "nbconvert_exporter": "python",
   "pygments_lexer": "ipython3",
   "version": "3.5.1"
  },
  "widgets": {
   "state": {},
   "version": "1.1.2"
  }
 },
 "nbformat": 4,
 "nbformat_minor": 0
}
