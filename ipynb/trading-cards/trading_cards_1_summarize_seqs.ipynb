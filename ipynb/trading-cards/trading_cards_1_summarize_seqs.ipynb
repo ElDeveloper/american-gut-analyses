{
 "cells": [
  {
   "cell_type": "markdown",
   "metadata": {},
   "source": [
    "**author**: lukethompson@gmail.com<br>\n",
    "**date**: 17 Dec 2017<br>\n",
    "**language**: Python 3.5<br>\n",
    "**license**: BSD3<br>\n",
    "\n",
    "## trading_cards_1_summarize_seqs.ipynb\n",
    "\n",
    "Summarize information about each Deblur sOTU (called OTUs in the code) in a biom table. Input biom table must be rarefied for results to be meaningful."
   ]
  },
  {
   "cell_type": "code",
   "execution_count": 1,
   "metadata": {
    "collapsed": true
   },
   "outputs": [],
   "source": [
    "import pandas as pd\n",
    "import numpy as np\n",
    "import biom"
   ]
  },
  {
   "cell_type": "markdown",
   "metadata": {
    "collapsed": true
   },
   "source": [
    "#### Main function: make_otu_summary"
   ]
  },
  {
   "cell_type": "code",
   "execution_count": 2,
   "metadata": {
    "collapsed": true
   },
   "outputs": [],
   "source": [
    "def make_otu_summary(path_table, path_table_unrare, path_otu_summary):\n",
    "    \"\"\"Summarize information about each feature (sequence or OTU) \n",
    "    in a biom table. These include:\n",
    "        * sequence or OTU name\n",
    "        * number of samples found in (prevalence)\n",
    "        * fraction of total samples found in (prevalence)\n",
    "        * rank of number of samples found in (prevalence)\n",
    "        * number of observations (abundance)\n",
    "        * fraction of total observations (abundance)\n",
    "        * rank of number of observations (abundance)\n",
    "        * taxonomy\n",
    "        * list samples found in\n",
    "    The input biom table must be rarefied for results to be meaningful.\n",
    "    \"\"\"\n",
    "    # Read OTU table (rarefied for OTU statistics, unrarefied for taxonomy)\n",
    "    table = biom.load_table(path_table)\n",
    "    table_unrare = biom.load_table(path_table_unrare)\n",
    "    num_samples = len(table.ids(axis='sample'))\n",
    "    # Get arrays of sample IDs and OTUs (sequences), dicts per OTU of total observations, \n",
    "    # number of samples, list of samples, and taxonomy\n",
    "    otu_total_obs = {}\n",
    "    otu_num_samples = {}\n",
    "    otu_list_samples = {}\n",
    "    samples = table.ids(axis='sample')\n",
    "    otus = table.ids(axis='observation')\n",
    "    for idx, cdat in enumerate(table.iter_data(axis='observation')):\n",
    "        otu_total_obs[otus[idx]] = np.sum(cdat)\n",
    "        otu_num_samples[otus[idx]] = np.sum(cdat > 0)\n",
    "        otu_list_samples[otus[idx]] = samples[np.where(cdat > 0)[0]]\n",
    "    \n",
    "    #otu_tax = {i: '; '.join(md['taxonomy']) for v, i, md in table.iter(axis='observation')}\n",
    "    \n",
    "    # Create Pandas DataFrame of index, sequence, total_obs, num_samples, list_samples\n",
    "    df_otus = pd.DataFrame(index=np.arange(len(otus)))\n",
    "    df_otus['sequence'] = [otus[i] for i in df_otus.index]\n",
    "    df_otus['total_obs'] = [otu_total_obs[seq] for seq in df_otus.sequence]\n",
    "    df_otus['num_samples'] = [otu_num_samples[seq] for seq in df_otus.sequence]\n",
    "    df_otus['list_samples'] = [','.join(otu_list_samples[seq]) for seq in df_otus.sequence]\n",
    "    \n",
    "    df_otus['taxonomy'] = ['; '.join(table_unrare.metadata(seq, axis='observation')['taxonomy']) for seq in df_otus.sequence]\n",
    "    \n",
    "    # Add columns for total_obs_rank and num_samples_rank\n",
    "    # sort by total_obs, reset index, rename index to total_obs\n",
    "    df_otus = df_otus.sort_values('total_obs', ascending=False).reset_index(drop=True)\n",
    "    df_otus.index.rename('total_obs_rank', inplace=True)\n",
    "    # sort by num_samples, reset index, rename index to total_obs\n",
    "    df_otus = df_otus.sort_values('num_samples', ascending=False).reset_index(drop=False)\n",
    "    df_otus.index.rename('num_samples_rank', inplace=True)\n",
    "    # keep sorted by num_samples, reset index\n",
    "    df_otus = df_otus.reset_index(drop=False)\n",
    "    # Add columns for total_obs_percent and num_samples_percent\n",
    "    df_otus['total_obs_frac'] = df_otus['total_obs'] / df_otus['total_obs'].sum()\n",
    "    df_otus['num_samples_frac'] = df_otus['num_samples'] / num_samples\n",
    "    # Add 1 to the rank so they are true rank and not python-style\n",
    "    df_otus['num_samples_rank'] = df_otus['num_samples_rank'] + 1\n",
    "    df_otus['total_obs_rank'] = df_otus['total_obs_rank'] + 1\n",
    "    # Reorder columns\n",
    "    df_otus = df_otus[['sequence', \n",
    "                       'num_samples',\n",
    "                       'num_samples_frac',\n",
    "                       'num_samples_rank',\n",
    "                       'total_obs', \n",
    "                       'total_obs_frac',\n",
    "                       'total_obs_rank', \n",
    "                       'taxonomy',\n",
    "                       'list_samples']]\n",
    "    # Write to tsv\n",
    "    df_otus.to_csv(path_otu_summary, sep='\\t')"
   ]
  },
  {
   "cell_type": "markdown",
   "metadata": {},
   "source": [
    "#### Run for AGP Deblur 125nt table rarefied to 1250 observations per sample"
   ]
  },
  {
   "cell_type": "code",
   "execution_count": 3,
   "metadata": {
    "collapsed": false,
    "scrolled": false
   },
   "outputs": [],
   "source": [
    "path_table = '/Users/luke.thompson/agp/manuscript-package-20170512/1250/deblur_125nt_no_blooms_rare.biom'\n",
    "path_table_unrare = '/Users/luke.thompson/agp/manuscript-package-20170512/1250/deblur_125nt_no_blooms.biom'\n",
    "path_otu_summary = 'deblur_125nt_no_blooms_rare.seq_summary.tsv'\n",
    "\n",
    "make_otu_summary(path_table, path_table_unrare, path_otu_summary)"
   ]
  },
  {
   "cell_type": "code",
   "execution_count": null,
   "metadata": {
    "collapsed": true
   },
   "outputs": [],
   "source": []
  }
 ],
 "metadata": {
  "anaconda-cloud": {},
  "kernelspec": {
   "display_name": "Python [conda env:qiime2-2017.11]",
   "language": "python",
   "name": "conda-env-qiime2-2017.11-py"
  },
  "language_info": {
   "codemirror_mode": {
    "name": "ipython",
    "version": 3
   },
   "file_extension": ".py",
   "mimetype": "text/x-python",
   "name": "python",
   "nbconvert_exporter": "python",
   "pygments_lexer": "ipython3",
   "version": "3.5.4"
  }
 },
 "nbformat": 4,
 "nbformat_minor": 0
}
