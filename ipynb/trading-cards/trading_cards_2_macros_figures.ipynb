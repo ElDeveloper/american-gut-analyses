{
 "cells": [
  {
   "cell_type": "markdown",
   "metadata": {},
   "source": [
    "**author**: lukethompson@gmail.com<br>\n",
    "**date**: 17 Dec 2017<br>\n",
    "**language**: Python 3.5<br>\n",
    "**license**: BSD3<br>\n",
    "\n",
    "## trading_cards_2_macros_figures.ipynb\n",
    "\n",
    "Generate LaTeX macros and figures for a 'trading card' for any given Deblur OTU (sOTU or tag sequence)."
   ]
  },
  {
   "cell_type": "markdown",
   "metadata": {},
   "source": [
    "### Settings and input files"
   ]
  },
  {
   "cell_type": "code",
   "execution_count": 1,
   "metadata": {
    "collapsed": false
   },
   "outputs": [],
   "source": [
    "import pandas as pd\n",
    "import numpy as np\n",
    "import biom\n",
    "import wikipedia\n",
    "import re\n",
    "import os\n",
    "import errno\n",
    "import math\n",
    "import matplotlib.pyplot as plt\n",
    "import seaborn as sns\n",
    "#%matplotlib inline"
   ]
  },
  {
   "cell_type": "code",
   "execution_count": 2,
   "metadata": {
    "collapsed": false
   },
   "outputs": [],
   "source": [
    "# seaborn plot settings\n",
    "sns.set(style='white', palette='colorblind', color_codes=True)\n",
    "sns.set_context('talk', rc={\"font.size\":13,\"axes.titlesize\":13,\"axes.labelsize\":13})\n",
    "plt.rcParams.update({'figure.max_open_warning': 0})"
   ]
  },
  {
   "cell_type": "code",
   "execution_count": 3,
   "metadata": {
    "collapsed": true
   },
   "outputs": [],
   "source": [
    "# input\n",
    "path_map = '/Users/luke.thompson/agp/manuscript-package-20170512/1250/ag_map_with_alpha_lrt.txt'\n",
    "path_biom = '/Users/luke.thompson/agp/manuscript-package-20170512/1250/deblur_125nt_no_blooms_rare.biom'\n",
    "path_otus = 'deblur_125nt_no_blooms_rare.seq_summary.tsv'\n",
    "path_pls_bal = '/Users/luke.thompson/Dropbox/UCSD/AGP/submission-files-science-20170815/table_s11.xlsx'\n",
    "trim_length = 125\n",
    "rarefaction_depth = 1250\n",
    "wiki_max_length = 500\n",
    "\n",
    "# output\n",
    "path_output = 'latex'"
   ]
  },
  {
   "cell_type": "markdown",
   "metadata": {},
   "source": [
    "### Functions"
   ]
  },
  {
   "cell_type": "code",
   "execution_count": 4,
   "metadata": {
    "collapsed": true
   },
   "outputs": [],
   "source": [
    "def make_directory(path):\n",
    "    \"\"\"Make directory if doesn't already exist\"\"\"\n",
    "    try:\n",
    "        os.mkdir(path)\n",
    "    except OSError as exc:\n",
    "        if exc.errno != errno.EEXIST:\n",
    "            raise exc\n",
    "        pass"
   ]
  },
  {
   "cell_type": "code",
   "execution_count": 5,
   "metadata": {
    "collapsed": true
   },
   "outputs": [],
   "source": [
    "def get_wikipedia(my_taxonomy):\n",
    "    \"\"\"Get wikipedia entry for genus or higher (lowest taxonomic level that begins (position 3) \n",
    "    with capital letter)\n",
    "    \"\"\"\n",
    "    for level in reversed(my_taxonomy.split('; ')):\n",
    "        if len(level) > 3:\n",
    "            if level[3].isupper():\n",
    "                title = level[3:]\n",
    "                print(title)\n",
    "                try:\n",
    "                    entry = wikipedia.page(title)\n",
    "                    summary = entry.summary\n",
    "                    return('%s\\t%s' % (title, summary))\n",
    "                except wikipedia.exceptions.DisambiguationError as e:\n",
    "                    return('%s\\t%s has multiple options: %s' % (title, title, e.options))\n",
    "                except wikipedia.exceptions.PageError as e:\n",
    "                    return('%s\\t%s has no Wikipedia page.' % (title, title))\n",
    "                break"
   ]
  },
  {
   "cell_type": "code",
   "execution_count": 6,
   "metadata": {
    "collapsed": true
   },
   "outputs": [],
   "source": [
    "def make_point_plot(row, df, category, figpath):\n",
    "    \"\"\"Make pointplot given these inputs:\n",
    "        row - occurrence information for one sequence (row in df_otus, imported from *.seq_summary.tsv)\n",
    "        df - metadata dataframe\n",
    "        category - metadata category\n",
    "    \"\"\"\n",
    "    category_count_all = df[category].value_counts()\n",
    "    category_count_sequence = df.loc[row['list_samples'].split(',')][category].value_counts()\n",
    "    df_pointplot_data = pd.concat([category_count_all/category_count_all.sum(), \n",
    "                                   category_count_sequence/category_count_sequence.sum()], axis=1)\n",
    "    df_pointplot_data.columns = ['count_all', 'count_sequence']\n",
    "    df_pointplot_data[category] = df_pointplot_data.index\n",
    "    df_pointplot_data_melted = pd.melt(df_pointplot_data, id_vars=[category],\n",
    "                                       value_vars=['count_all', 'count_sequence'])\n",
    "\n",
    "    fig, ax = plt.subplots(figsize=(2.5,4))\n",
    "    sns.pointplot(x='variable', y='value', hue=category, data=df_pointplot_data_melted)\n",
    "    plt.xlabel('')\n",
    "    plt.xticks([0, 1], ('All\\nsamples', 'Samples\\ncontaining\\nsequence'))\n",
    "    plt.ylabel('Relative distribution', fontsize=12)\n",
    "    plt.box('off')\n",
    "    sns.despine(offset=10, trim=True)\n",
    "\n",
    "    dict_title = {'age_cat': 'Age category',\n",
    "                  'antibiotic_history': 'Antibiotic history',\n",
    "                  'fruit_frequency': 'Fruit frequency',\n",
    "                  'types_of_plants': 'Types of plants'}\n",
    "    plt.title(dict_title[category], fontsize=18)\n",
    "    plt.legend(bbox_to_anchor=(1,1)) # title=category\n",
    "    plt.savefig(figpath, bbox_inches='tight')"
   ]
  },
  {
   "cell_type": "code",
   "execution_count": 7,
   "metadata": {
    "collapsed": true
   },
   "outputs": [],
   "source": [
    "def scatter_map(table, samples, seq):\n",
    "    \"\"\"Make dataframe of a given otu with metadata\"\"\"\n",
    "    otu_count = table.data(id=seq, axis='observation')\n",
    "    df_otu = pd.DataFrame(data=otu_count, index=samples, columns=['otu'])\n",
    "    df_otu_map = pd.merge(df_map, df_otu, left_index=True, right_index=True)\n",
    "    # must remove zero counts otherwise scatter plot is misleading\n",
    "    df_otu_map.otu = [np.nan if x==0 else x for x in df_otu_map.otu]\n",
    "    return(df_otu_map)"
   ]
  },
  {
   "cell_type": "markdown",
   "metadata": {},
   "source": [
    "### Section 1: Read input tables"
   ]
  },
  {
   "cell_type": "code",
   "execution_count": 8,
   "metadata": {
    "collapsed": false
   },
   "outputs": [],
   "source": [
    "# read mapping file\n",
    "df_map = pd.read_csv(path_map, sep='\\t', index_col=0, low_memory=False)\n",
    "# read otu summary\n",
    "df_otus = pd.read_csv(path_otus, sep='\\t', index_col=0)\n",
    "# read biom table\n",
    "table = biom.load_table(path_biom)\n",
    "# biom table properties\n",
    "otus = table.ids(axis='observation')\n",
    "samples = table.ids(axis='sample')\n",
    "num_samples = samples.shape[0]\n",
    "# pls balances from paper (new column for absolute value of PLS1)\n",
    "df_pls = pd.read_excel('/Users/luke.thompson/Dropbox/UCSD/AGP/submission-files-science-20170815/table_s11.xlsx')\n",
    "df_pls['PLS1_abs'] = [abs(x) for x in df_pls['PLS1']]"
   ]
  },
  {
   "cell_type": "markdown",
   "metadata": {},
   "source": [
    "### Section 2: Make the OTU lists"
   ]
  },
  {
   "cell_type": "markdown",
   "metadata": {},
   "source": [
    "#### Top metadata categories ordered by unweighted effect size (largest to smallest)"
   ]
  },
  {
   "cell_type": "code",
   "execution_count": 9,
   "metadata": {
    "collapsed": true
   },
   "outputs": [],
   "source": [
    "top_cat = ['age_cat', 'center_project_name', 'antibiotic_history', 'processing_robot', 'prepared_meals_frequency', \n",
    "           'race', 'salted_snacks_frequency', 'sugary_sweets_frequency', 'country', 'longitude', \n",
    "           'fruit_frequency', 'collection_month', 'types_of_plants', 'latitude', 'fungal_overgrowth',\n",
    "           'bowel_movement_frequency', 'drinks_per_session', 'vioscreen_caffeine', 'primer_plate', 'probiotic_frequency']"
   ]
  },
  {
   "cell_type": "markdown",
   "metadata": {},
   "source": [
    "#### Option 1: Top OTUs by num_samples"
   ]
  },
  {
   "cell_type": "code",
   "execution_count": 10,
   "metadata": {
    "collapsed": false
   },
   "outputs": [],
   "source": [
    "df_otus_top_prev = df_otus.sort_values('num_samples', ascending=False).head(10)"
   ]
  },
  {
   "cell_type": "code",
   "execution_count": 11,
   "metadata": {
    "collapsed": true
   },
   "outputs": [],
   "source": [
    "df_otus_top_prev[['sequence', 'num_samples', 'num_samples_frac', 'num_samples_rank',\n",
    "            'total_obs', 'total_obs_frac', 'total_obs_rank', 'taxonomy']].to_csv('deblur_125nt_no_blooms_rare.top10_prevalence.tsv')"
   ]
  },
  {
   "cell_type": "markdown",
   "metadata": {},
   "source": [
    "#### Option 2: Top OTUs by total_obs"
   ]
  },
  {
   "cell_type": "code",
   "execution_count": 12,
   "metadata": {
    "collapsed": false
   },
   "outputs": [],
   "source": [
    "df_otus_top_abund = df_otus.sort_values('total_obs', ascending=False).head(10)"
   ]
  },
  {
   "cell_type": "code",
   "execution_count": 13,
   "metadata": {
    "collapsed": false
   },
   "outputs": [],
   "source": [
    "df_otus_top_abund[['sequence', 'num_samples', 'num_samples_frac', 'num_samples_rank',\n",
    "       'total_obs', 'total_obs_frac', 'total_obs_rank', 'taxonomy']].to_csv('deblur_125nt_no_blooms_rare.top10_abundance.tsv')"
   ]
  },
  {
   "cell_type": "markdown",
   "metadata": {},
   "source": [
    "#### Option 3: Manually pick OTUs"
   ]
  },
  {
   "cell_type": "markdown",
   "metadata": {},
   "source": [
    "Here: \n",
    "\n",
    "* Most prevalent\n",
    "* Most abundant\n",
    "* S24-7 (most prevalent sequence of S24-7)"
   ]
  },
  {
   "cell_type": "code",
   "execution_count": 14,
   "metadata": {
    "collapsed": false
   },
   "outputs": [],
   "source": [
    "manual_seqs = list(df_otus[df_otus.num_samples_rank == 1]['sequence']) + list(\n",
    "    df_otus[df_otus.total_obs_rank == 1]['sequence']) + [\n",
    "    df_otus[['S24-7' in tax for tax in df_otus.taxonomy]].iloc[0, :]['sequence']]"
   ]
  },
  {
   "cell_type": "code",
   "execution_count": 15,
   "metadata": {
    "collapsed": true
   },
   "outputs": [],
   "source": [
    "df_otus_manual = df_otus[df_otus['sequence'].isin(manual_seqs)]"
   ]
  },
  {
   "cell_type": "markdown",
   "metadata": {},
   "source": [
    "#### Option 4 Highest OTUs by PLS1 balance\n",
    "\n",
    "* Note that PLS1 file has 100bp sOTUs, not 150bp!\n",
    "* First sort by absolute value and get top 10\n",
    "* Then find any sequences with first 100bp (of 125bp) matching the 100bp of PLS1 entries"
   ]
  },
  {
   "cell_type": "code",
   "execution_count": 16,
   "metadata": {
    "collapsed": true
   },
   "outputs": [],
   "source": [
    "pls_seqs = list(df_pls.sort_values(by='PLS1_abs', ascending=False).head(10)['sOTU'].values)"
   ]
  },
  {
   "cell_type": "code",
   "execution_count": 17,
   "metadata": {
    "collapsed": true
   },
   "outputs": [],
   "source": [
    "df_otus_pls = df_otus[pd.Series([seq[:100] for seq in df_otus['sequence']]).isin(pls_seqs)]"
   ]
  },
  {
   "cell_type": "markdown",
   "metadata": {},
   "source": [
    "#### Then store chosen dataframe as df_otus_top"
   ]
  },
  {
   "cell_type": "code",
   "execution_count": 18,
   "metadata": {
    "collapsed": true
   },
   "outputs": [],
   "source": [
    "df_otus_top = df_otus_pls"
   ]
  },
  {
   "cell_type": "markdown",
   "metadata": {},
   "source": [
    "### Section 3. Make the trading cards"
   ]
  },
  {
   "cell_type": "markdown",
   "metadata": {},
   "source": [
    "#### Look up Wikipedia information"
   ]
  },
  {
   "cell_type": "code",
   "execution_count": 19,
   "metadata": {
    "collapsed": false,
    "scrolled": false
   },
   "outputs": [
    {
     "name": "stdout",
     "output_type": "stream",
     "text": [
      "Prevotella\n",
      "Lactobacillus\n",
      "Prevotella\n",
      "Succinivibrio\n",
      "Sarcina\n",
      "S24-7\n",
      "Prevotella\n",
      "Prevotella\n",
      "Prevotella\n",
      "Prevotella\n",
      "Treponema\n",
      "Ruminobacter\n",
      "Treponema\n",
      "Lactobacillus\n",
      "Prevotella\n",
      "S24-7\n",
      "Succinivibrio\n",
      "Sarcina\n",
      "Prevotella\n",
      "Prevotella\n",
      "Prevotella\n"
     ]
    },
    {
     "name": "stderr",
     "output_type": "stream",
     "text": [
      "/Users/luke.thompson/miniconda3/envs/emp-py3/lib/python3.5/site-packages/pandas/core/indexing.py:296: SettingWithCopyWarning: \n",
      "A value is trying to be set on a copy of a slice from a DataFrame.\n",
      "Try using .loc[row_indexer,col_indexer] = value instead\n",
      "\n",
      "See the caveats in the documentation: http://pandas.pydata.org/pandas-docs/stable/indexing.html#indexing-view-versus-copy\n",
      "  self.obj[key] = _infer_fill_value(value)\n",
      "/Users/luke.thompson/miniconda3/envs/emp-py3/lib/python3.5/site-packages/pandas/core/indexing.py:476: SettingWithCopyWarning: \n",
      "A value is trying to be set on a copy of a slice from a DataFrame.\n",
      "Try using .loc[row_indexer,col_indexer] = value instead\n",
      "\n",
      "See the caveats in the documentation: http://pandas.pydata.org/pandas-docs/stable/indexing.html#indexing-view-versus-copy\n",
      "  self.obj[item] = s\n"
     ]
    }
   ],
   "source": [
    "# add wikipedia summary\n",
    "df_otus_top.loc[:,'wikipedia'] = df_otus_top['taxonomy'].apply(get_wikipedia)\n",
    "df_otus_top.loc[:,'title'] = [value.split('\\t')[0] for value in df_otus_top['wikipedia']]\n",
    "df_otus_top.loc[:,'wikipedia'] = [value.split('\\t')[1] for value in df_otus_top['wikipedia']]"
   ]
  },
  {
   "cell_type": "code",
   "execution_count": 20,
   "metadata": {
    "collapsed": false
   },
   "outputs": [],
   "source": [
    "# use only first OTU for testing purposes\n",
    "#df_otus_top.iloc[[0]]"
   ]
  },
  {
   "cell_type": "code",
   "execution_count": 21,
   "metadata": {
    "collapsed": false,
    "scrolled": false
   },
   "outputs": [],
   "source": [
    "for index, row in df_otus_top.iterrows():\n",
    "    \n",
    "    # STORE THE RELEVANT VALUES\n",
    "    sequence = row['sequence']\n",
    "    taxonomy_gg = re.sub(r'_', r'\\_', row['taxonomy'])\n",
    "    wiki_entry = row['wikipedia']\n",
    "    wiki_entry = re.sub(r' \"', r' ``', wiki_entry) # order of quote replacement is important\n",
    "    wiki_entry = re.sub(r\" '\", r' `', wiki_entry)\n",
    "    wiki_entry = re.sub(r'\"', r\"''\", wiki_entry)\n",
    "    wiki_entry = re.sub(r'–', r'--', wiki_entry)\n",
    "    wiki_entry = re.sub(r'%', r'\\%', wiki_entry)\n",
    "    wiki_entry = re.sub(r'\\$', r'\\\\$', wiki_entry)\n",
    "    wiki_entry = re.sub(u'\\u201D', r\"''\", wiki_entry) # need to replace unicode backward double quote\n",
    "    title = row['title']\n",
    "    #title = sequence\n",
    "    prevalencePercent = row['num_samples_frac'] * 100\n",
    "    prevalenceRank = str(row['num_samples_rank'])\n",
    "    abundancePercent = row['total_obs_frac'] * 100\n",
    "    abundanceRank = str(row['total_obs_rank'])\n",
    "    numOTUs = str(df_otus.shape[0])\n",
    "    numSamples = str(num_samples)\n",
    "    trimLength = str(trim_length)\n",
    "    rarefactionDepth = str(rarefaction_depth)\n",
    "\n",
    "    # MAKE DIRECTORY\n",
    "    new_directory = '%s/card_%sbp_rare%s_rank%s_%s' % (path_output, \n",
    "            trimLength, rarefactionDepth, prevalenceRank, title)\n",
    "    make_directory(new_directory)\n",
    "    \n",
    "    # CREATE MACROS FILE\n",
    "    with open('%s/macros.tex' % new_directory, 'w') as target:\n",
    "        # SEQUENCE\n",
    "        target.write(r'\\def\\sequence{')\n",
    "        # first 50bp\n",
    "        target.write(sequence[:50])\n",
    "        # next 50bp\n",
    "        target.write('\\n')\n",
    "        target.write(sequence[50:100])\n",
    "        # next 50bp if > 100bp\n",
    "        if len(sequence) > 100:\n",
    "            target.write('\\n')\n",
    "            target.write(sequence[100:150])\n",
    "        target.write('}\\n')\n",
    "        # TAXONOMY\n",
    "        target.write(r'\\def\\taxonomyGG{')\n",
    "        target.write(taxonomy_gg)\n",
    "        target.write('}\\n')\n",
    "        # WIKIPEDIA\n",
    "        target.write(r'\\def\\wikipedia{')\n",
    "        if len(wiki_entry) < wiki_max_length:\n",
    "            target.write(wiki_entry)\n",
    "        else:\n",
    "            wiki_sentences = wiki_entry.split('. ')\n",
    "            if len('. '.join(wiki_sentences[:-1])) < wiki_max_length:\n",
    "                target.write('. '.join(wiki_sentences[:-1]))\n",
    "                target.write('.')\n",
    "            elif len('. '.join(wiki_sentences[:-2])) < wiki_max_length:\n",
    "                target.write('. '.join(wiki_sentences[:-2]))\n",
    "                target.write('.')\n",
    "            elif len('. '.join(wiki_sentences[:-3])) < wiki_max_length:\n",
    "                target.write('. '.join(wiki_sentences[:-3]))\n",
    "                target.write('.')\n",
    "            elif len('. '.join(wiki_sentences[:-4])) < wiki_max_length:\n",
    "                target.write('. '.join(wiki_sentences[:-4]))\n",
    "                target.write('.')\n",
    "            elif len('. '.join(wiki_sentences[:-5])) < wiki_max_length:\n",
    "                target.write('. '.join(wiki_sentences[:-5]))\n",
    "                target.write('.')\n",
    "            else:\n",
    "                target.write(wiki_entry[:wiki_max_length])\n",
    "                target.write('...')\n",
    "        target.write('}\\n')\n",
    "        # PREVALENCE\n",
    "        target.write(r'\\def\\prevalencePercent{')\n",
    "        target.write('{:0.2f}'.format(prevalencePercent))\n",
    "        target.write('}\\n')\n",
    "        target.write(r'\\def\\prevalenceRank{')\n",
    "        target.write(prevalenceRank)\n",
    "        target.write('}\\n')\n",
    "        # ABUNDANCE\n",
    "        target.write(r'\\def\\abundancePercent{')\n",
    "        target.write('{:0.3f}'.format(abundancePercent))\n",
    "        target.write('}\\n')\n",
    "        target.write(r'\\def\\abundanceRank{')\n",
    "        target.write(abundanceRank)\n",
    "        target.write('}\\n')\n",
    "        # METHODS/MISC\n",
    "        target.write(r'\\def\\numOTUs{')\n",
    "        target.write(numOTUs)\n",
    "        target.write('}\\n')\n",
    "        target.write(r'\\def\\trimLength{')\n",
    "        target.write(trimLength)\n",
    "        target.write('}\\n')\n",
    "        target.write(r'\\def\\numSamples{')\n",
    "        target.write(numSamples)\n",
    "        target.write('}\\n')\n",
    "        target.write(r'\\def\\rarefactionDepth{')\n",
    "        target.write(rarefactionDepth)\n",
    "        target.write('}\\n')\n",
    "        \n",
    "    # POINT PLOT OF PRESENCE/ABSENCE\n",
    "    for category in ['age_cat', 'antibiotic_history', 'fruit_frequency', 'types_of_plants']: \n",
    "\n",
    "        figpath = '%s/%s.pdf' % (new_directory, category)\n",
    "        make_point_plot(row, df_map, category, figpath)"
   ]
  },
  {
   "cell_type": "code",
   "execution_count": null,
   "metadata": {
    "collapsed": true
   },
   "outputs": [],
   "source": []
  }
 ],
 "metadata": {
  "anaconda-cloud": {},
  "kernelspec": {
   "display_name": "Python [conda env:emp-py3]",
   "language": "python",
   "name": "conda-env-emp-py3-py"
  },
  "language_info": {
   "codemirror_mode": {
    "name": "ipython",
    "version": 3
   },
   "file_extension": ".py",
   "mimetype": "text/x-python",
   "name": "python",
   "nbconvert_exporter": "python",
   "pygments_lexer": "ipython3",
   "version": "3.5.2"
  }
 },
 "nbformat": 4,
 "nbformat_minor": 1
}
