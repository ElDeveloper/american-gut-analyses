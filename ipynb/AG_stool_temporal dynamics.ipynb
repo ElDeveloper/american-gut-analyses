{
 "cells": [
  {
   "cell_type": "code",
   "execution_count": 2,
   "metadata": {
    "collapsed": true
   },
   "outputs": [],
   "source": [
    "%matplotlib inline\n",
    "import skbio\n",
    "import pandas as pd\n",
    "import numpy as np\n",
    "import matplotlib.pyplot as plt\n",
    "import seaborn"
   ]
  },
  {
   "cell_type": "code",
   "execution_count": 3,
   "metadata": {
    "collapsed": false
   },
   "outputs": [],
   "source": [
    "dm = skbio.DistanceMatrix.read('ag-cleaned-multiple-timepoints_even1250_unweighted.txt')\n",
    "w_dm = skbio.DistanceMatrix.read('ag-cleaned-multiple-timepoints_even1250_weighted.txt')\n",
    "deltas = pd.read_csv('ag-cleaned-multiple-timepoints-deltas.txt', sep='\\t', dtype=str)"
   ]
  },
  {
   "cell_type": "code",
   "execution_count": 4,
   "metadata": {
    "collapsed": true
   },
   "outputs": [],
   "source": [
    "absdeltas = deltas"
   ]
  },
  {
   "cell_type": "code",
   "execution_count": 5,
   "metadata": {
    "collapsed": true
   },
   "outputs": [],
   "source": [
    "deltas['DeltaInDays'] = pd.to_numeric(deltas['DeltaInDays'])\n",
    "absdeltas['DeltaInDays'] = deltas['DeltaInDays'].abs()"
   ]
  },
  {
   "cell_type": "code",
   "execution_count": 6,
   "metadata": {
    "collapsed": false
   },
   "outputs": [
    {
     "name": "stdout",
     "output_type": "stream",
     "text": [
      "565\n",
      "1553\n",
      "1553\n"
     ]
    }
   ],
   "source": [
    "unique_ids = []\n",
    "unique_sampleA = []\n",
    "unique_sampleB = []\n",
    "\n",
    "for i in deltas['HOST_SUBJECT_ID']:\n",
    "    if i not in unique_ids:\n",
    "        unique_ids.append(i)\n",
    "        \n",
    "for i in deltas['SampleID-A']:\n",
    "    if i not in unique_sampleA:\n",
    "        unique_sampleA.append(i)\n",
    "        \n",
    "for i in deltas['SampleID-B']:\n",
    "    if i not in unique_sampleB:\n",
    "        unique_sampleB.append(i)\n",
    "\n",
    "print(len(unique_ids))\n",
    "print(len(unique_sampleA))\n",
    "print(len(unique_sampleB))\n"
   ]
  },
  {
   "cell_type": "code",
   "execution_count": 7,
   "metadata": {
    "collapsed": true
   },
   "outputs": [],
   "source": [
    "bin_1mo = []\n",
    "bin_2mo = []\n",
    "bin_3mo = []\n",
    "bin_4mo = []\n",
    "bin_5mo = []\n",
    "bin_6mo = []\n",
    "bin_7mo = []\n",
    "bin_8mo = []\n",
    "\n",
    "host_1mo = {}\n",
    "host_2mo = {}\n",
    "host_3mo = {}\n",
    "host_4mo = {}\n",
    "host_5mo = {}\n",
    "host_6mo = {}"
   ]
  },
  {
   "cell_type": "code",
   "execution_count": 8,
   "metadata": {
    "collapsed": false
   },
   "outputs": [],
   "source": [
    "for dl in range(len(absdeltas)):\n",
    "    \n",
    "    if (absdeltas['DeltaInDays'][dl]/30.0) <= 1:\n",
    "        if (absdeltas['HOST_SUBJECT_ID'][dl] not in host_1mo):\n",
    "            host_1mo.update({absdeltas['HOST_SUBJECT_ID'][dl]:absdeltas['HOST_SUBJECT_ID'][dl]})\n",
    "            if absdeltas['SampleID-A'][dl] not in bin_1mo:\n",
    "                bin_1mo.append(absdeltas['SampleID-A'][dl])\n",
    "            if absdeltas['SampleID-B'][dl] not in bin_1mo:\n",
    "                bin_1mo.append(absdeltas['SampleID-B'][dl])  \n",
    "                \n",
    "    elif absdeltas['DeltaInDays'][dl]/30.0 <= 2:\n",
    "        if (absdeltas['HOST_SUBJECT_ID'][dl] not in host_2mo):\n",
    "            host_2mo.update({absdeltas['HOST_SUBJECT_ID'][dl]:absdeltas['HOST_SUBJECT_ID'][dl]})\n",
    "            if absdeltas['SampleID-A'][dl] not in bin_2mo:\n",
    "                bin_2mo.append(absdeltas['SampleID-A'][dl])\n",
    "            if absdeltas['SampleID-B'][dl] not in bin_2mo:\n",
    "                bin_2mo.append(absdeltas['SampleID-B'][dl])   \n",
    "                \n",
    "    elif (absdeltas['DeltaInDays'][dl]/30.0) <= 3:\n",
    "        if (absdeltas['HOST_SUBJECT_ID'][dl] not in host_3mo):\n",
    "            host_3mo.update({absdeltas['HOST_SUBJECT_ID'][dl]:absdeltas['HOST_SUBJECT_ID'][dl]})\n",
    "            if absdeltas['SampleID-A'][dl] not in bin_3mo:\n",
    "                bin_3mo.append(absdeltas['SampleID-A'][dl])\n",
    "            if absdeltas['SampleID-B'][dl] not in bin_3mo:\n",
    "                bin_3mo.append(absdeltas['SampleID-B'][dl])\n",
    "            \n",
    "    elif (absdeltas['DeltaInDays'][dl]/30.0) <= 4:\n",
    "        if (absdeltas['HOST_SUBJECT_ID'][dl] not in host_4mo):\n",
    "            host_4mo.update({absdeltas['HOST_SUBJECT_ID'][dl]:absdeltas['HOST_SUBJECT_ID'][dl]})\n",
    "            if absdeltas['SampleID-A'][dl] not in bin_4mo:\n",
    "                bin_4mo.append(absdeltas['SampleID-A'][dl])\n",
    "            if absdeltas['SampleID-B'][dl] not in bin_4mo:    \n",
    "                bin_4mo.append(absdeltas['SampleID-B'][dl])            \n",
    "            \n",
    "    elif (absdeltas['DeltaInDays'][dl]/30.0) <= 5:\n",
    "        if (absdeltas['HOST_SUBJECT_ID'][dl] not in host_5mo):\n",
    "            host_5mo.update({absdeltas['HOST_SUBJECT_ID'][dl]:absdeltas['HOST_SUBJECT_ID'][dl]})\n",
    "            if absdeltas['SampleID-A'][dl] not in bin_5mo:\n",
    "                bin_5mo.append(absdeltas['SampleID-A'][dl])\n",
    "            if absdeltas['SampleID-B'][dl] not in bin_5mo:\n",
    "                bin_5mo.append(absdeltas['SampleID-B'][dl])\n",
    "            \n",
    "    elif (absdeltas['DeltaInDays'][dl]/30.0) <= 6:\n",
    "        if (absdeltas['HOST_SUBJECT_ID'][dl] not in host_6mo):\n",
    "            host_6mo.update({absdeltas['HOST_SUBJECT_ID'][dl]:absdeltas['HOST_SUBJECT_ID'][dl]})\n",
    "            if absdeltas['SampleID-A'][dl] not in bin_6mo:\n",
    "                bin_6mo.append(absdeltas['SampleID-A'][dl])\n",
    "            if absdeltas['SampleID-B'][dl] not in bin_6mo:\n",
    "                bin_6mo.append(absdeltas['SampleID-B'][dl])"
   ]
  },
  {
   "cell_type": "code",
   "execution_count": 10,
   "metadata": {
    "collapsed": false
   },
   "outputs": [],
   "source": [
    "sub_dm1 = dm.filter(bin_1mo)\n",
    "sub_dm2 = dm.filter(bin_2mo)\n",
    "sub_dm3 = dm.filter(bin_3mo)\n",
    "sub_dm4 = dm.filter(bin_4mo)\n",
    "sub_dm5 = dm.filter(bin_5mo)\n",
    "sub_dm6 = dm.filter(bin_6mo)"
   ]
  },
  {
   "cell_type": "code",
   "execution_count": 11,
   "metadata": {
    "collapsed": false
   },
   "outputs": [],
   "source": [
    "#cols = ['1 month', '2 months', '3 months', '4 months']\n",
    "sub_dms = {'1mo':sub_dm1.condensed_form(), '2mo':sub_dm2.condensed_form(), '3mo':sub_dm3.condensed_form(), \n",
    "           '4mo':sub_dm4.condensed_form()}\n",
    "list_dms = [sub_dm1.condensed_form(), sub_dm2.condensed_form(), sub_dm3.condensed_form(), sub_dm4.condensed_form(),\n",
    "            sub_dm5.condensed_form(), sub_dm6.condensed_form()]\n",
    "df1 = pd.DataFrame({'1mo':sub_dm1.condensed_form()})\n",
    "df2 = pd.DataFrame({'2mo':sub_dm2.condensed_form()})\n",
    "df3 = pd.DataFrame({'3mo':sub_dm3.condensed_form()})\n",
    "dfs = pd.concat([df1, df2, df3], ignore_index=True, axis=1)\n",
    "cols = ['1mo', '2mo', '3mo', '4mo', '5mo', '6mo']"
   ]
  },
  {
   "cell_type": "code",
   "execution_count": 12,
   "metadata": {
    "collapsed": false
   },
   "outputs": [],
   "source": [
    "#cols = ['1 month', '2 months', '3 months', '4 months']\n",
    "sub_dms = {'1mo':sub_dm1.condensed_form(), '2mo':sub_dm2.condensed_form(), '3mo':sub_dm3.condensed_form(), \n",
    "           '4mo':sub_dm4.condensed_form()}\n",
    "list_dms = [sub_dm1.condensed_form(), sub_dm2.condensed_form(), sub_dm3.condensed_form(), sub_dm4.condensed_form(),\n",
    "            sub_dm5.condensed_form(), sub_dm6.condensed_form()]\n",
    "\n",
    "df1 = pd.DataFrame({'1mo':sub_dm1.condensed_form()})\n",
    "df2 = pd.DataFrame({'2mo':sub_dm2.condensed_form()})\n",
    "df3 = pd.DataFrame({'3mo':sub_dm3.condensed_form()})\n",
    "df4 = pd.DataFrame({'4mo':sub_dm4.condensed_form()})\n",
    "df5 = pd.DataFrame({'5mo':sub_dm5.condensed_form()})\n",
    "df6 = pd.DataFrame({'6mo':sub_dm6.condensed_form()})\n",
    "dm_dataframe = pd.concat([df1, df2, df3, df4, df5, df6], ignore_index=True, axis=1)\n",
    "cols = ['1mo', '2mo', '3mo', '4mo', '5mo', '6mo']\n",
    "dm_dataframe.columns = cols"
   ]
  },
  {
   "cell_type": "code",
   "execution_count": 13,
   "metadata": {
    "collapsed": true
   },
   "outputs": [],
   "source": [
    "distance = []\n",
    "for dl in range(len(absdeltas)):\n",
    "    distance.append(dm[absdeltas['SampleID-A'][dl], absdeltas['SampleID-B'][dl]])\n",
    "\n",
    "absdeltas['Distance'] = distance"
   ]
  },
  {
   "cell_type": "code",
   "execution_count": 14,
   "metadata": {
    "collapsed": false
   },
   "outputs": [],
   "source": [
    "delmonths = []\n",
    "for dl in range(len(absdeltas)):\n",
    "    if absdeltas['DeltaInDays'][dl]/30 <= 1:\n",
    "        delmonths.append(1)\n",
    "    elif absdeltas['DeltaInDays'][dl]/30 <= 2:\n",
    "        delmonths.append(2)\n",
    "    elif absdeltas['DeltaInDays'][dl]/30 <= 3:\n",
    "        delmonths.append(3)\n",
    "    elif absdeltas['DeltaInDays'][dl]/30 <= 4:\n",
    "        delmonths.append(4)\n",
    "    elif absdeltas['DeltaInDays'][dl]/30 <= 5:\n",
    "        delmonths.append(5)\n",
    "    elif absdeltas['DeltaInDays'][dl]/30 <= 6:\n",
    "        delmonths.append(6)\n",
    "    elif absdeltas['DeltaInDays'][dl]/30 <= 7:\n",
    "        delmonths.append(7)\n",
    "    elif absdeltas['DeltaInDays'][dl]/30 <= 8:\n",
    "        delmonths.append(8)\n",
    "    elif absdeltas['DeltaInDays'][dl]/30 <= 9:\n",
    "        delmonths.append(9)\n",
    "    elif absdeltas['DeltaInDays'][dl]/30 <= 10:\n",
    "        delmonths.append(10)\n",
    "    elif absdeltas['DeltaInDays'][dl]/30 <= 11:\n",
    "        delmonths.append(11)\n",
    "    elif absdeltas['DeltaInDays'][dl]/30 <= 12:\n",
    "        delmonths.append(12)\n",
    "    elif absdeltas['DeltaInDays'][dl]/30 > 12:\n",
    "        delmonths.append(13)\n",
    "\n",
    "absdeltas['DeltaInMonths'] = delmonths"
   ]
  },
  {
   "cell_type": "code",
   "execution_count": 18,
   "metadata": {
    "collapsed": false
   },
   "outputs": [],
   "source": [
    "uni_sub_del = pd.DataFrame()"
   ]
  },
  {
   "cell_type": "code",
   "execution_count": 19,
   "metadata": {
    "collapsed": false
   },
   "outputs": [],
   "source": [
    "host_1mo = {}\n",
    "host_2mo = {}\n",
    "host_3mo = {}\n",
    "host_4mo = {}\n",
    "host_5mo = {}\n",
    "host_6mo = {}\n",
    "host_7mo = {}\n",
    "host_8mo = {}\n",
    "host_9mo = {}\n",
    "host_10mo = {}\n",
    "host_11mo = {}\n",
    "host_12mo = {}\n",
    "host_13mo = {}\n",
    "#these loops are pretty hacky\n",
    "for dl in range(len(absdeltas)):\n",
    "    \n",
    "    if absdeltas['DeltaInMonths'][dl] == 1:\n",
    "        if (absdeltas['HOST_SUBJECT_ID'][dl] not in host_1mo):\n",
    "            host_1mo.update({absdeltas['HOST_SUBJECT_ID'][dl]:absdeltas['HOST_SUBJECT_ID'][dl]})\n",
    "            uni_sub_del = uni_sub_del.append(absdeltas.loc[dl], ignore_index=True)\n",
    " \n",
    "                \n",
    "    elif absdeltas['DeltaInMonths'][dl] == 2:\n",
    "        if (absdeltas['HOST_SUBJECT_ID'][dl] not in host_2mo):\n",
    "            host_2mo.update({absdeltas['HOST_SUBJECT_ID'][dl]:absdeltas['HOST_SUBJECT_ID'][dl]})\n",
    "            uni_sub_del = uni_sub_del.append(absdeltas.loc[dl], ignore_index=True)\n",
    "   \n",
    "                \n",
    "    elif absdeltas['DeltaInMonths'][dl] == 3:\n",
    "        if (absdeltas['HOST_SUBJECT_ID'][dl] not in host_3mo):\n",
    "            host_3mo.update({absdeltas['HOST_SUBJECT_ID'][dl]:absdeltas['HOST_SUBJECT_ID'][dl]})\n",
    "            uni_sub_del = uni_sub_del.append(absdeltas.loc[dl], ignore_index=True)\n",
    "\n",
    "            \n",
    "    elif absdeltas['DeltaInMonths'][dl] == 4:\n",
    "        if (absdeltas['HOST_SUBJECT_ID'][dl] not in host_4mo):\n",
    "            host_4mo.update({absdeltas['HOST_SUBJECT_ID'][dl]:absdeltas['HOST_SUBJECT_ID'][dl]})\n",
    "            uni_sub_del = uni_sub_del.append(absdeltas.loc[dl], ignore_index=True)\n",
    "            \n",
    "    elif absdeltas['DeltaInMonths'][dl] == 5:\n",
    "        if (absdeltas['HOST_SUBJECT_ID'][dl] not in host_5mo):\n",
    "            host_5mo.update({absdeltas['HOST_SUBJECT_ID'][dl]:absdeltas['HOST_SUBJECT_ID'][dl]})\n",
    "            uni_sub_del = uni_sub_del.append(absdeltas.loc[dl], ignore_index=True)\n",
    "\n",
    "            \n",
    "    elif absdeltas['DeltaInMonths'][dl] == 6:\n",
    "        if (absdeltas['HOST_SUBJECT_ID'][dl] not in host_6mo):\n",
    "            host_6mo.update({absdeltas['HOST_SUBJECT_ID'][dl]:absdeltas['HOST_SUBJECT_ID'][dl]})\n",
    "            uni_sub_del = uni_sub_del.append(absdeltas.loc[dl], ignore_index=True)\n",
    "    \n",
    "    elif absdeltas['DeltaInMonths'][dl] == 7:\n",
    "        if (absdeltas['HOST_SUBJECT_ID'][dl] not in host_7mo):\n",
    "            host_7mo.update({absdeltas['HOST_SUBJECT_ID'][dl]:absdeltas['HOST_SUBJECT_ID'][dl]})\n",
    "            uni_sub_del = uni_sub_del.append(absdeltas.loc[dl], ignore_index=True)\n",
    "\n",
    "    elif absdeltas['DeltaInMonths'][dl] == 8:\n",
    "        if (absdeltas['HOST_SUBJECT_ID'][dl] not in host_8mo):\n",
    "            host_8mo.update({absdeltas['HOST_SUBJECT_ID'][dl]:absdeltas['HOST_SUBJECT_ID'][dl]})\n",
    "            uni_sub_del = uni_sub_del.append(absdeltas.loc[dl], ignore_index=True)\n",
    "    \n",
    "    elif absdeltas['DeltaInMonths'][dl] == 9:\n",
    "        if (absdeltas['HOST_SUBJECT_ID'][dl] not in host_9mo):\n",
    "            host_9mo.update({absdeltas['HOST_SUBJECT_ID'][dl]:absdeltas['HOST_SUBJECT_ID'][dl]})\n",
    "            uni_sub_del = uni_sub_del.append(absdeltas.loc[dl], ignore_index=True)\n",
    "            \n",
    "    elif absdeltas['DeltaInMonths'][dl] == 10:\n",
    "        if (absdeltas['HOST_SUBJECT_ID'][dl] not in host_10mo):\n",
    "            host_10mo.update({absdeltas['HOST_SUBJECT_ID'][dl]:absdeltas['HOST_SUBJECT_ID'][dl]})\n",
    "            uni_sub_del = uni_sub_del.append(absdeltas.loc[dl], ignore_index=True)\n",
    "            \n",
    "    elif absdeltas['DeltaInMonths'][dl] == 11:\n",
    "        if (absdeltas['HOST_SUBJECT_ID'][dl] not in host_11mo):\n",
    "            host_11mo.update({absdeltas['HOST_SUBJECT_ID'][dl]:absdeltas['HOST_SUBJECT_ID'][dl]})\n",
    "            uni_sub_del = uni_sub_del.append(absdeltas.loc[dl], ignore_index=True)\n",
    "            \n",
    "    elif absdeltas['DeltaInMonths'][dl] == 12:\n",
    "        if (absdeltas['HOST_SUBJECT_ID'][dl] not in host_12mo):\n",
    "            host_12mo.update({absdeltas['HOST_SUBJECT_ID'][dl]:absdeltas['HOST_SUBJECT_ID'][dl]})\n",
    "            uni_sub_del = uni_sub_del.append(absdeltas.loc[dl], ignore_index=True)\n",
    "            \n",
    "    elif absdeltas['DeltaInMonths'][dl] == 13:\n",
    "        if (absdeltas['HOST_SUBJECT_ID'][dl] not in host_13mo):\n",
    "            host_13mo.update({absdeltas['HOST_SUBJECT_ID'][dl]:absdeltas['HOST_SUBJECT_ID'][dl]})\n",
    "            uni_sub_del = uni_sub_del.append(absdeltas.loc[dl], ignore_index=True)\n"
   ]
  },
  {
   "cell_type": "code",
   "execution_count": 26,
   "metadata": {
    "collapsed": false
   },
   "outputs": [],
   "source": [
    "between_dm = dm"
   ]
  },
  {
   "cell_type": "code",
   "execution_count": 27,
   "metadata": {
    "collapsed": true
   },
   "outputs": [],
   "source": [
    "for ser in range(len(absdeltas)):\n",
    "    ind1 = absdeltas['SampleID-A'][ser]\n",
    "    ind2 = absdeltas['SampleID-B'][ser]\n",
    "    bind1 = between_dm.index(ind1)\n",
    "    bind2 = between_dm.index(ind2)\n",
    "    between_dm[bind1][bind2] = 0"
   ]
  },
  {
   "cell_type": "code",
   "execution_count": 28,
   "metadata": {
    "collapsed": false
   },
   "outputs": [],
   "source": [
    "w_between_dm = w_dm\n",
    "for ser in range(len(absdeltas)):\n",
    "    ind1 = absdeltas['SampleID-A'][ser]\n",
    "    ind2 = absdeltas['SampleID-B'][ser]\n",
    "    bind1 = w_between_dm.index(ind1)\n",
    "    bind2 = w_between_dm.index(ind2)\n",
    "    w_between_dm[bind1][bind2] = 0\n",
    "    \n",
    "w_between_cform = w_between_dm.condensed_form()\n",
    "w_zero_indexes = []\n",
    "for i in range(len(w_between_cform)):\n",
    "    if w_between_cform[i] == 0:\n",
    "        w_zero_indexes.append(i)\n",
    "\n",
    "w_between_arr = np.delete(w_between_cform, w_zero_indexes)"
   ]
  },
  {
   "cell_type": "code",
   "execution_count": 29,
   "metadata": {
    "collapsed": true
   },
   "outputs": [],
   "source": [
    "between_cform = between_dm.condensed_form()"
   ]
  },
  {
   "cell_type": "code",
   "execution_count": 31,
   "metadata": {
    "collapsed": false
   },
   "outputs": [],
   "source": [
    "zero_indexes = []\n",
    "for i in range(len(between_cform)):\n",
    "    if between_cform[i] == 0:\n",
    "        zero_indexes.append(i)"
   ]
  },
  {
   "cell_type": "code",
   "execution_count": 33,
   "metadata": {
    "collapsed": false
   },
   "outputs": [],
   "source": [
    "between_arr = np.delete(between_cform, zero_indexes)"
   ]
  },
  {
   "cell_type": "code",
   "execution_count": 35,
   "metadata": {
    "collapsed": true
   },
   "outputs": [],
   "source": [
    "w_dm = skbio.DistanceMatrix.read('ag-cleaned-multiple-timepoints_even1250_weighted.txt')"
   ]
  },
  {
   "cell_type": "code",
   "execution_count": 36,
   "metadata": {
    "collapsed": false
   },
   "outputs": [],
   "source": [
    "w_distance = []\n",
    "for dl in range(len(absdeltas)):\n",
    "    w_distance.append(w_dm[absdeltas['SampleID-A'][dl], absdeltas['SampleID-B'][dl]])\n",
    "\n",
    "absdeltas['Weighted Distance'] = w_distance"
   ]
  },
  {
   "cell_type": "code",
   "execution_count": 39,
   "metadata": {
    "collapsed": true
   },
   "outputs": [],
   "source": [
    "w_distance = []\n",
    "for dl in range(len(uni_sub_del)):\n",
    "    w_distance.append(w_dm[uni_sub_del['SampleID-A'][dl], uni_sub_del['SampleID-B'][dl]])\n",
    "\n",
    "uni_sub_del['Weighted Distance'] = w_distance"
   ]
  },
  {
   "cell_type": "code",
   "execution_count": 42,
   "metadata": {
    "collapsed": true
   },
   "outputs": [],
   "source": [
    "bet_delmonths = []\n",
    "for i in range(len(between_arr)):\n",
    "    bet_delmonths.append(14)"
   ]
  },
  {
   "cell_type": "code",
   "execution_count": 43,
   "metadata": {
    "collapsed": true
   },
   "outputs": [],
   "source": [
    "w_bet_delmonths = []\n",
    "for i in range(len(w_between_arr)):\n",
    "    w_bet_delmonths.append(14)"
   ]
  },
  {
   "cell_type": "code",
   "execution_count": 44,
   "metadata": {
    "collapsed": false
   },
   "outputs": [],
   "source": [
    "bet_cols = ['Distance']\n",
    "between_df = pd.DataFrame(data=between_arr, columns=bet_cols)"
   ]
  },
  {
   "cell_type": "code",
   "execution_count": 45,
   "metadata": {
    "collapsed": true
   },
   "outputs": [],
   "source": [
    "between_df[\"DeltaInMonths\"] = bet_delmonths"
   ]
  },
  {
   "cell_type": "code",
   "execution_count": 46,
   "metadata": {
    "collapsed": false
   },
   "outputs": [],
   "source": [
    "w_bet_cols = ['Weighted Distance']\n",
    "\n",
    "w_between_df = pd.DataFrame(data=w_between_arr, columns=w_bet_cols)\n",
    "w_between_df[\"DeltaInMonths\"] = w_bet_delmonths\n",
    "tot_between_df = pd.concat([between_df, w_between_df])"
   ]
  },
  {
   "cell_type": "code",
   "execution_count": 48,
   "metadata": {
    "collapsed": false
   },
   "outputs": [],
   "source": [
    "with_betweens_absdeltas = absdeltas.append(tot_between_df)"
   ]
  },
  {
   "cell_type": "markdown",
   "metadata": {},
   "source": [
    "# RESULTS SO FAR\n",
    "Here are the boxplots with the unweighted distances including the btween sample distances as month 14, and below those are the bowplots of the weighted samples. I did something wrong with the dataframes that include the weighted between sample distances and so i have not plotted those yet, as you can see with month 14 on the plot being empty. As expected, the median for the between sample distances in notably higher than within sample distances. "
   ]
  },
  {
   "cell_type": "markdown",
   "metadata": {},
   "source": [
    "## Unweighted Distances for all within sample distances"
   ]
  },
  {
   "cell_type": "code",
   "execution_count": 50,
   "metadata": {
    "collapsed": false
   },
   "outputs": [
    {
     "data": {
      "text/plain": [
       "<matplotlib.axes._subplots.AxesSubplot at 0x11ca4acf8>"
      ]
     },
     "execution_count": 50,
     "metadata": {},
     "output_type": "execute_result"
    },
    {
     "data": {
      "image/png": "[encoded data removed]",
      "text/plain": [
       "<matplotlib.figure.Figure at 0x11ca31be0>"
      ]
     },
     "metadata": {},
     "output_type": "display_data"
    }
   ],
   "source": [
    "seaborn.boxplot(x=\"DeltaInMonths\", y=\"Distance\", data=with_betweens_absdeltas)"
   ]
  },
  {
   "cell_type": "code",
   "execution_count": 51,
   "metadata": {
    "collapsed": true
   },
   "outputs": [],
   "source": [
    "with_betweens_unisubs = uni_sub_del.append(tot_between_df)"
   ]
  },
  {
   "cell_type": "markdown",
   "metadata": {},
   "source": [
    "## Unweighted Distances for only unique subject distances in each month"
   ]
  },
  {
   "cell_type": "code",
   "execution_count": 52,
   "metadata": {
    "collapsed": false
   },
   "outputs": [
    {
     "data": {
      "text/plain": [
       "<matplotlib.axes._subplots.AxesSubplot at 0x15d0b58d0>"
      ]
     },
     "execution_count": 52,
     "metadata": {},
     "output_type": "execute_result"
    },
    {
     "data": {
      "image/png": "[encoded data removed]",
      "text/plain": [
       "<matplotlib.figure.Figure at 0x11ca5fe80>"
      ]
     },
     "metadata": {},
     "output_type": "display_data"
    }
   ],
   "source": [
    "seaborn.boxplot(x=\"DeltaInMonths\", y=\"Distance\", data=with_betweens_unisubs)"
   ]
  },
  {
   "cell_type": "markdown",
   "metadata": {},
   "source": [
    "## Weighted Distances for all within sample distances"
   ]
  },
  {
   "cell_type": "code",
   "execution_count": 54,
   "metadata": {
    "collapsed": false
   },
   "outputs": [
    {
     "data": {
      "text/plain": [
       "<matplotlib.axes._subplots.AxesSubplot at 0x10ce209e8>"
      ]
     },
     "execution_count": 54,
     "metadata": {},
     "output_type": "execute_result"
    },
    {
     "data": {
      "image/png": "[encoded data removed]",
      "text/plain": [
       "<matplotlib.figure.Figure at 0x11c3c5860>"
      ]
     },
     "metadata": {},
     "output_type": "display_data"
    }
   ],
   "source": [
    "seaborn.boxplot(x=\"DeltaInMonths\", y=\"Weighted Distance\", data=with_betweens_absdeltas)"
   ]
  },
  {
   "cell_type": "markdown",
   "metadata": {},
   "source": [
    "## Weighted Distances for only unique subject distances in each month"
   ]
  },
  {
   "cell_type": "code",
   "execution_count": 55,
   "metadata": {
    "collapsed": false
   },
   "outputs": [
    {
     "data": {
      "text/plain": [
       "<matplotlib.axes._subplots.AxesSubplot at 0x15f03e080>"
      ]
     },
     "execution_count": 55,
     "metadata": {},
     "output_type": "execute_result"
    },
    {
     "data": {
      "image/png": "[encoded data removed]",
      "text/plain": [
       "<matplotlib.figure.Figure at 0x10fbde898>"
      ]
     },
     "metadata": {},
     "output_type": "display_data"
    }
   ],
   "source": [
    "seaborn.boxplot(x=\"DeltaInMonths\", y=\"Weighted Distance\", data=with_betweens_unisubs)"
   ]
  },
  {
   "cell_type": "code",
   "execution_count": null,
   "metadata": {
    "collapsed": true
   },
   "outputs": [],
   "source": []
  }
 ],
 "metadata": {
  "kernelspec": {
   "display_name": "Python 3",
   "language": "python",
   "name": "python3"
  },
  "language_info": {
   "codemirror_mode": {
    "name": "ipython",
    "version": 3
   },
   "file_extension": ".py",
   "mimetype": "text/x-python",
   "name": "python",
   "nbconvert_exporter": "python",
   "pygments_lexer": "ipython3",
   "version": "3.4.5"
  }
 },
 "nbformat": 4,
 "nbformat_minor": 2
}
