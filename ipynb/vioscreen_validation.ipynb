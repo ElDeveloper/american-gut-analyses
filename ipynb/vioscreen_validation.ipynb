{
 "cells": [
  {
   "cell_type": "markdown",
   "metadata": {},
   "source": [
    "This notebook is to validate AG informal dietary questions with the formal FFQ. Association between categorical and continuous variables were examined with Mann-Whiteney and Kruskal-Wallis tests, and the strength of correlation was quantified by the p-values after multiple comparison correction. Effect size was also calculated for Mann-Whitney test (reference: Fritz 2011, \"Effect Size Estimates: Current Use, Calculations, and Interpretation), yet not for Kruskal-Wallis, as the later is hard to interpret and not comparable to the effect size for Mann-Whiteney test."
   ]
  },
  {
   "cell_type": "code",
   "execution_count": 2,
   "metadata": {},
   "outputs": [],
   "source": [
    "import warnings\n",
    "warnings.filterwarnings(\"ignore\")\n",
    "\n",
    "import numpy as np\n",
    "import pandas as pd\n",
    "import skbio\n",
    "import scipy as sp\n",
    "import seaborn as sns\n",
    "\n",
    "import matplotlib.pyplot as plt\n",
    "import matplotlib.gridspec as gridspec\n",
    "from matplotlib.backends.backend_pdf import PdfPages\n",
    "% matplotlib inline"
   ]
  },
  {
   "cell_type": "code",
   "execution_count": 3,
   "metadata": {},
   "outputs": [],
   "source": [
    "mapping = pd.read_csv('ag_map_with_alpha.txt', sep='\\t', dtype=str, na_values='Unspecified')"
   ]
  },
  {
   "cell_type": "markdown",
   "metadata": {},
   "source": [
    "## Vioscreen Questions on Alcohol"
   ]
  },
  {
   "cell_type": "code",
   "execution_count": 4,
   "metadata": {},
   "outputs": [],
   "source": [
    "# three vioscreen variables on alcohol\n",
    "mapping.vioscreen_alcohol_servings = pd.to_numeric(mapping.vioscreen_alcohol_servings)\n",
    "mapping.vioscreen_a_bev = pd.to_numeric(mapping.vioscreen_a_bev)\n",
    "mapping.vioscreen_alcohol = pd.to_numeric(mapping.vioscreen_alcohol)\n",
    "\n",
    "vios_alcohol = ['vioscreen_alcohol_servings', 'vioscreen_a_bev', 'vioscreen_alcohol']"
   ]
  },
  {
   "cell_type": "markdown",
   "metadata": {},
   "source": [
    "### Association between vioscreen alcohol variables and each AG alcohol related variables"
   ]
  },
  {
   "cell_type": "code",
   "execution_count": 5,
   "metadata": {},
   "outputs": [],
   "source": [
    "# AG alcohol variable: acohol_comsumption\n",
    "g0 = mapping.loc[mapping['alcohol_consumption'] == 'Yes']\n",
    "g1 = mapping.loc[mapping['alcohol_consumption'] == 'No']\n",
    "\n",
    "var_diet = 'alcohol_consumption'\n",
    "results_alcohol_consumption = []\n",
    "for var in vios_alcohol:\n",
    "        u, pval = sp.stats.mannwhitneyu(g0[var], g1[var], alternative = 'two-sided')  \n",
    "        ef = np.absolute(sp.stats.ranksums(g0[var], g1[var])[0]/np.sqrt(mapping.shape[0]))\n",
    "        results_alcohol_consumption.append([var_diet, var, u, pval, ef])  \n",
    "results_alcohol_consumption = pd.DataFrame(results_alcohol_consumption, \n",
    "                                           columns=['AG_dietary', 'vioscreen var', 'test statistic', \n",
    "                                                    'raw p-value', 'effect size'])\n",
    "results_alcohol_consumption.set_index('AG_dietary', inplace=True)"
   ]
  },
  {
   "cell_type": "code",
   "execution_count": 6,
   "metadata": {},
   "outputs": [],
   "source": [
    "# AG alcohol variable: alcohol_types_beercider\n",
    "g0 = mapping.loc[mapping['alcohol_types_beercider'] == 'Yes']\n",
    "g1 = mapping.loc[mapping['alcohol_types_beercider'] == 'No']\n",
    "\n",
    "var_diet = 'alcohol_types_beercider'\n",
    "results_beercider = []\n",
    "for var in vios_alcohol:\n",
    "        u, pval = sp.stats.mannwhitneyu(g0[var], g1[var], alternative = 'two-sided')\n",
    "        ef = np.absolute(sp.stats.ranksums(g0[var], g1[var])[0]/np.sqrt(mapping.shape[0]))\n",
    "        results_beercider.append([var_diet, var, u, pval, ef])  \n",
    "results_beercider = pd.DataFrame(results_beercider, \n",
    "                                 columns=['AG_dietary', 'vioscreen var', 'test statistic', \n",
    "                                          'raw p-value', 'effect size'])\n",
    "results_beercider.set_index('AG_dietary', inplace=True)"
   ]
  },
  {
   "cell_type": "code",
   "execution_count": 7,
   "metadata": {},
   "outputs": [],
   "source": [
    "# AG alcohol variable: alcohol_types_red_wine\n",
    "g0 = mapping.loc[mapping['alcohol_types_red_wine'] == 'Yes']\n",
    "g1 = mapping.loc[mapping['alcohol_types_red_wine'] == 'No']\n",
    "\n",
    "var_diet = 'alcohol_types_red_wine'\n",
    "results_red_wine = []\n",
    "for var in vios_alcohol:\n",
    "        u, pval = sp.stats.mannwhitneyu(g0[var], g1[var], alternative = 'two-sided')  \n",
    "        ef = np.absolute(sp.stats.ranksums(g0[var], g1[var])[0]/np.sqrt(mapping.shape[0]))\n",
    "        results_red_wine.append([var_diet, var, u, pval, ef])  \n",
    "results_red_wine = pd.DataFrame(results_red_wine, \n",
    "                                columns=['AG_dietary', 'vioscreen var', 'test statistic', \n",
    "                                         'raw p-value', 'effect size'])\n",
    "results_red_wine.set_index('AG_dietary', inplace=True)"
   ]
  },
  {
   "cell_type": "code",
   "execution_count": 8,
   "metadata": {},
   "outputs": [],
   "source": [
    "# AG alcohol variable: alcohol_types_sour_beers\n",
    "g0 = mapping.loc[mapping['alcohol_types_sour_beers'] == 'Yes']\n",
    "g1 = mapping.loc[mapping['alcohol_types_sour_beers'] == 'No']\n",
    "\n",
    "var_diet = 'alcohol_types_sour_beers'\n",
    "results_sour_beers = []\n",
    "for var in vios_alcohol:\n",
    "        u, pval = sp.stats.mannwhitneyu(g0[var], g1[var], alternative = 'two-sided') \n",
    "        ef = np.absolute(sp.stats.ranksums(g0[var], g1[var])[0]/np.sqrt(mapping.shape[0]))\n",
    "        results_sour_beers.append([var_diet, var, u, pval, ef])  \n",
    "results_sour_beers = pd.DataFrame(results_sour_beers, \n",
    "                                  columns=['AG_dietary', 'vioscreen var', 'test statistic', \n",
    "                                           'raw p-value', 'effect size'])\n",
    "results_sour_beers.set_index('AG_dietary', inplace=True)"
   ]
  },
  {
   "cell_type": "code",
   "execution_count": 9,
   "metadata": {},
   "outputs": [],
   "source": [
    "# AG alcohol variable: alcohol_types_spiritshared_alcohol\n",
    "g0 = mapping.loc[mapping['alcohol_types_spiritshard_alcohol'] == 'Yes']\n",
    "g1 = mapping.loc[mapping['alcohol_types_spiritshard_alcohol'] == 'No']\n",
    "\n",
    "var_diet = 'alcohol_types_spiritshard_alcohol'\n",
    "results_spiritshard_alcohol = []\n",
    "for var in vios_alcohol:\n",
    "        u, pval = sp.stats.mannwhitneyu(g0[var], g1[var], alternative = 'two-sided') \n",
    "        ef = np.absolute(sp.stats.ranksums(g0[var], g1[var])[0]/np.sqrt(mapping.shape[0]))\n",
    "        results_spiritshard_alcohol.append([var_diet, var, u, pval, ef])  \n",
    "results_spiritshard_alcohol = pd.DataFrame(results_spiritshard_alcohol,  \n",
    "                                           columns=['AG_dietary', 'vioscreen var', 'test statistic', \n",
    "                                                    'raw p-value', 'effect size'])\n",
    "results_spiritshard_alcohol.set_index('AG_dietary', inplace=True)"
   ]
  },
  {
   "cell_type": "code",
   "execution_count": 10,
   "metadata": {},
   "outputs": [],
   "source": [
    "# AG alcohol variable: alcohol_types_unspecified\n",
    "g0 = mapping.loc[mapping['alcohol_types_unspecified'] == 'Yes']\n",
    "g1 = mapping.loc[mapping['alcohol_types_unspecified'] == 'No']\n",
    "\n",
    "var_diet = 'alcohol_types_unspecified'\n",
    "results_unspecified = []\n",
    "for var in vios_alcohol:\n",
    "        u, pval = sp.stats.mannwhitneyu(g0[var], g1[var], alternative = 'two-sided')  \n",
    "        ef = np.absolute(sp.stats.ranksums(g0[var], g1[var])[0]/np.sqrt(mapping.shape[0]))\n",
    "        results_unspecified.append([var_diet, var, u, pval, ef])  \n",
    "results_unspecified = pd.DataFrame(results_unspecified,  \n",
    "                                   columns=['AG_dietary', 'vioscreen var', 'test statistic', \n",
    "                                            'raw p-value', 'effect size'])\n",
    "results_unspecified.set_index('AG_dietary', inplace=True)"
   ]
  },
  {
   "cell_type": "code",
   "execution_count": 11,
   "metadata": {},
   "outputs": [],
   "source": [
    "# AG alcohol variable: alcohol_types_white_wine\n",
    "g0 = mapping.loc[mapping['alcohol_types_white_wine'] == 'Yes']\n",
    "g1 = mapping.loc[mapping['alcohol_types_white_wine'] == 'No']\n",
    "\n",
    "var_diet = 'alcohol_types_white_wine'\n",
    "results_white_wine = []\n",
    "for var in vios_alcohol:\n",
    "        u, pval = sp.stats.mannwhitneyu(g0[var], g1[var], alternative = 'two-sided')  \n",
    "        ef = np.absolute(sp.stats.ranksums(g0[var], g1[var])[0]/np.sqrt(mapping.shape[0]))\n",
    "        results_white_wine.append([var_diet, var, u, pval, ef])  \n",
    "results_white_wine = pd.DataFrame(results_white_wine,\n",
    "                                  columns=['AG_dietary', 'vioscreen var', 'test statistic', \n",
    "                                           'raw p-value', 'effect size'])\n",
    "results_white_wine.set_index('AG_dietary', inplace=True)"
   ]
  },
  {
   "cell_type": "code",
   "execution_count": 12,
   "metadata": {},
   "outputs": [],
   "source": [
    "# AG alcohol variable: alcohol_frequency\n",
    "g0 = mapping.loc[mapping['alcohol_frequency'] == 'Rarely (a few times/month)']\n",
    "g1 = mapping.loc[mapping['alcohol_frequency'] == 'Never']\n",
    "g2 = mapping.loc[mapping['alcohol_frequency'] == 'Occasionally (1-2 times/week)']\n",
    "g3 = mapping.loc[mapping['alcohol_frequency'] == 'Regularly (3-5 times/week)']\n",
    "g4 = mapping.loc[mapping['alcohol_frequency'] == 'Daily']\n",
    "\n",
    "var_diet = 'alcohol_frequency'\n",
    "results_alcohol_frequency = []\n",
    "n = mapping.shape[0]\n",
    "for var in vios_alcohol:\n",
    "        w, pval = sp.stats.kruskal(g0[var], g1[var], g2[var], g3[var], g4[var], nan_policy='omit') \n",
    "        ef = w/((n^2-1)/(n+1))\n",
    "        results_alcohol_frequency.append([var_diet, var, u, pval, ef])  \n",
    "results_alcohol_frequency = pd.DataFrame(results_alcohol_frequency,\n",
    "                                         columns=['AG_dietary', 'vioscreen var', 'test statistic', \n",
    "                                                  'raw p-value', 'effect size'])\n",
    "results_alcohol_frequency.set_index('AG_dietary', inplace=True)"
   ]
  },
  {
   "cell_type": "code",
   "execution_count": 13,
   "metadata": {},
   "outputs": [],
   "source": [
    "# combine results and multiple comparison correction\n",
    "results_alcohol = pd.concat([results_alcohol_consumption, results_beercider,\n",
    "          results_red_wine, results_sour_beers, \n",
    "          results_spiritshard_alcohol, results_unspecified,\n",
    "          results_white_wine, results_alcohol_frequency])"
   ]
  },
  {
   "cell_type": "code",
   "execution_count": 14,
   "metadata": {},
   "outputs": [],
   "source": [
    "# pvalue after BH and Beonferrroni correction\n",
    "from statsmodels.sandbox.stats.multicomp import multipletests\n",
    "results_alcohol['fdr corrected pval'] = multipletests(results_alcohol['raw p-value'], method = 'fdr_bh')[1]\n",
    "results_alcohol['bf corrected pval'] = multipletests(results_alcohol['raw p-value'], method = 'bonferroni')[1]"
   ]
  },
  {
   "cell_type": "code",
   "execution_count": 15,
   "metadata": {},
   "outputs": [],
   "source": [
    "# output results\n",
    "results_alcohol = results_alcohol.sort_values(['fdr corrected pval'], ascending=False)\n",
    "results_alcohol.to_csv('alcohol.txt', sep='\\t')"
   ]
  },
  {
   "cell_type": "markdown",
   "metadata": {},
   "source": [
    "## Vioscreen Questions on Animials (meat, fish, egg consumptions)"
   ]
  },
  {
   "cell_type": "code",
   "execution_count": 16,
   "metadata": {},
   "outputs": [],
   "source": [
    "# animals consumption variables in vioscreen\n",
    "vios_meat = ['vioscreen_m_meat', 'vioscreen_m_poult', 'vioscreen_m_frank', \n",
    "             'vioscreen_m_mpf', 'vioscreen_m_organ', 'vioscreen_m_egg',\n",
    "            'vioscreen_m_fish_hi', 'vioscreen_m_fish_lo']\n",
    "mapping[vios_meat] = mapping[vios_meat].apply(pd.to_numeric, errors='coerce')"
   ]
  },
  {
   "cell_type": "markdown",
   "metadata": {},
   "source": [
    "### Association between vioscreen animals-eating variables and each AG animals-eating related variables"
   ]
  },
  {
   "cell_type": "code",
   "execution_count": 17,
   "metadata": {},
   "outputs": [],
   "source": [
    "# AG animal consumption variable: poultry_frequency\n",
    "var_diet = 'poultry_frequency'\n",
    "g0 = mapping.loc[mapping.poultry_frequency == 'Occasionally (1-2 times/week)']\n",
    "g1 = mapping.loc[mapping.poultry_frequency == 'Regularly (3-5 times/week)']\n",
    "g2 = mapping.loc[mapping.poultry_frequency == 'Rarely (less than once/week)']\n",
    "g3 = mapping.loc[mapping.poultry_frequency == 'Never']\n",
    "g4 = mapping.loc[mapping.poultry_frequency == 'Daily']     \n",
    "\n",
    "results_poultry = []\n",
    "for var in vios_meat:\n",
    "        u, pval = sp.stats.mannwhitneyu(g0[var], g1[var], alternative = 'two-sided')  \n",
    "        results_poultry.append([var_diet, var, u, pval])  \n",
    "results_poultry = pd.DataFrame(results_poultry, columns=['AG_dietary', 'vioscreen var', 'test statistic', 'raw p-value'])\n",
    "results_poultry.set_index('AG_dietary', inplace=True)"
   ]
  },
  {
   "cell_type": "code",
   "execution_count": 18,
   "metadata": {},
   "outputs": [],
   "source": [
    "# AG animal consumption variable: red_meat_frequency\n",
    "var_diet = 'red_meat_frequency'\n",
    "g0 = mapping.loc[mapping.red_meat_frequency == 'Occasionally (1-2 times/week)']\n",
    "g1 = mapping.loc[mapping.red_meat_frequency == 'Regularly (3-5 times/week)']\n",
    "g2 = mapping.loc[mapping.red_meat_frequency == 'Rarely (less than once/week)']\n",
    "g3 = mapping.loc[mapping.red_meat_frequency == 'Never']\n",
    "g4 = mapping.loc[mapping.red_meat_frequency == 'Daily']     \n",
    "\n",
    "results_red_meat = []\n",
    "for var in vios_meat:\n",
    "        u, pval = sp.stats.mannwhitneyu(g0[var], g1[var], alternative = 'two-sided')  \n",
    "        results_red_meat.append([var_diet, var, u, pval])  \n",
    "results_red_meat = pd.DataFrame(results_red_meat, columns=['AG_dietary', 'vioscreen var', 'test statistic', 'raw p-value'])\n",
    "results_red_meat.set_index('AG_dietary', inplace=True)"
   ]
  },
  {
   "cell_type": "code",
   "execution_count": 19,
   "metadata": {},
   "outputs": [],
   "source": [
    "# AG animal consumption variable: high_fat_red_meat_frequency\n",
    "var_diet = 'high_fat_red_meat_frequency'\n",
    "g0 = mapping.loc[mapping.high_fat_red_meat_frequency == 'Occasionally (1-2 times/week)']\n",
    "g1 = mapping.loc[mapping.high_fat_red_meat_frequency == 'Regularly (3-5 times/week)']\n",
    "g2 = mapping.loc[mapping.high_fat_red_meat_frequency == 'Rarely (less than once/week)']\n",
    "g3 = mapping.loc[mapping.high_fat_red_meat_frequency == 'Never']\n",
    "g4 = mapping.loc[mapping.high_fat_red_meat_frequency == 'Daily']     \n",
    "\n",
    "results_high_fat = []\n",
    "for var in vios_meat:\n",
    "        u, pval = sp.stats.mannwhitneyu(g0[var], g1[var], alternative = 'two-sided')  \n",
    "        results_high_fat.append([var_diet, var, u, pval])  \n",
    "results_high_fat = pd.DataFrame(results_high_fat, columns=['AG_dietary', 'vioscreen var', 'test statistic', 'raw p-value'])\n",
    "results_high_fat.set_index('AG_dietary', inplace=True)"
   ]
  },
  {
   "cell_type": "code",
   "execution_count": 20,
   "metadata": {},
   "outputs": [],
   "source": [
    "# AG animal consumption variable: meat_eggs_frequency\n",
    "var_diet = 'meat_eggs_frequency'\n",
    "g0 = mapping.loc[mapping.meat_eggs_frequency == 'Occasionally (1-2 times/week)']\n",
    "g1 = mapping.loc[mapping.meat_eggs_frequency == 'Regularly (3-5 times/week)']\n",
    "g2 = mapping.loc[mapping.meat_eggs_frequency == 'Rarely (less than once/week)']\n",
    "g3 = mapping.loc[mapping.meat_eggs_frequency == 'Never']\n",
    "g4 = mapping.loc[mapping.meat_eggs_frequency == 'Daily']     \n",
    "\n",
    "results_meat_egg = []\n",
    "for var in vios_meat:\n",
    "        u, pval = sp.stats.mannwhitneyu(g0[var], g1[var], alternative = 'two-sided')  \n",
    "        results_meat_egg.append([var_diet, var, u, pval])  \n",
    "results_meat_egg = pd.DataFrame(results_meat_egg, columns=['AG_dietary', 'vioscreen var', 'test statistic', 'raw p-value'])\n",
    "results_meat_egg.set_index('AG_dietary', inplace=True)"
   ]
  },
  {
   "cell_type": "code",
   "execution_count": 21,
   "metadata": {},
   "outputs": [],
   "source": [
    "# AG animal consumption variable: seafood_frequency\n",
    "var_diet = 'seafood_frequency'\n",
    "g0 = mapping.loc[mapping.seafood_frequency == 'Occasionally (1-2 times/week)']\n",
    "g1 = mapping.loc[mapping.seafood_frequency == 'Regularly (3-5 times/week)']\n",
    "g2 = mapping.loc[mapping.seafood_frequency == 'Rarely (less than once/week)']\n",
    "g3 = mapping.loc[mapping.seafood_frequency == 'Never']\n",
    "g4 = mapping.loc[mapping.seafood_frequency == 'Daily']     \n",
    "\n",
    "results_seafood = []\n",
    "for var in vios_meat:\n",
    "        u, pval = sp.stats.mannwhitneyu(g0[var], g1[var], alternative = 'two-sided')  \n",
    "        results_seafood.append([var_diet, var, u, pval])  \n",
    "results_seafood = pd.DataFrame(results_seafood, columns=['AG_dietary', 'vioscreen var', 'test statistic', 'raw p-value'])\n",
    "results_seafood.set_index('AG_dietary', inplace=True)"
   ]
  },
  {
   "cell_type": "code",
   "execution_count": 22,
   "metadata": {},
   "outputs": [],
   "source": [
    "# AG animal consumption variable: consume_animal_products_abx\n",
    "var_diet = 'consume_animal_products_abx'\n",
    "g0 = mapping.loc[mapping.consume_animal_products_abx == 'Yes']\n",
    "g1 = mapping.loc[mapping.consume_animal_products_abx == 'Not sure']\n",
    "g2 = mapping.loc[mapping.consume_animal_products_abx == 'No']   \n",
    "\n",
    "results_animal = []\n",
    "for var in vios_meat:\n",
    "        u, pval = sp.stats.mannwhitneyu(g0[var], g1[var], alternative = 'two-sided')  \n",
    "        results_animal.append([var_diet, var, u, pval])  \n",
    "results_animal = pd.DataFrame(results_animal, columns=['AG_dietary', 'vioscreen var', 'test statistic', 'raw p-value'])\n",
    "results_animal.set_index('AG_dietary', inplace=True)"
   ]
  },
  {
   "cell_type": "code",
   "execution_count": 23,
   "metadata": {},
   "outputs": [],
   "source": [
    "# combine results and multiple correction\n",
    "results_animals = pd.concat([results_poultry, results_red_meat, results_high_fat, \n",
    "                             results_meat_egg, results_seafood, results_animal])\n",
    "# pvalue after BH and Beonferrroni correction\n",
    "from statsmodels.sandbox.stats.multicomp import multipletests\n",
    "results_animals['fdr corrected pval'] = multipletests(results_animals['raw p-value'], method = 'fdr_bh')[1]\n",
    "results_animals['bf corrected pval'] = multipletests(results_animals['raw p-value'], method = 'bonferroni')[1]"
   ]
  },
  {
   "cell_type": "code",
   "execution_count": 24,
   "metadata": {},
   "outputs": [],
   "source": [
    "# output results\n",
    "results_animals = results_animals.sort_values(['fdr corrected pval'], ascending=False)\n",
    "results_animals.to_csv('animals.txt', sep='\\t')"
   ]
  },
  {
   "cell_type": "markdown",
   "metadata": {},
   "source": [
    "## Vioscreen Questions on Sugar Consumption"
   ]
  },
  {
   "cell_type": "code",
   "execution_count": 25,
   "metadata": {},
   "outputs": [],
   "source": [
    "# vioscreen sugar-related variables\n",
    "vios_sugar = ['vioscreen_addsugar', 'vioscreen_totsugar', 'vioscreen_add_sug',\n",
    "              'vioscreen_adsugtot', 'vioscreen_totsugar']\n",
    "mapping[vios_sugar] = mapping[vios_sugar].apply(pd.to_numeric, errors='coerce')"
   ]
  },
  {
   "cell_type": "markdown",
   "metadata": {},
   "source": [
    "### Association between vioscreen sugar-related variables and each AG sugar related variables"
   ]
  },
  {
   "cell_type": "code",
   "execution_count": 26,
   "metadata": {},
   "outputs": [],
   "source": [
    "# AG sugar consumption variable: sugary_sweets_frequency\n",
    "var_diet = 'sugary_sweets_frequency'\n",
    "g0 = mapping.loc[mapping.sugary_sweets_frequency == 'Occasionally (1-2 times/week)']\n",
    "g1 = mapping.loc[mapping.sugary_sweets_frequency == 'Regularly (3-5 times/week)']\n",
    "g2 = mapping.loc[mapping.sugary_sweets_frequency == 'Rarely (less than once/week)']\n",
    "g3 = mapping.loc[mapping.sugary_sweets_frequency == 'Never']\n",
    "g4 = mapping.loc[mapping.sugary_sweets_frequency == 'Daily']     \n",
    "\n",
    "results_sweets = []\n",
    "for var in vios_sugar:\n",
    "        u, pval = sp.stats.mannwhitneyu(g0[var], g1[var], alternative = 'two-sided')  \n",
    "        results_sweets.append([var_diet, var, u, pval])  \n",
    "results_sweets = pd.DataFrame(results_sweets, columns=['AG_dietary', 'vioscreen var', 'test statistic', 'raw p-value'])\n",
    "results_sweets.set_index('AG_dietary', inplace=True)"
   ]
  },
  {
   "cell_type": "code",
   "execution_count": 27,
   "metadata": {},
   "outputs": [],
   "source": [
    "# AG sugar consumption variable: sugar_sweetened_drink_frequency\n",
    "var_diet = 'sugar_sweetened_drink_frequency'\n",
    "g0 = mapping.loc[mapping.sugar_sweetened_drink_frequency == 'Occasionally (1-2 times/week)']\n",
    "g1 = mapping.loc[mapping.sugar_sweetened_drink_frequency == 'Regularly (3-5 times/week)']\n",
    "g2 = mapping.loc[mapping.sugar_sweetened_drink_frequency == 'Rarely (less than once/week)']\n",
    "g3 = mapping.loc[mapping.sugar_sweetened_drink_frequency == 'Never']\n",
    "g4 = mapping.loc[mapping.sugar_sweetened_drink_frequency == 'Daily']     \n",
    "\n",
    "results_drink = []\n",
    "for var in vios_sugar:\n",
    "        u, pval = sp.stats.mannwhitneyu(g0[var], g1[var], alternative = 'two-sided')  \n",
    "        results_drink.append([var_diet, var, u, pval])  \n",
    "results_drink = pd.DataFrame(results_drink, columns=['AG_dietary', 'vioscreen var', 'test statistic', 'raw p-value'])\n",
    "results_drink.set_index('AG_dietary', inplace=True)"
   ]
  },
  {
   "cell_type": "code",
   "execution_count": 28,
   "metadata": {},
   "outputs": [],
   "source": [
    "# combine results and multiple correction\n",
    "results_sugar = pd.concat([results_sweets, results_drink])\n",
    "\n",
    "# pvalue after BH and Beonferrroni correction\n",
    "from statsmodels.sandbox.stats.multicomp import multipletests\n",
    "results_sugar['fdr corrected pval'] = multipletests(results_sugar['raw p-value'], method = 'fdr_bh')[1]\n",
    "results_sugar['bf corrected pval'] = multipletests(results_sugar['raw p-value'], method = 'bonferroni')[1]"
   ]
  },
  {
   "cell_type": "code",
   "execution_count": 29,
   "metadata": {},
   "outputs": [],
   "source": [
    "# output results\n",
    "results_sugar = results_sugar.sort_values(['fdr corrected pval'], ascending=False)\n",
    "results_sugar.to_csv('sugar.txt', sep='\\t')"
   ]
  },
  {
   "cell_type": "markdown",
   "metadata": {},
   "source": [
    "## Vioscreen Questions on Vegetables"
   ]
  },
  {
   "cell_type": "code",
   "execution_count": 30,
   "metadata": {},
   "outputs": [],
   "source": [
    "vios_veg = ['vioscreen_vegetable_servings', 'vioscreen_salad_vegetable_servings', \n",
    "            'vioscreen_veg5_day', 'vioscreen_vegsumm', 'vioscreen_v_drkgr', 'vioscreen_v_potato', \n",
    "            'vioscreen_v_starcy', 'vioscreen_v_tomato', 'vioscreen_v_total', 'vioscreen_v_orange', \n",
    "            'vioscreen_v_other']\n",
    "mapping[vios_veg] = mapping[vios_veg].apply(pd.to_numeric, errors='coerce')"
   ]
  },
  {
   "cell_type": "code",
   "execution_count": 31,
   "metadata": {},
   "outputs": [],
   "source": [
    "var_diet = 'vegetable_frequency'\n",
    "g0 = mapping.loc[mapping.vegetable_frequency == 'Occasionally (1-2 times/week)']\n",
    "g1 = mapping.loc[mapping.vegetable_frequency == 'Regularly (3-5 times/week)']\n",
    "g2 = mapping.loc[mapping.vegetable_frequency == 'Rarely (less than once/week)']\n",
    "g3 = mapping.loc[mapping.vegetable_frequency == 'Never']\n",
    "g4 = mapping.loc[mapping.vegetable_frequency == 'Daily']     \n",
    "\n",
    "results_veg = []\n",
    "for var in vios_veg:\n",
    "        u, pval = sp.stats.mannwhitneyu(g0[var], g1[var], alternative = 'two-sided')  \n",
    "        results_veg.append([var_diet, var, u, pval])  \n",
    "results_veg = pd.DataFrame(results_veg, columns=['AG_dietary', 'vioscreen var', 'test statistic', 'raw p-value'])\n",
    "results_veg.set_index('AG_dietary', inplace=True)"
   ]
  },
  {
   "cell_type": "markdown",
   "metadata": {},
   "source": [
    "## Vioscreen Questions on Fruits"
   ]
  },
  {
   "cell_type": "code",
   "execution_count": 32,
   "metadata": {},
   "outputs": [],
   "source": [
    "vios_fruit = ['vioscreen_fruit_servings', 'vioscreen_hei2010__fruit', 'vioscreen_hei2010__whole__fruit', \n",
    "              'vioscreen_hei__fruit', 'vioscreen_hei__non_juice_frt', 'vioscreen_frt5_day',\n",
    "              'vioscreen_frtsumm', 'vioscreen_f_citmlb', 'vioscreen_f_nj_citmlb',\n",
    "              'vioscreen_f_nj_other', 'vioscreen_f_nj_total', 'vioscreen_f_other', 'vioscreen_f_total']\n",
    "mapping[vios_fruit] = mapping[vios_fruit].apply(pd.to_numeric, errors='coerce')"
   ]
  },
  {
   "cell_type": "code",
   "execution_count": 33,
   "metadata": {},
   "outputs": [],
   "source": [
    "var_diet = 'fruit_frequency'\n",
    "g0 = mapping.loc[mapping.fruit_frequency == 'Occasionally (1-2 times/week)']\n",
    "g1 = mapping.loc[mapping.fruit_frequency == 'Regularly (3-5 times/week)']\n",
    "g2 = mapping.loc[mapping.fruit_frequency == 'Rarely (less than once/week)']\n",
    "g3 = mapping.loc[mapping.fruit_frequency == 'Never']\n",
    "g4 = mapping.loc[mapping.fruit_frequency == 'Daily']     \n",
    "\n",
    "results_fruit = []\n",
    "for var in vios_veg:\n",
    "        u, pval = sp.stats.mannwhitneyu(g0[var], g1[var], alternative = 'two-sided')  \n",
    "        results_fruit.append([var_diet, var, u, pval])  \n",
    "results_fruit = pd.DataFrame(results_fruit, columns=['AG_dietary', 'vioscreen var', 'test statistic', 'raw p-value'])\n",
    "results_fruit.set_index('AG_dietary', inplace=True)"
   ]
  },
  {
   "cell_type": "code",
   "execution_count": 34,
   "metadata": {},
   "outputs": [],
   "source": [
    "## Vioscreen Questions on Grain"
   ]
  },
  {
   "cell_type": "code",
   "execution_count": 35,
   "metadata": {},
   "outputs": [],
   "source": [
    "vios_grain = ['vioscreen_hei2010__refined__grains', 'vioscreen_hei2010__whole__grains',\n",
    "              'vioscreen_hei__grains', 'vioscreen_hei__whl__grains', 'vioscreen_whole_grain_servings',\n",
    "              'vioscreen_rgrain', 'vioscreen_tgrain', 'vioscreen_wgrain', 'vioscreen_g_nwhl',\n",
    "              'vioscreen_g_total', 'vioscreen_g_whl']\n",
    "mapping[vios_grain] = mapping[vios_grain].apply(pd.to_numeric, errors='coerce')"
   ]
  },
  {
   "cell_type": "code",
   "execution_count": 36,
   "metadata": {},
   "outputs": [],
   "source": [
    "var_diet = 'whole_grain_frequency'\n",
    "g0 = mapping.loc[mapping.whole_grain_frequency == 'Occasionally (1-2 times/week)']\n",
    "g1 = mapping.loc[mapping.whole_grain_frequency == 'Regularly (3-5 times/week)']\n",
    "g2 = mapping.loc[mapping.whole_grain_frequency == 'Rarely (less than once/week)']\n",
    "g3 = mapping.loc[mapping.whole_grain_frequency == 'Never']\n",
    "g4 = mapping.loc[mapping.whole_grain_frequency == 'Daily']     \n",
    "\n",
    "results_grain = []\n",
    "for var in vios_veg:\n",
    "        u, pval = sp.stats.mannwhitneyu(g0[var], g1[var], alternative = 'two-sided')  \n",
    "        results_grain.append([var_diet, var, u, pval])  \n",
    "results_grain = pd.DataFrame(results_grain, columns=['AG_dietary', 'vioscreen var', 'test statistic', 'raw p-value'])\n",
    "results_grain.set_index('AG_dietary', inplace=True)"
   ]
  },
  {
   "cell_type": "code",
   "execution_count": 37,
   "metadata": {},
   "outputs": [],
   "source": [
    "# combine results and multiple comparison correction\n",
    "results_vf = pd.concat([results_veg, results_fruit, results_grain])\n",
    "# pvalue after BH and Beonferrroni correction\n",
    "from statsmodels.sandbox.stats.multicomp import multipletests\n",
    "results_vf['fdr corrected pval'] = multipletests(results_vf['raw p-value'], method = 'fdr_bh')[1]\n",
    "results_vf['bf corrected pval'] = multipletests(results_vf['raw p-value'], method = 'bonferroni')[1]\n",
    "# output results\n",
    "results_vf = results_vf.sort_values(['fdr corrected pval'], ascending=False)\n",
    "results_vf.to_csv('veggies_fruits.txt', sep='\\t')"
   ]
  },
  {
   "cell_type": "markdown",
   "metadata": {},
   "source": [
    "## Validate AG question on number of plants with Vioscreen variables"
   ]
  },
  {
   "cell_type": "code",
   "execution_count": 38,
   "metadata": {},
   "outputs": [],
   "source": [
    "vioscreen_cols = [col for col in mapping.columns if 'vioscreen' in col]\n",
    "vioscreen_cols.insert(0,\"#SampleID\")\n",
    "vioscreen_cols.append('types_of_plants')\n",
    "vioscreen_cols.append('shannon_1250')\n",
    "vioscreen_cols.append('faiths_pd_1250')\n",
    "vios = mapping.loc[:, mapping.columns.isin(vioscreen_cols)]\n",
    "vios.set_index('#SampleID', inplace=True)"
   ]
  },
  {
   "cell_type": "code",
   "execution_count": 39,
   "metadata": {},
   "outputs": [],
   "source": [
    "def cast_to_numeric(x):\n",
    "    return float(x)\n",
    "\n",
    "non_numeric = []\n",
    "for col in vios.columns:\n",
    "    # Try to make the column a number using the cast_to_numeric function\n",
    "    try:\n",
    "        vios[col] = vios[col].apply(cast_to_numeric)\n",
    "    # If that doesn't work, add the column name to the non-numeric list\n",
    "    except:\n",
    "        non_numeric.append(col)\n",
    "        \n",
    "vios_sub = vios.loc[pd.isnull(vios['vioscreen_database']) == False]"
   ]
  },
  {
   "cell_type": "code",
   "execution_count": 40,
   "metadata": {},
   "outputs": [],
   "source": [
    "# keep only 'types_of_plants' in the non_numeric\n",
    "vios_sub.drop(non_numeric[1:12], axis='columns', inplace=True)\n",
    "\n",
    "vios_sub = vios_sub[vios_sub['types_of_plants'].isin (['Less than 5','6 to 10','More than 30'])]"
   ]
  },
  {
   "cell_type": "code",
   "execution_count": 41,
   "metadata": {},
   "outputs": [],
   "source": [
    "# write data to output file\n",
    "vios_sub.to_csv('viscreen_subsample_mapping.txt', sep='\\t')"
   ]
  },
  {
   "cell_type": "code",
   "execution_count": 42,
   "metadata": {},
   "outputs": [],
   "source": [
    "# analysis on the subset of mapping file\n",
    "mapping = pd.read_csv('viscreen_subsample_mapping.txt', sep='\\t') \n",
    "\n",
    "vioscreen_cols = mapping.columns[2: 249] # only numerical viosreen variables"
   ]
  },
  {
   "cell_type": "code",
   "execution_count": 43,
   "metadata": {},
   "outputs": [],
   "source": [
    "def binary_types(x):\n",
    "    if (x == 'More than 30'):\n",
    "        return('More than 30')\n",
    "    else:\n",
    "        return('Less than 10')\n",
    "mapping['types'] = mapping['types_of_plants'].apply(binary_types)"
   ]
  },
  {
   "cell_type": "code",
   "execution_count": 44,
   "metadata": {},
   "outputs": [],
   "source": [
    "less = mapping.loc[mapping['types'] == 'Less than 10']\n",
    "more = mapping.loc[mapping['types'] == 'More than 30']"
   ]
  },
  {
   "cell_type": "code",
   "execution_count": 45,
   "metadata": {},
   "outputs": [],
   "source": [
    "# mannwhitney u tests between two extreme plant groups\n",
    "results = []\n",
    "for var in vioscreen_cols:\n",
    "    if np.sum(mapping[var]) != 0:\n",
    "        u, pval = sp.stats.mannwhitneyu(less[var], more[var], alternative = 'two-sided')  \n",
    "        ef = np.absolute(sp.stats.ranksums(less[var], more[var])[0]/np.sqrt(mapping.shape[0]))\n",
    "        results.append(['types_of_plants', var, u, pval, ef])   "
   ]
  },
  {
   "cell_type": "code",
   "execution_count": 46,
   "metadata": {},
   "outputs": [],
   "source": [
    "results = pd.DataFrame(results, columns=['AG_dietary', 'vioscreen var', 'test statistic', 'raw p-value', 'effect size'])\n",
    "results.set_index('AG_dietary', inplace=True)"
   ]
  },
  {
   "cell_type": "code",
   "execution_count": 47,
   "metadata": {},
   "outputs": [],
   "source": [
    "# pvalue after BH and Beonferrroni correction\n",
    "from statsmodels.sandbox.stats.multicomp import multipletests\n",
    "results['fdr corrected pval'] = multipletests(results['raw p-value'], method = 'fdr_bh')[1]\n",
    "results['bf corrected pval'] = multipletests(results['raw p-value'], method = 'bonferroni')[1]"
   ]
  },
  {
   "cell_type": "code",
   "execution_count": 48,
   "metadata": {},
   "outputs": [
    {
     "data": {
      "text/html": [
       "<div>\n",
       "<style scoped>\n",
       "    .dataframe tbody tr th:only-of-type {\n",
       "        vertical-align: middle;\n",
       "    }\n",
       "\n",
       "    .dataframe tbody tr th {\n",
       "        vertical-align: top;\n",
       "    }\n",
       "\n",
       "    .dataframe thead th {\n",
       "        text-align: right;\n",
       "    }\n",
       "</style>\n",
       "<table border=\"1\" class=\"dataframe\">\n",
       "  <thead>\n",
       "    <tr style=\"text-align: right;\">\n",
       "      <th></th>\n",
       "      <th>vioscreen var</th>\n",
       "      <th>test statistic</th>\n",
       "      <th>raw p-value</th>\n",
       "      <th>effect size</th>\n",
       "      <th>fdr corrected pval</th>\n",
       "      <th>bf corrected pval</th>\n",
       "    </tr>\n",
       "    <tr>\n",
       "      <th>AG_dietary</th>\n",
       "      <th></th>\n",
       "      <th></th>\n",
       "      <th></th>\n",
       "      <th></th>\n",
       "      <th></th>\n",
       "      <th></th>\n",
       "    </tr>\n",
       "  </thead>\n",
       "  <tbody>\n",
       "    <tr>\n",
       "      <th>types_of_plants</th>\n",
       "      <td>vioscreen_pectins</td>\n",
       "      <td>5876.0</td>\n",
       "      <td>2.259805e-28</td>\n",
       "      <td>0.560142</td>\n",
       "      <td>3.486909e-26</td>\n",
       "      <td>5.468729e-26</td>\n",
       "    </tr>\n",
       "    <tr>\n",
       "      <th>types_of_plants</th>\n",
       "      <td>vioscreen_veg5_day</td>\n",
       "      <td>5959.0</td>\n",
       "      <td>5.283208e-28</td>\n",
       "      <td>0.556223</td>\n",
       "      <td>4.261787e-26</td>\n",
       "      <td>1.278536e-25</td>\n",
       "    </tr>\n",
       "    <tr>\n",
       "      <th>types_of_plants</th>\n",
       "      <td>vioscreen_vegetable_servings</td>\n",
       "      <td>6000.5</td>\n",
       "      <td>2.881743e-28</td>\n",
       "      <td>0.554264</td>\n",
       "      <td>3.486909e-26</td>\n",
       "      <td>6.973819e-26</td>\n",
       "    </tr>\n",
       "    <tr>\n",
       "      <th>types_of_plants</th>\n",
       "      <td>vioscreen_betacar</td>\n",
       "      <td>6157.0</td>\n",
       "      <td>4.026882e-27</td>\n",
       "      <td>0.546874</td>\n",
       "      <td>2.436264e-25</td>\n",
       "      <td>9.745055e-25</td>\n",
       "    </tr>\n",
       "    <tr>\n",
       "      <th>types_of_plants</th>\n",
       "      <td>vioscreen_v_total</td>\n",
       "      <td>6333.0</td>\n",
       "      <td>2.362768e-26</td>\n",
       "      <td>0.538564</td>\n",
       "      <td>1.143580e-24</td>\n",
       "      <td>5.717898e-24</td>\n",
       "    </tr>\n",
       "    <tr>\n",
       "      <th>types_of_plants</th>\n",
       "      <td>vioscreen_vita_iu</td>\n",
       "      <td>6352.0</td>\n",
       "      <td>2.855550e-26</td>\n",
       "      <td>0.537667</td>\n",
       "      <td>1.151739e-24</td>\n",
       "      <td>6.910431e-24</td>\n",
       "    </tr>\n",
       "    <tr>\n",
       "      <th>types_of_plants</th>\n",
       "      <td>vioscreen_vegsumm</td>\n",
       "      <td>6382.0</td>\n",
       "      <td>3.816453e-26</td>\n",
       "      <td>0.536250</td>\n",
       "      <td>1.319402e-24</td>\n",
       "      <td>9.235817e-24</td>\n",
       "    </tr>\n",
       "    <tr>\n",
       "      <th>types_of_plants</th>\n",
       "      <td>vioscreen_vitk</td>\n",
       "      <td>6499.0</td>\n",
       "      <td>1.223529e-25</td>\n",
       "      <td>0.530726</td>\n",
       "      <td>3.701175e-24</td>\n",
       "      <td>2.960940e-23</td>\n",
       "    </tr>\n",
       "    <tr>\n",
       "      <th>types_of_plants</th>\n",
       "      <td>vioscreen_lutzeax</td>\n",
       "      <td>6565.0</td>\n",
       "      <td>2.337268e-25</td>\n",
       "      <td>0.527610</td>\n",
       "      <td>6.284653e-24</td>\n",
       "      <td>5.656187e-23</td>\n",
       "    </tr>\n",
       "    <tr>\n",
       "      <th>types_of_plants</th>\n",
       "      <td>vioscreen_fibinso</td>\n",
       "      <td>6679.0</td>\n",
       "      <td>7.086117e-25</td>\n",
       "      <td>0.522227</td>\n",
       "      <td>1.714840e-23</td>\n",
       "      <td>1.714840e-22</td>\n",
       "    </tr>\n",
       "  </tbody>\n",
       "</table>\n",
       "</div>"
      ],
      "text/plain": [
       "                                vioscreen var  test statistic   raw p-value  \\\n",
       "AG_dietary                                                                    \n",
       "types_of_plants             vioscreen_pectins          5876.0  2.259805e-28   \n",
       "types_of_plants            vioscreen_veg5_day          5959.0  5.283208e-28   \n",
       "types_of_plants  vioscreen_vegetable_servings          6000.5  2.881743e-28   \n",
       "types_of_plants             vioscreen_betacar          6157.0  4.026882e-27   \n",
       "types_of_plants             vioscreen_v_total          6333.0  2.362768e-26   \n",
       "types_of_plants             vioscreen_vita_iu          6352.0  2.855550e-26   \n",
       "types_of_plants             vioscreen_vegsumm          6382.0  3.816453e-26   \n",
       "types_of_plants                vioscreen_vitk          6499.0  1.223529e-25   \n",
       "types_of_plants             vioscreen_lutzeax          6565.0  2.337268e-25   \n",
       "types_of_plants             vioscreen_fibinso          6679.0  7.086117e-25   \n",
       "\n",
       "                 effect size  fdr corrected pval  bf corrected pval  \n",
       "AG_dietary                                                           \n",
       "types_of_plants     0.560142        3.486909e-26       5.468729e-26  \n",
       "types_of_plants     0.556223        4.261787e-26       1.278536e-25  \n",
       "types_of_plants     0.554264        3.486909e-26       6.973819e-26  \n",
       "types_of_plants     0.546874        2.436264e-25       9.745055e-25  \n",
       "types_of_plants     0.538564        1.143580e-24       5.717898e-24  \n",
       "types_of_plants     0.537667        1.151739e-24       6.910431e-24  \n",
       "types_of_plants     0.536250        1.319402e-24       9.235817e-24  \n",
       "types_of_plants     0.530726        3.701175e-24       2.960940e-23  \n",
       "types_of_plants     0.527610        6.284653e-24       5.656187e-23  \n",
       "types_of_plants     0.522227        1.714840e-23       1.714840e-22  "
      ]
     },
     "execution_count": 48,
     "metadata": {},
     "output_type": "execute_result"
    }
   ],
   "source": [
    "results = results.sort_values(['effect size'], ascending=False)\n",
    "results.head(10)"
   ]
  },
  {
   "cell_type": "code",
   "execution_count": 54,
   "metadata": {},
   "outputs": [],
   "source": [
    "# significant variables\n",
    "results_ef = results.loc[results['effect size'] >= 0.5]\n",
    "results_ef = results_ef.sort_values(['effect size'], ascending=False)\n",
    "vars_ef = np.array(results_ef['vioscreen var'])"
   ]
  },
  {
   "cell_type": "code",
   "execution_count": 50,
   "metadata": {},
   "outputs": [],
   "source": [
    "results_ef.to_csv('plants.txt', sep='\\t')"
   ]
  },
  {
   "cell_type": "code",
   "execution_count": 57,
   "metadata": {},
   "outputs": [],
   "source": [
    "# normalize vioscreen cols\n",
    "mapping_norm = mapping.copy()\n",
    "mapping_norm[vioscreen_cols] = mapping_norm[vioscreen_cols].apply(lambda x: x / (x.sum()))\n",
    "vars_select = vars_ef\n",
    "mapping_norm = mapping_norm.loc[:, mapping_norm.columns.isin(np.append('types', vars_select))]\n",
    "mapping_norm_long = pd.melt(mapping_norm, id_vars='types', value_vars=vars_select)"
   ]
  },
  {
   "cell_type": "code",
   "execution_count": 58,
   "metadata": {},
   "outputs": [
    {
     "data": {
      "image/png": "[encoded data removed]",
      "text/plain": [
       "<matplotlib.figure.Figure at 0x115b252b0>"
      ]
     },
     "metadata": {},
     "output_type": "display_data"
    },
    {
     "data": {
      "image/png": "[encoded data removed]",
      "text/plain": [
       "<matplotlib.figure.Figure at 0x115b46eb8>"
      ]
     },
     "metadata": {},
     "output_type": "display_data"
    }
   ],
   "source": [
    "# boxplot\n",
    "sns.set_style('ticks')\n",
    "fig = sns.FacetGrid(mapping_norm_long, col=\"variable\", col_wrap=5)\n",
    "fig.map(sns.boxplot, 'types', 'value', palette=['#005a32', '#addd8e'])\n",
    "fig.savefig('vioscreen_plants_boxplot_facetGrid.pdf')\n",
    "\n",
    "sns.set_style('ticks')\n",
    "fig, ax = plt.subplots()\n",
    "fig.set_size_inches(20, 8)\n",
    "\n",
    "fig = sns.boxplot(x = 'variable', y = 'value', data=mapping_norm_long, hue='types', palette=['#005a32', '#addd8e'])\n",
    "fig.set_xticklabels(ax.get_xticklabels(), rotation=45)\n",
    "sns.despine()\n",
    "\n",
    "# tight_layout\n",
    "fig = fig.get_figure()\n",
    "fig.tight_layout()\n",
    "fig.savefig('vioscreen_plants_boxplot.pdf')"
   ]
  }
 ],
 "metadata": {
  "kernelspec": {
   "display_name": "Python 3",
   "language": "python",
   "name": "python3"
  },
  "language_info": {
   "codemirror_mode": {
    "name": "ipython",
    "version": 3
   },
   "file_extension": ".py",
   "mimetype": "text/x-python",
   "name": "python",
   "nbconvert_exporter": "python",
   "pygments_lexer": "ipython3",
   "version": "3.5.4"
  }
 },
 "nbformat": 4,
 "nbformat_minor": 2
}
