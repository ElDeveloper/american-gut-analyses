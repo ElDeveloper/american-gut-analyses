{
 "cells": [
  {
   "cell_type": "markdown",
   "metadata": {},
   "source": [
    "This notebook looks at the two extreme groups of types of plants (\"less than 10\"\n",
    "and \"greater than 30\") to find the vioscreen variables that can tell the two groups apart the most. \n",
    "\n",
    "For each vioscreen variable, Mannwhitney U test was used to test for the difference between two extreme groups, and the corresponding Mannwhitney effect size was calculated. (reference: Fritz 2011, \"Effect Size Estimates: Current Use, Calculations, and Interpretation).\n",
    "\n",
    "Vioscreen variables with large effect size (greater than threshold 0.5) are selected to display in the boxplot. "
   ]
  },
  {
   "cell_type": "code",
   "execution_count": 1,
   "metadata": {
    "collapsed": true
   },
   "outputs": [],
   "source": [
    "import warnings\n",
    "warnings.filterwarnings(\"ignore\")\n",
    "\n",
    "import numpy as np\n",
    "import pandas as pd\n",
    "import skbio\n",
    "import scipy as sp\n",
    "import seaborn as sns\n",
    "\n",
    "import matplotlib.pyplot as plt\n",
    "import matplotlib.gridspec as gridspec\n",
    "from matplotlib.backends.backend_pdf import PdfPages\n",
    "% matplotlib inline"
   ]
  },
  {
   "cell_type": "markdown",
   "metadata": {},
   "source": [
    "## Subset of mapping file"
   ]
  },
  {
   "cell_type": "code",
   "execution_count": 2,
   "metadata": {
    "collapsed": true
   },
   "outputs": [],
   "source": [
    "mapping = pd.read_csv('ag_map_with_alpha.txt', sep='\\t', dtype=str, na_values='Unspecified')"
   ]
  },
  {
   "cell_type": "code",
   "execution_count": 3,
   "metadata": {
    "collapsed": true
   },
   "outputs": [],
   "source": [
    "vioscreen_cols = [col for col in mapping.columns if 'vioscreen' in col]\n",
    "vioscreen_cols.insert(0,\"#SampleID\")\n",
    "vioscreen_cols.append('types_of_plants')\n",
    "vioscreen_cols.append('shannon_1250')\n",
    "vioscreen_cols.append('faiths_pd_1250')\n",
    "vios = mapping.loc[:, mapping.columns.isin(vioscreen_cols)]\n",
    "vios.set_index('#SampleID', inplace=True)"
   ]
  },
  {
   "cell_type": "code",
   "execution_count": 4,
   "metadata": {
    "collapsed": true
   },
   "outputs": [],
   "source": [
    "def cast_to_numeric(x):\n",
    "    return float(x)\n",
    "\n",
    "non_numeric = []\n",
    "for col in vios.columns:\n",
    "    # Try to make the column a number using the cast_to_numeric function\n",
    "    try:\n",
    "        vios[col] = vios[col].apply(cast_to_numeric)\n",
    "    # If that doesn't work, add the column name to the non-numeric list\n",
    "    except:\n",
    "        non_numeric.append(col)\n",
    "        \n",
    "vios_sub = vios.loc[pd.isnull(vios['vioscreen_database']) == False]"
   ]
  },
  {
   "cell_type": "code",
   "execution_count": 5,
   "metadata": {
    "collapsed": true
   },
   "outputs": [],
   "source": [
    "# keep only 'types_of_plants' in the non_numeric\n",
    "vios_sub.drop(non_numeric[1:12], axis='columns', inplace=True)\n",
    "\n",
    "vios_sub = vios_sub[vios_sub['types_of_plants'].isin (['Less than 5','6 to 10','More than 30'])]"
   ]
  },
  {
   "cell_type": "code",
   "execution_count": 6,
   "metadata": {
    "collapsed": true
   },
   "outputs": [],
   "source": [
    "# write data to output file\n",
    "vios_sub.to_csv('viscreen_subsample_mapping.txt', sep='\\t')"
   ]
  },
  {
   "cell_type": "markdown",
   "metadata": {},
   "source": [
    "## Analysis on the subset of mapping file"
   ]
  },
  {
   "cell_type": "code",
   "execution_count": 8,
   "metadata": {},
   "outputs": [],
   "source": [
    "mapping = pd.read_csv('viscreen_subsample_mapping.txt', sep='\\t', dtype={'#SampleID': str})"
   ]
  },
  {
   "cell_type": "code",
   "execution_count": 9,
   "metadata": {},
   "outputs": [
    {
     "data": {
      "text/plain": [
       "6 to 10         185\n",
       "More than 30    146\n",
       "Less than 5      58\n",
       "Name: types_of_plants, dtype: int64"
      ]
     },
     "execution_count": 9,
     "metadata": {},
     "output_type": "execute_result"
    }
   ],
   "source": [
    "mapping['types_of_plants'].value_counts()"
   ]
  },
  {
   "cell_type": "code",
   "execution_count": 10,
   "metadata": {},
   "outputs": [
    {
     "data": {
      "text/html": [
       "<div>\n",
       "<style>\n",
       "    .dataframe thead tr:only-child th {\n",
       "        text-align: right;\n",
       "    }\n",
       "\n",
       "    .dataframe thead th {\n",
       "        text-align: left;\n",
       "    }\n",
       "\n",
       "    .dataframe tbody tr th {\n",
       "        vertical-align: top;\n",
       "    }\n",
       "</style>\n",
       "<table border=\"1\" class=\"dataframe\">\n",
       "  <thead>\n",
       "    <tr style=\"text-align: right;\">\n",
       "      <th></th>\n",
       "      <th>#SampleID</th>\n",
       "      <th>types_of_plants</th>\n",
       "      <th>vioscreen_add_sug</th>\n",
       "      <th>vioscreen_a_bev</th>\n",
       "      <th>vioscreen_a_cal</th>\n",
       "      <th>vioscreen_alcohol_servings</th>\n",
       "      <th>vioscreen_calcium_avg</th>\n",
       "      <th>vioscreen_calcium_dose</th>\n",
       "      <th>vioscreen_calcium_from_dairy_servings</th>\n",
       "      <th>vioscreen_calcium_servings</th>\n",
       "      <th>...</th>\n",
       "      <th>vioscreen_vitd3</th>\n",
       "      <th>vioscreen_vitd_iu</th>\n",
       "      <th>vioscreen_vite_iu</th>\n",
       "      <th>vioscreen_vitk</th>\n",
       "      <th>vioscreen_water</th>\n",
       "      <th>vioscreen_wgrain</th>\n",
       "      <th>vioscreen_xylitol</th>\n",
       "      <th>vioscreen_zinc</th>\n",
       "      <th>faiths_pd_1250</th>\n",
       "      <th>shannon_1250</th>\n",
       "    </tr>\n",
       "  </thead>\n",
       "  <tbody>\n",
       "    <tr>\n",
       "      <th>0</th>\n",
       "      <td>10317.000040165</td>\n",
       "      <td>More than 30</td>\n",
       "      <td>7.435480</td>\n",
       "      <td>0.369342</td>\n",
       "      <td>49.404987</td>\n",
       "      <td>0.36934</td>\n",
       "      <td>NaN</td>\n",
       "      <td>NaN</td>\n",
       "      <td>2.22721</td>\n",
       "      <td>3.67901</td>\n",
       "      <td>...</td>\n",
       "      <td>4.558630</td>\n",
       "      <td>182.384663</td>\n",
       "      <td>19.309343</td>\n",
       "      <td>221.659485</td>\n",
       "      <td>3198.077148</td>\n",
       "      <td>3.229288</td>\n",
       "      <td>0.054877</td>\n",
       "      <td>10.327617</td>\n",
       "      <td>9.375266</td>\n",
       "      <td>3.817933</td>\n",
       "    </tr>\n",
       "    <tr>\n",
       "      <th>1</th>\n",
       "      <td>10317.000037976</td>\n",
       "      <td>6 to 10</td>\n",
       "      <td>18.021753</td>\n",
       "      <td>1.183890</td>\n",
       "      <td>150.368713</td>\n",
       "      <td>1.18389</td>\n",
       "      <td>NaN</td>\n",
       "      <td>500.0</td>\n",
       "      <td>5.03471</td>\n",
       "      <td>6.88337</td>\n",
       "      <td>...</td>\n",
       "      <td>18.107042</td>\n",
       "      <td>724.423065</td>\n",
       "      <td>17.807974</td>\n",
       "      <td>129.981659</td>\n",
       "      <td>4189.851562</td>\n",
       "      <td>1.379754</td>\n",
       "      <td>0.017808</td>\n",
       "      <td>17.632055</td>\n",
       "      <td>13.258567</td>\n",
       "      <td>5.127982</td>\n",
       "    </tr>\n",
       "    <tr>\n",
       "      <th>2</th>\n",
       "      <td>10317.000023595</td>\n",
       "      <td>More than 30</td>\n",
       "      <td>4.937973</td>\n",
       "      <td>2.351836</td>\n",
       "      <td>293.934082</td>\n",
       "      <td>2.35184</td>\n",
       "      <td>NaN</td>\n",
       "      <td>NaN</td>\n",
       "      <td>1.54063</td>\n",
       "      <td>3.88244</td>\n",
       "      <td>...</td>\n",
       "      <td>7.487753</td>\n",
       "      <td>299.510136</td>\n",
       "      <td>15.058907</td>\n",
       "      <td>658.501343</td>\n",
       "      <td>5351.371094</td>\n",
       "      <td>2.504027</td>\n",
       "      <td>0.057178</td>\n",
       "      <td>14.126797</td>\n",
       "      <td>10.183612</td>\n",
       "      <td>3.027013</td>\n",
       "    </tr>\n",
       "    <tr>\n",
       "      <th>3</th>\n",
       "      <td>10317.000058877</td>\n",
       "      <td>6 to 10</td>\n",
       "      <td>3.203671</td>\n",
       "      <td>2.062876</td>\n",
       "      <td>304.104553</td>\n",
       "      <td>2.06288</td>\n",
       "      <td>NaN</td>\n",
       "      <td>NaN</td>\n",
       "      <td>0.83230</td>\n",
       "      <td>1.96849</td>\n",
       "      <td>...</td>\n",
       "      <td>3.828575</td>\n",
       "      <td>153.181372</td>\n",
       "      <td>19.110027</td>\n",
       "      <td>182.761383</td>\n",
       "      <td>2078.856689</td>\n",
       "      <td>0.098027</td>\n",
       "      <td>0.032000</td>\n",
       "      <td>6.276904</td>\n",
       "      <td>17.436974</td>\n",
       "      <td>5.572705</td>\n",
       "    </tr>\n",
       "    <tr>\n",
       "      <th>4</th>\n",
       "      <td>10317.000044384</td>\n",
       "      <td>Less than 5</td>\n",
       "      <td>14.182713</td>\n",
       "      <td>0.000000</td>\n",
       "      <td>0.000000</td>\n",
       "      <td>0.00000</td>\n",
       "      <td>285.0</td>\n",
       "      <td>500.0</td>\n",
       "      <td>1.42734</td>\n",
       "      <td>2.62849</td>\n",
       "      <td>...</td>\n",
       "      <td>3.521698</td>\n",
       "      <td>140.897532</td>\n",
       "      <td>17.172411</td>\n",
       "      <td>107.054573</td>\n",
       "      <td>3332.181885</td>\n",
       "      <td>1.294301</td>\n",
       "      <td>0.035014</td>\n",
       "      <td>11.438876</td>\n",
       "      <td>19.586808</td>\n",
       "      <td>6.537345</td>\n",
       "    </tr>\n",
       "  </tbody>\n",
       "</table>\n",
       "<p>5 rows × 251 columns</p>\n",
       "</div>"
      ],
      "text/plain": [
       "         #SampleID types_of_plants  vioscreen_add_sug  vioscreen_a_bev  \\\n",
       "0  10317.000040165    More than 30           7.435480         0.369342   \n",
       "1  10317.000037976         6 to 10          18.021753         1.183890   \n",
       "2  10317.000023595    More than 30           4.937973         2.351836   \n",
       "3  10317.000058877         6 to 10           3.203671         2.062876   \n",
       "4  10317.000044384     Less than 5          14.182713         0.000000   \n",
       "\n",
       "   vioscreen_a_cal  vioscreen_alcohol_servings  vioscreen_calcium_avg  \\\n",
       "0        49.404987                     0.36934                    NaN   \n",
       "1       150.368713                     1.18389                    NaN   \n",
       "2       293.934082                     2.35184                    NaN   \n",
       "3       304.104553                     2.06288                    NaN   \n",
       "4         0.000000                     0.00000                  285.0   \n",
       "\n",
       "   vioscreen_calcium_dose  vioscreen_calcium_from_dairy_servings  \\\n",
       "0                     NaN                                2.22721   \n",
       "1                   500.0                                5.03471   \n",
       "2                     NaN                                1.54063   \n",
       "3                     NaN                                0.83230   \n",
       "4                   500.0                                1.42734   \n",
       "\n",
       "   vioscreen_calcium_servings      ...       vioscreen_vitd3  \\\n",
       "0                     3.67901      ...              4.558630   \n",
       "1                     6.88337      ...             18.107042   \n",
       "2                     3.88244      ...              7.487753   \n",
       "3                     1.96849      ...              3.828575   \n",
       "4                     2.62849      ...              3.521698   \n",
       "\n",
       "   vioscreen_vitd_iu  vioscreen_vite_iu  vioscreen_vitk  vioscreen_water  \\\n",
       "0         182.384663          19.309343      221.659485      3198.077148   \n",
       "1         724.423065          17.807974      129.981659      4189.851562   \n",
       "2         299.510136          15.058907      658.501343      5351.371094   \n",
       "3         153.181372          19.110027      182.761383      2078.856689   \n",
       "4         140.897532          17.172411      107.054573      3332.181885   \n",
       "\n",
       "   vioscreen_wgrain  vioscreen_xylitol  vioscreen_zinc  faiths_pd_1250  \\\n",
       "0          3.229288           0.054877       10.327617        9.375266   \n",
       "1          1.379754           0.017808       17.632055       13.258567   \n",
       "2          2.504027           0.057178       14.126797       10.183612   \n",
       "3          0.098027           0.032000        6.276904       17.436974   \n",
       "4          1.294301           0.035014       11.438876       19.586808   \n",
       "\n",
       "   shannon_1250  \n",
       "0      3.817933  \n",
       "1      5.127982  \n",
       "2      3.027013  \n",
       "3      5.572705  \n",
       "4      6.537345  \n",
       "\n",
       "[5 rows x 251 columns]"
      ]
     },
     "execution_count": 10,
     "metadata": {},
     "output_type": "execute_result"
    }
   ],
   "source": [
    "mapping.head()"
   ]
  },
  {
   "cell_type": "code",
   "execution_count": 11,
   "metadata": {
    "collapsed": true
   },
   "outputs": [],
   "source": [
    "# use only numerical viosreen variables (exclude 'SampleID', 'faith_pd_1250' and 'shannon_1250')\n",
    "vioscreen_cols = mapping.columns[2: 249] "
   ]
  },
  {
   "cell_type": "code",
   "execution_count": 12,
   "metadata": {
    "collapsed": true
   },
   "outputs": [],
   "source": [
    "# collapse three types of plants into two\n",
    "def binary_types(x):\n",
    "    if (x == 'More than 30'):\n",
    "        return('More than 30')\n",
    "    else:\n",
    "        return('Less than 10')\n",
    "mapping['types'] = mapping['types_of_plants'].apply(binary_types)"
   ]
  },
  {
   "cell_type": "code",
   "execution_count": 13,
   "metadata": {},
   "outputs": [
    {
     "data": {
      "text/plain": [
       "Less than 10    243\n",
       "More than 30    146\n",
       "Name: types, dtype: int64"
      ]
     },
     "execution_count": 13,
     "metadata": {},
     "output_type": "execute_result"
    }
   ],
   "source": [
    "mapping['types'].value_counts()"
   ]
  },
  {
   "cell_type": "code",
   "execution_count": 14,
   "metadata": {
    "collapsed": true
   },
   "outputs": [],
   "source": [
    "less = mapping.loc[mapping['types'] == 'Less than 10']\n",
    "more = mapping.loc[mapping['types'] == 'More than 30']"
   ]
  },
  {
   "cell_type": "code",
   "execution_count": 15,
   "metadata": {},
   "outputs": [
    {
     "name": "stdout",
     "output_type": "stream",
     "text": [
      "(243, 252)\n",
      "(146, 252)\n"
     ]
    }
   ],
   "source": [
    "print(less.shape)\n",
    "print(more.shape)"
   ]
  },
  {
   "cell_type": "code",
   "execution_count": 16,
   "metadata": {
    "collapsed": true
   },
   "outputs": [],
   "source": [
    "# mannwhitney u tests between two extreme plant groups\n",
    "results = []\n",
    "for var in vioscreen_cols:\n",
    "    if np.sum(mapping[var]) != 0:\n",
    "        u, pval = sp.stats.mannwhitneyu(less[var], more[var], alternative = 'two-sided')  \n",
    "        ef = np.absolute(sp.stats.ranksums(less[var], more[var])[0]/np.sqrt(mapping.shape[0]))\n",
    "        results.append([var, u, pval, ef])   "
   ]
  },
  {
   "cell_type": "code",
   "execution_count": 17,
   "metadata": {
    "collapsed": true
   },
   "outputs": [],
   "source": [
    "results = pd.DataFrame(results, columns=['vioscreen var', 'mannwhitney u', 'mannwhitney pval', 'effect size'])"
   ]
  },
  {
   "cell_type": "code",
   "execution_count": 18,
   "metadata": {
    "collapsed": true
   },
   "outputs": [],
   "source": [
    "# pvalue after BH and Beonferrroni correction\n",
    "from statsmodels.sandbox.stats.multicomp import multipletests\n",
    "results['fdr corrected pval'] = multipletests(results['mannwhitney pval'], method = 'fdr_bh')[1]\n",
    "results['bf corrected pval'] = multipletests(results['mannwhitney pval'], method = 'bonferroni')[1]"
   ]
  },
  {
   "cell_type": "code",
   "execution_count": 19,
   "metadata": {},
   "outputs": [
    {
     "data": {
      "text/html": [
       "<div>\n",
       "<style>\n",
       "    .dataframe thead tr:only-child th {\n",
       "        text-align: right;\n",
       "    }\n",
       "\n",
       "    .dataframe thead th {\n",
       "        text-align: left;\n",
       "    }\n",
       "\n",
       "    .dataframe tbody tr th {\n",
       "        vertical-align: top;\n",
       "    }\n",
       "</style>\n",
       "<table border=\"1\" class=\"dataframe\">\n",
       "  <thead>\n",
       "    <tr style=\"text-align: right;\">\n",
       "      <th></th>\n",
       "      <th>vioscreen var</th>\n",
       "      <th>mannwhitney u</th>\n",
       "      <th>mannwhitney pval</th>\n",
       "      <th>effect size</th>\n",
       "      <th>fdr corrected pval</th>\n",
       "      <th>bf corrected pval</th>\n",
       "    </tr>\n",
       "  </thead>\n",
       "  <tbody>\n",
       "    <tr>\n",
       "      <th>169</th>\n",
       "      <td>vioscreen_pectins</td>\n",
       "      <td>5876.0</td>\n",
       "      <td>2.259805e-28</td>\n",
       "      <td>0.560142</td>\n",
       "      <td>3.486909e-26</td>\n",
       "      <td>5.468729e-26</td>\n",
       "    </tr>\n",
       "    <tr>\n",
       "      <th>77</th>\n",
       "      <td>vioscreen_veg5_day</td>\n",
       "      <td>5959.0</td>\n",
       "      <td>5.283208e-28</td>\n",
       "      <td>0.556223</td>\n",
       "      <td>4.261787e-26</td>\n",
       "      <td>1.278536e-25</td>\n",
       "    </tr>\n",
       "    <tr>\n",
       "      <th>86</th>\n",
       "      <td>vioscreen_vegetable_servings</td>\n",
       "      <td>6000.5</td>\n",
       "      <td>2.881743e-28</td>\n",
       "      <td>0.554264</td>\n",
       "      <td>3.486909e-26</td>\n",
       "      <td>6.973819e-26</td>\n",
       "    </tr>\n",
       "    <tr>\n",
       "      <th>101</th>\n",
       "      <td>vioscreen_betacar</td>\n",
       "      <td>6157.0</td>\n",
       "      <td>4.026882e-27</td>\n",
       "      <td>0.546874</td>\n",
       "      <td>2.436264e-25</td>\n",
       "      <td>9.745055e-25</td>\n",
       "    </tr>\n",
       "    <tr>\n",
       "      <th>85</th>\n",
       "      <td>vioscreen_v_total</td>\n",
       "      <td>6333.0</td>\n",
       "      <td>2.362768e-26</td>\n",
       "      <td>0.538564</td>\n",
       "      <td>1.143580e-24</td>\n",
       "      <td>5.717898e-24</td>\n",
       "    </tr>\n",
       "    <tr>\n",
       "      <th>226</th>\n",
       "      <td>vioscreen_vita_iu</td>\n",
       "      <td>6352.0</td>\n",
       "      <td>2.855550e-26</td>\n",
       "      <td>0.537667</td>\n",
       "      <td>1.151739e-24</td>\n",
       "      <td>6.910431e-24</td>\n",
       "    </tr>\n",
       "    <tr>\n",
       "      <th>78</th>\n",
       "      <td>vioscreen_vegsumm</td>\n",
       "      <td>6382.0</td>\n",
       "      <td>3.816453e-26</td>\n",
       "      <td>0.536250</td>\n",
       "      <td>1.319402e-24</td>\n",
       "      <td>9.235817e-24</td>\n",
       "    </tr>\n",
       "    <tr>\n",
       "      <th>237</th>\n",
       "      <td>vioscreen_vitk</td>\n",
       "      <td>6499.0</td>\n",
       "      <td>1.223529e-25</td>\n",
       "      <td>0.530726</td>\n",
       "      <td>3.701175e-24</td>\n",
       "      <td>2.960940e-23</td>\n",
       "    </tr>\n",
       "    <tr>\n",
       "      <th>144</th>\n",
       "      <td>vioscreen_lutzeax</td>\n",
       "      <td>6565.0</td>\n",
       "      <td>2.337268e-25</td>\n",
       "      <td>0.527610</td>\n",
       "      <td>6.284653e-24</td>\n",
       "      <td>5.656187e-23</td>\n",
       "    </tr>\n",
       "    <tr>\n",
       "      <th>123</th>\n",
       "      <td>vioscreen_fibinso</td>\n",
       "      <td>6679.0</td>\n",
       "      <td>7.086117e-25</td>\n",
       "      <td>0.522227</td>\n",
       "      <td>1.714840e-23</td>\n",
       "      <td>1.714840e-22</td>\n",
       "    </tr>\n",
       "  </tbody>\n",
       "</table>\n",
       "</div>"
      ],
      "text/plain": [
       "                    vioscreen var  mannwhitney u  mannwhitney pval  \\\n",
       "169             vioscreen_pectins         5876.0      2.259805e-28   \n",
       "77             vioscreen_veg5_day         5959.0      5.283208e-28   \n",
       "86   vioscreen_vegetable_servings         6000.5      2.881743e-28   \n",
       "101             vioscreen_betacar         6157.0      4.026882e-27   \n",
       "85              vioscreen_v_total         6333.0      2.362768e-26   \n",
       "226             vioscreen_vita_iu         6352.0      2.855550e-26   \n",
       "78              vioscreen_vegsumm         6382.0      3.816453e-26   \n",
       "237                vioscreen_vitk         6499.0      1.223529e-25   \n",
       "144             vioscreen_lutzeax         6565.0      2.337268e-25   \n",
       "123             vioscreen_fibinso         6679.0      7.086117e-25   \n",
       "\n",
       "     effect size  fdr corrected pval  bf corrected pval  \n",
       "169     0.560142        3.486909e-26       5.468729e-26  \n",
       "77      0.556223        4.261787e-26       1.278536e-25  \n",
       "86      0.554264        3.486909e-26       6.973819e-26  \n",
       "101     0.546874        2.436264e-25       9.745055e-25  \n",
       "85      0.538564        1.143580e-24       5.717898e-24  \n",
       "226     0.537667        1.151739e-24       6.910431e-24  \n",
       "78      0.536250        1.319402e-24       9.235817e-24  \n",
       "237     0.530726        3.701175e-24       2.960940e-23  \n",
       "144     0.527610        6.284653e-24       5.656187e-23  \n",
       "123     0.522227        1.714840e-23       1.714840e-22  "
      ]
     },
     "execution_count": 19,
     "metadata": {},
     "output_type": "execute_result"
    }
   ],
   "source": [
    "results = results.sort_values(['effect size'], ascending=False)\n",
    "results.head(10)"
   ]
  },
  {
   "cell_type": "code",
   "execution_count": 20,
   "metadata": {
    "collapsed": true
   },
   "outputs": [],
   "source": [
    "# significant variables\n",
    "results_ef = results.loc[results['effect size'] >= 0.5]\n",
    "results_ef = results_ef.sort_values(['effect size'], ascending=False)\n",
    "vars_ef = np.array(results_ef['vioscreen var'])"
   ]
  },
  {
   "cell_type": "code",
   "execution_count": 21,
   "metadata": {
    "collapsed": true
   },
   "outputs": [],
   "source": [
    "# select interested variables\n",
    "vars_select = np.append(vars_ef, ['vioscreen_pfa182', 'vioscreen_totcla'])"
   ]
  },
  {
   "cell_type": "markdown",
   "metadata": {
    "collapsed": true
   },
   "source": [
    "## boxplot for normalized data"
   ]
  },
  {
   "cell_type": "code",
   "execution_count": 22,
   "metadata": {
    "collapsed": true
   },
   "outputs": [],
   "source": [
    "# normalize vioscreen cols\n",
    "mapping_norm = mapping.copy()\n",
    "mapping_norm[vioscreen_cols] = mapping_norm[vioscreen_cols].apply(lambda x: x / (x.sum()))\n",
    "mapping_norm = mapping_norm.loc[:, mapping_norm.columns.isin(np.append('types', vars_select))]"
   ]
  },
  {
   "cell_type": "code",
   "execution_count": 23,
   "metadata": {},
   "outputs": [
    {
     "data": {
      "text/plain": [
       "(389, 18)"
      ]
     },
     "execution_count": 23,
     "metadata": {},
     "output_type": "execute_result"
    }
   ],
   "source": [
    "mapping_norm.shape"
   ]
  },
  {
   "cell_type": "code",
   "execution_count": 24,
   "metadata": {
    "collapsed": true
   },
   "outputs": [],
   "source": [
    "mapping_norm_long = pd.melt(mapping_norm, id_vars='types', value_vars=vars_select)"
   ]
  },
  {
   "cell_type": "code",
   "execution_count": 25,
   "metadata": {},
   "outputs": [
    {
     "data": {
      "text/html": [
       "<div>\n",
       "<style>\n",
       "    .dataframe thead tr:only-child th {\n",
       "        text-align: right;\n",
       "    }\n",
       "\n",
       "    .dataframe thead th {\n",
       "        text-align: left;\n",
       "    }\n",
       "\n",
       "    .dataframe tbody tr th {\n",
       "        vertical-align: top;\n",
       "    }\n",
       "</style>\n",
       "<table border=\"1\" class=\"dataframe\">\n",
       "  <thead>\n",
       "    <tr style=\"text-align: right;\">\n",
       "      <th></th>\n",
       "      <th>types</th>\n",
       "      <th>variable</th>\n",
       "      <th>value</th>\n",
       "    </tr>\n",
       "  </thead>\n",
       "  <tbody>\n",
       "    <tr>\n",
       "      <th>0</th>\n",
       "      <td>More than 30</td>\n",
       "      <td>vioscreen_pectins</td>\n",
       "      <td>0.002799</td>\n",
       "    </tr>\n",
       "    <tr>\n",
       "      <th>1</th>\n",
       "      <td>Less than 10</td>\n",
       "      <td>vioscreen_pectins</td>\n",
       "      <td>0.001788</td>\n",
       "    </tr>\n",
       "    <tr>\n",
       "      <th>2</th>\n",
       "      <td>More than 30</td>\n",
       "      <td>vioscreen_pectins</td>\n",
       "      <td>0.003276</td>\n",
       "    </tr>\n",
       "    <tr>\n",
       "      <th>3</th>\n",
       "      <td>Less than 10</td>\n",
       "      <td>vioscreen_pectins</td>\n",
       "      <td>0.002709</td>\n",
       "    </tr>\n",
       "    <tr>\n",
       "      <th>4</th>\n",
       "      <td>Less than 10</td>\n",
       "      <td>vioscreen_pectins</td>\n",
       "      <td>0.002175</td>\n",
       "    </tr>\n",
       "  </tbody>\n",
       "</table>\n",
       "</div>"
      ],
      "text/plain": [
       "          types           variable     value\n",
       "0  More than 30  vioscreen_pectins  0.002799\n",
       "1  Less than 10  vioscreen_pectins  0.001788\n",
       "2  More than 30  vioscreen_pectins  0.003276\n",
       "3  Less than 10  vioscreen_pectins  0.002709\n",
       "4  Less than 10  vioscreen_pectins  0.002175"
      ]
     },
     "execution_count": 25,
     "metadata": {},
     "output_type": "execute_result"
    }
   ],
   "source": [
    "mapping_norm_long.head()"
   ]
  },
  {
   "cell_type": "code",
   "execution_count": 26,
   "metadata": {
    "scrolled": false
   },
   "outputs": [
    {
     "data": {
      "image/png": "[encoded data removed]",
      "text/plain": [
       "<matplotlib.figure.Figure at 0x10ef259e8>"
      ]
     },
     "metadata": {},
     "output_type": "display_data"
    }
   ],
   "source": [
    "sns.set_style('ticks')\n",
    "fig = sns.FacetGrid(mapping_norm_long, col=\"variable\", col_wrap=5)\n",
    "fig.map(sns.boxplot, 'types', 'value', palette=['#005a32', '#addd8e'])\n",
    "fig.savefig('vioscreen_boxplot_updated_facetGrid.pdf')"
   ]
  },
  {
   "cell_type": "code",
   "execution_count": 27,
   "metadata": {
    "scrolled": false
   },
   "outputs": [
    {
     "data": {
      "image/png": "[encoded data removed]",
      "text/plain": [
       "<matplotlib.figure.Figure at 0x112afb470>"
      ]
     },
     "metadata": {},
     "output_type": "display_data"
    }
   ],
   "source": [
    "sns.set_style('ticks')\n",
    "fig, ax = plt.subplots()\n",
    "fig.set_size_inches(20, 8)\n",
    "\n",
    "fig = sns.boxplot(x = 'variable', y = 'value', data=mapping_norm_long, hue='types', palette=['#005a32', '#addd8e'])\n",
    "fig.set_xticklabels(ax.get_xticklabels(), rotation=45)\n",
    "sns.despine()\n",
    "\n",
    "# tight_layout\n",
    "fig = fig.get_figure()\n",
    "fig.tight_layout()\n",
    "fig.savefig('vioscreen_boxplot_updated.pdf')"
   ]
  },
  {
   "cell_type": "code",
   "execution_count": null,
   "metadata": {
    "collapsed": true
   },
   "outputs": [],
   "source": []
  }
 ],
 "metadata": {
  "anaconda-cloud": {},
  "kernelspec": {
   "display_name": "Python 3",
   "language": "python",
   "name": "python3"
  },
  "language_info": {
   "codemirror_mode": {
    "name": "ipython",
    "version": 3
   },
   "file_extension": ".py",
   "mimetype": "text/x-python",
   "name": "python",
   "nbconvert_exporter": "python",
   "pygments_lexer": "ipython3",
   "version": "3.5.3"
  }
 },
 "nbformat": 4,
 "nbformat_minor": 2
}
