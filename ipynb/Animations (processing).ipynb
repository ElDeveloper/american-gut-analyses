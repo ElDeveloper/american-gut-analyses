{
 "cells": [
  {
   "cell_type": "markdown",
   "metadata": {},
   "source": [
    "We need to combine a few datasets:\n",
    "\n",
    "* ICU (work with Paul Wischmeyer).\n",
    "* Infant time series (work with Ruth Ley).\n",
    "* Fecal Microbiome Transplant (work with Mike Sadowsky).\n",
    "* American Gut Data.\n",
    "\n",
    "All the files are provided in the `data-for-animations` folder in the American Gut FTP site. These commands also assume that the greengenes database is located in a folder `gg_13_8_otus` in this current path.\n",
    "\n",
    "While seemingly trivial, this requires some finesse to properly combine\n",
    "the data."
   ]
  },
  {
   "cell_type": "markdown",
   "metadata": {},
   "source": [
    "# 1) Deblur ICU and FMT data.\n",
    "\n",
    "We need to start by deblurring the ICU and FMT data, so first we need to grab the data from Qiita (HDF5 formatted sequences) and import them to QIIME2.\n"
   ]
  },
  {
   "cell_type": "code",
   "execution_count": null,
   "metadata": {
    "collapsed": true
   },
   "outputs": [],
   "source": [
    "%%bash\n",
    "\n",
    "\n",
    "scripts/make_importable.sh data-for-animations/fmt-seqs.demux data-for-animations/fmt-sequences-qiime2 1\n",
    "qiime tools import --input-path data-for-animations/fmt-sequences-qiime2/ \\\n",
    "--type 'SampleData[SequencesWithQuality]' \\\n",
    "--output-path data-for-animations/fmt-seqs.qza\n",
    "\n",
    "scripts/make_importable.sh data-for-animations/icu-seqs.demux data-for-animations/icu-sequences-qiime2 1\n",
    "qiime tools import --input-path data-for-animations/icu-sequences-qiime2/ \\\n",
    "--type 'SampleData[SequencesWithQuality]' \\\n",
    "--output-path data-for-animations/icu-seqs.qza"
   ]
  },
  {
   "cell_type": "markdown",
   "metadata": {},
   "source": [
    "# 1.1) Deblur and trim at 125 NT."
   ]
  },
  {
   "cell_type": "code",
   "execution_count": null,
   "metadata": {
    "collapsed": true
   },
   "outputs": [],
   "source": [
    "%%bash\n",
    "\n",
    "qiime deblur denoise-16S \\\n",
    "--output-dir data-for-animations/deblur-fmt \\\n",
    "--i-demultiplexed-seqs data-for-animations/fmt-seqs.qza \\\n",
    "--p-trim-length 125 \\\n",
    "--p-no-hashed-feature-ids \\\n",
    "--verbose --p-jobs-to-start 16\n",
    "\n",
    "qiime deblur denoise-16S \\\n",
    "--output-dir data-for-animations/deblur-icu \\\n",
    "--i-demultiplexed-seqs data-for-animations/icu-seqs.qza \\\n",
    "--p-trim-length 125 \\\n",
    "--p-no-hashed-feature-ids \\\n",
    "--verbose --p-jobs-to-start 16"
   ]
  },
  {
   "cell_type": "markdown",
   "metadata": {},
   "source": [
    "# 1.2) Merge sequences"
   ]
  },
  {
   "cell_type": "code",
   "execution_count": null,
   "metadata": {
    "collapsed": true
   },
   "outputs": [],
   "source": [
    "%%bash\n",
    "\n",
    "qiime feature-table merge \\\n",
    "--i-table1 data-for-animations/deblur-fmt/table.qza \\\n",
    "--i-table2 data-for-animations/deblur-icu/table.qza \\\n",
    "--o-merged-table data-for-animations/deblur-fmt-and-icu/table.qza"
   ]
  },
  {
   "cell_type": "markdown",
   "metadata": {},
   "source": [
    "# 1.3) Remove blooms\n",
    "\n",
    "Download the blooms FASTA file and remove the sequences that match the representative sequences."
   ]
  },
  {
   "cell_type": "code",
   "execution_count": null,
   "metadata": {
    "collapsed": true
   },
   "outputs": [],
   "source": [
    "%%bash\n",
    "\n",
    "wget https://raw.githubusercontent.com/knightlab-analyses/bloom-analyses/master/data/newbloom.all.fna\n",
    "scripts/remove-blooms.py\n",
    "qiime tools import \\\n",
    "--input-path data-for-animations/deblur-fmt-and-icu/representative-sequences.upper.fna \\\n",
    "--output-path data-for-animations/deblur-fmt-and-icu/representative_sequences.qza \\\n",
    "--type 'FeatureData[Sequence]'"
   ]
  },
  {
   "cell_type": "markdown",
   "metadata": {},
   "source": [
    "# 2)  Process the ITS data "
   ]
  },
  {
   "cell_type": "markdown",
   "metadata": {},
   "source": [
    "# 2.1) Trim to 125 NTs"
   ]
  },
  {
   "cell_type": "code",
   "execution_count": null,
   "metadata": {
    "collapsed": true
   },
   "outputs": [],
   "source": [
    "%%bash\n",
    "\n",
    "trim_fasta.py \\\n",
    "-i data-for-animations/its-seqs.fna \\\n",
    "-o data-for-animations/its.seqs.125nt.fna \\\n",
    "-l 125"
   ]
  },
  {
   "cell_type": "markdown",
   "metadata": {},
   "source": [
    "# 2.2) pick OTUs at 99%.\n",
    "\n",
    "**Note** that this means that you will have to switch to an enviornment that has QIIME 1.9.1 running.\n",
    "\n",
    "`qsub` command used:\n",
    "\n",
    "```bash\n",
    "qsub -l mem=128gb,nodes=1:ppn=32 -l walltime=120:00:00 -e sortmerna.e -o sortmerna.o -N closed commands.sh\n",
    "```"
   ]
  },
  {
   "cell_type": "code",
   "execution_count": null,
   "metadata": {
    "collapsed": true
   },
   "outputs": [],
   "source": [
    "%%bash\n",
    "\n",
    "pick_closed_reference_otus.py \\\n",
    "-i data-for-animations/its.seqs.125nt.fna \\\n",
    "-o data-for-animations/closed-ref-its \\\n",
    "-p data-for-animations/sortmerna-params.txt \\\n",
    "-r gg_13_8_otus/rep_set/99_otus.fasta \\\n",
    "-t gg_13_8_otus/taxonomy/99_otu_taxonomy.txt"
   ]
  },
  {
   "cell_type": "markdown",
   "metadata": {},
   "source": [
    "# 3) Combine all the Illumina data (FMT, ICU and AGP)."
   ]
  },
  {
   "cell_type": "markdown",
   "metadata": {},
   "source": [
    "# 3.1) Get American gut data"
   ]
  },
  {
   "cell_type": "code",
   "execution_count": null,
   "metadata": {
    "collapsed": true
   },
   "outputs": [],
   "source": [
    "%%bash\n",
    "\n",
    "mkdir -p deblur-ag\n",
    "qiime tools import \\\n",
    "--input-path data-for-animations/otu_table_no_blooms_125nt_with_tax_min1250.biom \\\n",
    "--output-path data-for-animations/deblur-ag/table.qza \\\n",
    "--type 'FeatureTable[Frequency]'\n",
    "\n",
    "scripts/make-representative-sequences.py\n",
    "\n",
    "qiime tools import \\\n",
    "--input-path data-for-animations/deblur-ag/representative-sequences.upper.fna \\\n",
    "--output-path data-for-animations/deblur-ag/representative_sequences.qza \\\n",
    "--type 'FeatureData[Sequence]'"
   ]
  },
  {
   "cell_type": "markdown",
   "metadata": {},
   "source": [
    "# 3.2) Combining the data from Illumina and 454"
   ]
  },
  {
   "cell_type": "code",
   "execution_count": null,
   "metadata": {
    "collapsed": true
   },
   "outputs": [],
   "source": [
    "%%bash\n",
    "\n",
    "qiime feature-table merge \\\n",
    "--i-table1 data-for-animations/deblur-fmt-and-icu/table.noblooms.qza \\\n",
    "--i-table2 data-for-animations/deblur-ag/table.qza \\\n",
    "--o-merged-table data-for-animations/deblur-ag-fmt-icu/table.qza\n",
    "\n",
    "qiime feature-table merge-seq-data \\\n",
    "--i-data1 data-for-animations/deblur-ag/representative_sequences.qza \\\n",
    "--i-data2 data-for-animations/deblur-fmt-and-icu/representative_sequences.qza \\\n",
    "--o-merged-data data-for-animations/deblur-ag-fmt-icu/representative_sequences.qza"
   ]
  },
  {
   "cell_type": "markdown",
   "metadata": {},
   "source": [
    "# 3.2) Re-pick OTUs from the deblurred sequences.\n",
    "\n",
    "This will help reconcile the differences between the two technologies and sequence processing algorithms."
   ]
  },
  {
   "cell_type": "code",
   "execution_count": null,
   "metadata": {
    "collapsed": true
   },
   "outputs": [],
   "source": [
    "%%bash\n",
    "\n",
    "qiime tools export data-for-animations/deblur-ag-fmt-icu/representative_sequences.qza \\\n",
    "--output-dir data-for-animations/deblur-ag-fmt-icu/"
   ]
  },
  {
   "cell_type": "markdown",
   "metadata": {},
   "source": [
    "`qsub` command:\n",
    "\n",
    "```bash\n",
    "qsub -l mem=128gb,nodes=1:ppn=32 -l walltime=120:00:00 -e sortmerna.e -o sortmerna.o -N closed commands.sh\n",
    "```"
   ]
  },
  {
   "cell_type": "code",
   "execution_count": null,
   "metadata": {
    "collapsed": true
   },
   "outputs": [],
   "source": [
    "%%bash\n",
    "\n",
    "pick_closed_reference_otus.py \\\n",
    "-i data-for-animations/deblur-ag-fmt-icu/dna-sequences.fasta \\\n",
    "-o data-for-animations/deblur-ag-fmt-icu/closed-ref/ \\\n",
    "-p data-for-animations/sortmerna-params.txt \\\n",
    "-r gg_13_8_otus/rep_set/99_otus.fasta \\\n",
    "-t gg_13_8_otus/taxonomy/99_otu_taxonomy.txt"
   ]
  },
  {
   "cell_type": "markdown",
   "metadata": {},
   "source": [
    "# 3.3) Re-map into an OTU table using Daniel's script"
   ]
  },
  {
   "cell_type": "code",
   "execution_count": null,
   "metadata": {
    "collapsed": true
   },
   "outputs": [],
   "source": [
    "%%bash\n",
    "\n",
    "scripts/expand.py \\\n",
    "data-for-animations/deblur-ag-fmt-icu/table.qza \\\n",
    "data-for-animations/deblur-ag-fmt-icu/closed-ref/sortmerna_picked_otus/dna-sequences_otus.txt \\\n",
    "data-for-animations/deblur-ag-fmt-icu/expanded-otu-table.qza"
   ]
  },
  {
   "cell_type": "markdown",
   "metadata": {},
   "source": [
    "# 3.4) Import GG tree"
   ]
  },
  {
   "cell_type": "code",
   "execution_count": null,
   "metadata": {
    "collapsed": true
   },
   "outputs": [],
   "source": [
    "%%bash\n",
    "\n",
    "qiime tools import \\\n",
    "--input-path gg_13_8_otus/trees/99_otus.tree \\\n",
    "--output-path data-for-animations/deblur-ag-fmt-icu/closed-ref/greengenes.99.qza \\\n",
    "--type 'Phylogeny[Rooted]'"
   ]
  },
  {
   "cell_type": "markdown",
   "metadata": {},
   "source": [
    "# 4) Combine re-mapped OTU table and ITS OTU table."
   ]
  },
  {
   "cell_type": "markdown",
   "metadata": {
    "collapsed": true
   },
   "source": [
    "# 4.1) Import ITS table into QIIME2"
   ]
  },
  {
   "cell_type": "code",
   "execution_count": null,
   "metadata": {
    "collapsed": true
   },
   "outputs": [],
   "source": [
    "%%bash\n",
    "\n",
    "qiime tools import \\\n",
    "--input-path data-for-animations/closed-ref-its/otu_table.biom  \\\n",
    "--output-path data-for-animations/closed-ref-its/table.qza \\\n",
    "--type 'FeatureTable[Frequency]'"
   ]
  },
  {
   "cell_type": "markdown",
   "metadata": {},
   "source": [
    "# 4.2) merge OTU tables"
   ]
  },
  {
   "cell_type": "code",
   "execution_count": null,
   "metadata": {
    "collapsed": true
   },
   "outputs": [],
   "source": [
    "%%bash\n",
    "\n",
    "mkdir -p remapped-ag-fmt-icu-its\n",
    "\n",
    "qiime feature-table merge \\\n",
    "--i-table1 data-for-animations/deblur-ag-fmt-icu/expanded-otu-table.qza \\\n",
    "--i-table2 data-for-animations/closed-ref-its/table.qza \\\n",
    "--o-merged-table data-for-animations/remapped-ag-fmt-icu-its/table.qza\n",
    "\n",
    "qiime feature-table rarefy \\\n",
    "--i-table data-for-animations/remapped-ag-fmt-icu-its/table.qza \\\n",
    "--p-sampling-depth 1250 \\\n",
    "--o-rarefied-table data-for-animations/remapped-ag-fmt-icu-its/table.even1250.qza"
   ]
  },
  {
   "cell_type": "markdown",
   "metadata": {},
   "source": [
    "# 5) Use Greengenes 99% to compute UniFrac"
   ]
  },
  {
   "cell_type": "markdown",
   "metadata": {},
   "source": [
    "# 5.1) Compute UniFrac\n",
    "\n",
    "`qsub` command:\n",
    "    \n",
    "```bash\n",
    "qsub -l mem=64gb,nodes=1:ppn=10 -l walltime=120:00:00 -o state-unifrac.o -e state-unifrac.e -N state commands.sh\n",
    "```"
   ]
  },
  {
   "cell_type": "code",
   "execution_count": null,
   "metadata": {
    "collapsed": true
   },
   "outputs": [],
   "source": [
    "%%bash\n",
    "\n",
    "qiime state-unifrac unweighted \\\n",
    "--i-table data-for-animations/remapped-ag-fmt-icu-its/table.even1250.qza \\\n",
    "--i-phylogeny data-for-animations/deblur-ag-fmt-icu/closed-ref/greengenes.99.qza \\\n",
    "--p-threads 10 \\\n",
    "--o-distance-matrix data-for-animations/remapped-ag-fmt-icu-its/unweighted-unifrac.even1250.qza"
   ]
  },
  {
   "cell_type": "markdown",
   "metadata": {},
   "source": [
    "# 5.2) Ordinate distance matrix"
   ]
  },
  {
   "cell_type": "code",
   "execution_count": null,
   "metadata": {
    "collapsed": true
   },
   "outputs": [],
   "source": [
    "qiime diversity pcoa \\\n",
    "--i-distance-matrix data-for-animations/remapped-ag-fmt-icu-its/unweighted-unifrac.even1250.qza  \\\n",
    "--o-pcoa data-for-animations/remapped-ag-fmt-icu-its/pcoa.unweighted-unifrac.even1250.qza"
   ]
  }
 ],
 "metadata": {
  "kernelspec": {
   "display_name": "Python 3",
   "language": "python",
   "name": "python3"
  },
  "language_info": {
   "codemirror_mode": {
    "name": "ipython",
    "version": 3
   },
   "file_extension": ".py",
   "mimetype": "text/x-python",
   "name": "python",
   "nbconvert_exporter": "python",
   "pygments_lexer": "ipython3",
   "version": "3.5.3"
  },
  "widgets": {
   "state": {},
   "version": "1.1.2"
  }
 },
 "nbformat": 4,
 "nbformat_minor": 1
}
