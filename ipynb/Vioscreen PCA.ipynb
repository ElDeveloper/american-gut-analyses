{
 "cells": [
  {
   "cell_type": "markdown",
   "metadata": {
    "collapsed": true
   },
   "source": [
    "#### This notebook is to perform Principal Component Analysis on visocreen data, and color them by American Gut question on diet type "
   ]
  },
  {
   "cell_type": "markdown",
   "metadata": {
    "collapsed": true
   },
   "source": [
    "## Prepare data for PCA analysis"
   ]
  },
  {
   "cell_type": "code",
   "execution_count": 2,
   "metadata": {
    "collapsed": true
   },
   "outputs": [],
   "source": [
    "options(warn=-1)"
   ]
  },
  {
   "cell_type": "code",
   "execution_count": 3,
   "metadata": {
    "collapsed": true
   },
   "outputs": [],
   "source": [
    "AG = read.csv('ag_map_with_alpha.txt', sep='\\t', row.names=1)"
   ]
  },
  {
   "cell_type": "code",
   "execution_count": 4,
   "metadata": {},
   "outputs": [
    {
     "name": "stderr",
     "output_type": "stream",
     "text": [
      "\n",
      "Attaching package: ‘dplyr’\n",
      "\n",
      "The following objects are masked from ‘package:stats’:\n",
      "\n",
      "    filter, lag\n",
      "\n",
      "The following objects are masked from ‘package:base’:\n",
      "\n",
      "    intersect, setdiff, setequal, union\n",
      "\n"
     ]
    }
   ],
   "source": [
    "# select vioscreen variables and convert to numeric\n",
    "library(dplyr)\n",
    "vios_cols = select(AG,contains(\"vioscreen\"))\n",
    "indx = sapply(vios_cols, is.factor)\n",
    "vios_cols[indx] = lapply(vios_cols[indx], function(x) as.numeric(as.character(x))) "
   ]
  },
  {
   "cell_type": "code",
   "execution_count": 5,
   "metadata": {},
   "outputs": [],
   "source": [
    "# drop samples without vioscreen information\n",
    "ids_keep = vios_cols[apply(vios_cols, 1, sum, na.rm=TRUE) != 0, ] # 1762 * 258\n",
    "\n",
    "# drop categroical vioscreen variables, or with mean zero or with sd zero\n",
    "vios_zero = names(ids_keep)[apply(ids_keep, 2, mean, na.rm=TRUE) == 0 | apply(ids_keep, 2, sd, na.rm=TRUE) == 0]\n",
    "dat = ids_keep[, -which(names(ids_keep) %in% vios_zero)] # 1762 * 252\n",
    "\n",
    "# keep only vioscreen variables with more than 90% response\n",
    "dat_binary = +(dat > 0)\n",
    "n = dim(dat_binary)[1]\n",
    "cols_90 = names(dat)[apply(dat_binary, 2, sum, na.rm=TRUE) > 0.9*n] # 207\n",
    "dat_90 = dat[, which(names(dat) %in% cols_90)] # 1762 * 207\n",
    "\n",
    "# drop samples with missing vioscreen information\n",
    "dat_90_complete = na.omit(dat_90) # 1596 * 207\n",
    "\n",
    "# add AG diet_type variable\n",
    "AG_diet = subset(AG, select='diet_type') # 9511 * 1\n",
    "df_90 = merge(AG_diet, dat_90_complete, by='row.names')\n",
    "colnames(df_90)[1] = 'SampleID'"
   ]
  },
  {
   "cell_type": "code",
   "execution_count": 6,
   "metadata": {},
   "outputs": [
    {
     "data": {
      "text/html": [
       "<ol class=list-inline>\n",
       "\t<li>1596</li>\n",
       "\t<li>209</li>\n",
       "</ol>\n"
      ],
      "text/latex": [
       "\\begin{enumerate*}\n",
       "\\item 1596\n",
       "\\item 209\n",
       "\\end{enumerate*}\n"
      ],
      "text/markdown": [
       "1. 1596\n",
       "2. 209\n",
       "\n",
       "\n"
      ],
      "text/plain": [
       "[1] 1596  209"
      ]
     },
     "metadata": {},
     "output_type": "display_data"
    }
   ],
   "source": [
    "dim(df_90)"
   ]
  },
  {
   "cell_type": "code",
   "execution_count": 7,
   "metadata": {},
   "outputs": [
    {
     "data": {
      "text/html": [
       "<table>\n",
       "<thead><tr><th scope=col>SampleID</th><th scope=col>diet_type</th><th scope=col>vioscreen_add_sug</th><th scope=col>vioscreen_calcium_from_dairy_servings</th><th scope=col>vioscreen_calcium_servings</th><th scope=col>vioscreen_discfat_oil</th><th scope=col>vioscreen_discfat_sol</th><th scope=col>vioscreen_d_cheese</th><th scope=col>vioscreen_d_milk</th><th scope=col>vioscreen_d_total</th><th scope=col>⋯</th><th scope=col>vioscreen_vitc</th><th scope=col>vioscreen_vitd</th><th scope=col>vioscreen_vitd3</th><th scope=col>vioscreen_vitd_iu</th><th scope=col>vioscreen_vite_iu</th><th scope=col>vioscreen_vitk</th><th scope=col>vioscreen_water</th><th scope=col>vioscreen_wgrain</th><th scope=col>vioscreen_xylitol</th><th scope=col>vioscreen_zinc</th></tr></thead>\n",
       "<tbody>\n",
       "\t<tr><td>10317.000001171</td><td>Omnivore       </td><td>20.982847      </td><td>1.32359        </td><td>3.12474        </td><td> 9.975316      </td><td> 34.70888      </td><td>0.053890411    </td><td>0.26652053     </td><td>1.32358897     </td><td>⋯              </td><td> 94.02155      </td><td> 4.974822      </td><td> 4.974000      </td><td>198.9929       </td><td>10.89772       </td><td>265.6982       </td><td>3481.122       </td><td>0.7428219      </td><td>0.02747945     </td><td> 8.860438      </td></tr>\n",
       "\t<tr><td>10317.000001230</td><td>Omnivore       </td><td> 4.427753      </td><td>0.66414        </td><td>3.57156        </td><td>32.137814      </td><td>113.47641      </td><td>0.336602747    </td><td>0.32753423     </td><td>0.66413701     </td><td>⋯              </td><td>280.86652      </td><td>23.219454      </td><td>23.216467      </td><td>928.7782       </td><td>30.10846       </td><td>288.4739       </td><td>6306.160       </td><td>1.0293424      </td><td>0.04073973     </td><td>58.210789      </td></tr>\n",
       "\t<tr><td>10317.000001377</td><td>Omnivore       </td><td> 6.436877      </td><td>0.19877        </td><td>3.51477        </td><td>56.263641      </td><td> 39.73383      </td><td>0.002191781    </td><td>0.19654794     </td><td>0.19876711     </td><td>⋯              </td><td> 46.22097      </td><td>14.212247      </td><td> 7.457671      </td><td>568.4899       </td><td>21.95663       </td><td>155.8026       </td><td>2319.670       </td><td>0.7225479      </td><td>0.01980822     </td><td>15.659973      </td></tr>\n",
       "\t<tr><td>10317.000001792</td><td>Omnivore       </td><td> 4.513343      </td><td>0.02841        </td><td>1.57992        </td><td>22.547892      </td><td> 62.00400      </td><td>0.000000000    </td><td>0.02838356     </td><td>0.02841096     </td><td>⋯              </td><td>209.71599      </td><td> 6.076740      </td><td> 6.076740      </td><td>243.0696       </td><td>18.84419       </td><td>430.3969       </td><td>7217.774       </td><td>0.0000000      </td><td>0.08460273     </td><td>15.860876      </td></tr>\n",
       "\t<tr><td>10317.000001820</td><td>Omnivore       </td><td> 7.931206      </td><td>0.62581        </td><td>2.91416        </td><td>47.920521      </td><td> 38.58582      </td><td>0.071999997    </td><td>0.17994520     </td><td>0.62580824     </td><td>⋯              </td><td>205.79251      </td><td>10.839206      </td><td>10.839206      </td><td>433.5682       </td><td>24.21910       </td><td>543.6381       </td><td>4430.210       </td><td>5.2092605      </td><td>0.03843836     </td><td>16.354656      </td></tr>\n",
       "\t<tr><td>10317.000001882</td><td>Omnivore       </td><td> 7.475096      </td><td>1.95184        </td><td>4.07726        </td><td>64.560745      </td><td> 88.72372      </td><td>0.455945253    </td><td>0.99594516     </td><td>1.95183551     </td><td>⋯              </td><td>211.77725      </td><td>12.909616      </td><td>12.907616      </td><td>516.3846       </td><td>28.27493       </td><td>581.5570       </td><td>5959.042       </td><td>0.2600822      </td><td>0.07169863     </td><td>22.326469      </td></tr>\n",
       "</tbody>\n",
       "</table>\n"
      ],
      "text/latex": [
       "\\begin{tabular}{r|lllllllllllllllllllllllllllllllllllllllllllllllllllllllllllllllllllllllllllllllllllllllllllllllllllllllllllllllllllllllllllllllllllllllllllllllllllllllllllllllllllllllllllllllllllllllllllllllllllllllllllllllll}\n",
       " SampleID & diet\\_type & vioscreen\\_add\\_sug & vioscreen\\_calcium\\_from\\_dairy\\_servings & vioscreen\\_calcium\\_servings & vioscreen\\_discfat\\_oil & vioscreen\\_discfat\\_sol & vioscreen\\_d\\_cheese & vioscreen\\_d\\_milk & vioscreen\\_d\\_total & ⋯ & vioscreen\\_vitc & vioscreen\\_vitd & vioscreen\\_vitd3 & vioscreen\\_vitd\\_iu & vioscreen\\_vite\\_iu & vioscreen\\_vitk & vioscreen\\_water & vioscreen\\_wgrain & vioscreen\\_xylitol & vioscreen\\_zinc\\\\\n",
       "\\hline\n",
       "\t 10317.000001171 & Omnivore        & 20.982847       & 1.32359         & 3.12474         &  9.975316       &  34.70888       & 0.053890411     & 0.26652053      & 1.32358897      & ⋯               &  94.02155       &  4.974822       &  4.974000       & 198.9929        & 10.89772        & 265.6982        & 3481.122        & 0.7428219       & 0.02747945      &  8.860438      \\\\\n",
       "\t 10317.000001230 & Omnivore        &  4.427753       & 0.66414         & 3.57156         & 32.137814       & 113.47641       & 0.336602747     & 0.32753423      & 0.66413701      & ⋯               & 280.86652       & 23.219454       & 23.216467       & 928.7782        & 30.10846        & 288.4739        & 6306.160        & 1.0293424       & 0.04073973      & 58.210789      \\\\\n",
       "\t 10317.000001377 & Omnivore        &  6.436877       & 0.19877         & 3.51477         & 56.263641       &  39.73383       & 0.002191781     & 0.19654794      & 0.19876711      & ⋯               &  46.22097       & 14.212247       &  7.457671       & 568.4899        & 21.95663        & 155.8026        & 2319.670        & 0.7225479       & 0.01980822      & 15.659973      \\\\\n",
       "\t 10317.000001792 & Omnivore        &  4.513343       & 0.02841         & 1.57992         & 22.547892       &  62.00400       & 0.000000000     & 0.02838356      & 0.02841096      & ⋯               & 209.71599       &  6.076740       &  6.076740       & 243.0696        & 18.84419        & 430.3969        & 7217.774        & 0.0000000       & 0.08460273      & 15.860876      \\\\\n",
       "\t 10317.000001820 & Omnivore        &  7.931206       & 0.62581         & 2.91416         & 47.920521       &  38.58582       & 0.071999997     & 0.17994520      & 0.62580824      & ⋯               & 205.79251       & 10.839206       & 10.839206       & 433.5682        & 24.21910        & 543.6381        & 4430.210        & 5.2092605       & 0.03843836      & 16.354656      \\\\\n",
       "\t 10317.000001882 & Omnivore        &  7.475096       & 1.95184         & 4.07726         & 64.560745       &  88.72372       & 0.455945253     & 0.99594516      & 1.95183551      & ⋯               & 211.77725       & 12.909616       & 12.907616       & 516.3846        & 28.27493        & 581.5570        & 5959.042        & 0.2600822       & 0.07169863      & 22.326469      \\\\\n",
       "\\end{tabular}\n"
      ],
      "text/markdown": [
       "\n",
       "SampleID | diet_type | vioscreen_add_sug | vioscreen_calcium_from_dairy_servings | vioscreen_calcium_servings | vioscreen_discfat_oil | vioscreen_discfat_sol | vioscreen_d_cheese | vioscreen_d_milk | vioscreen_d_total | ⋯ | vioscreen_vitc | vioscreen_vitd | vioscreen_vitd3 | vioscreen_vitd_iu | vioscreen_vite_iu | vioscreen_vitk | vioscreen_water | vioscreen_wgrain | vioscreen_xylitol | vioscreen_zinc | \n",
       "|---|---|---|---|---|---|\n",
       "| 10317.000001171 | Omnivore        | 20.982847       | 1.32359         | 3.12474         |  9.975316       |  34.70888       | 0.053890411     | 0.26652053      | 1.32358897      | ⋯               |  94.02155       |  4.974822       |  4.974000       | 198.9929        | 10.89772        | 265.6982        | 3481.122        | 0.7428219       | 0.02747945      |  8.860438       | \n",
       "| 10317.000001230 | Omnivore        |  4.427753       | 0.66414         | 3.57156         | 32.137814       | 113.47641       | 0.336602747     | 0.32753423      | 0.66413701      | ⋯               | 280.86652       | 23.219454       | 23.216467       | 928.7782        | 30.10846        | 288.4739        | 6306.160        | 1.0293424       | 0.04073973      | 58.210789       | \n",
       "| 10317.000001377 | Omnivore        |  6.436877       | 0.19877         | 3.51477         | 56.263641       |  39.73383       | 0.002191781     | 0.19654794      | 0.19876711      | ⋯               |  46.22097       | 14.212247       |  7.457671       | 568.4899        | 21.95663        | 155.8026        | 2319.670        | 0.7225479       | 0.01980822      | 15.659973       | \n",
       "| 10317.000001792 | Omnivore        |  4.513343       | 0.02841         | 1.57992         | 22.547892       |  62.00400       | 0.000000000     | 0.02838356      | 0.02841096      | ⋯               | 209.71599       |  6.076740       |  6.076740       | 243.0696        | 18.84419        | 430.3969        | 7217.774        | 0.0000000       | 0.08460273      | 15.860876       | \n",
       "| 10317.000001820 | Omnivore        |  7.931206       | 0.62581         | 2.91416         | 47.920521       |  38.58582       | 0.071999997     | 0.17994520      | 0.62580824      | ⋯               | 205.79251       | 10.839206       | 10.839206       | 433.5682        | 24.21910        | 543.6381        | 4430.210        | 5.2092605       | 0.03843836      | 16.354656       | \n",
       "| 10317.000001882 | Omnivore        |  7.475096       | 1.95184         | 4.07726         | 64.560745       |  88.72372       | 0.455945253     | 0.99594516      | 1.95183551      | ⋯               | 211.77725       | 12.909616       | 12.907616       | 516.3846        | 28.27493        | 581.5570        | 5959.042        | 0.2600822       | 0.07169863      | 22.326469       | \n",
       "\n",
       "\n"
      ],
      "text/plain": [
       "  SampleID        diet_type vioscreen_add_sug\n",
       "1 10317.000001171 Omnivore  20.982847        \n",
       "2 10317.000001230 Omnivore   4.427753        \n",
       "3 10317.000001377 Omnivore   6.436877        \n",
       "4 10317.000001792 Omnivore   4.513343        \n",
       "5 10317.000001820 Omnivore   7.931206        \n",
       "6 10317.000001882 Omnivore   7.475096        \n",
       "  vioscreen_calcium_from_dairy_servings vioscreen_calcium_servings\n",
       "1 1.32359                               3.12474                   \n",
       "2 0.66414                               3.57156                   \n",
       "3 0.19877                               3.51477                   \n",
       "4 0.02841                               1.57992                   \n",
       "5 0.62581                               2.91416                   \n",
       "6 1.95184                               4.07726                   \n",
       "  vioscreen_discfat_oil vioscreen_discfat_sol vioscreen_d_cheese\n",
       "1  9.975316              34.70888             0.053890411       \n",
       "2 32.137814             113.47641             0.336602747       \n",
       "3 56.263641              39.73383             0.002191781       \n",
       "4 22.547892              62.00400             0.000000000       \n",
       "5 47.920521              38.58582             0.071999997       \n",
       "6 64.560745              88.72372             0.455945253       \n",
       "  vioscreen_d_milk vioscreen_d_total ⋯ vioscreen_vitc vioscreen_vitd\n",
       "1 0.26652053       1.32358897        ⋯  94.02155       4.974822     \n",
       "2 0.32753423       0.66413701        ⋯ 280.86652      23.219454     \n",
       "3 0.19654794       0.19876711        ⋯  46.22097      14.212247     \n",
       "4 0.02838356       0.02841096        ⋯ 209.71599       6.076740     \n",
       "5 0.17994520       0.62580824        ⋯ 205.79251      10.839206     \n",
       "6 0.99594516       1.95183551        ⋯ 211.77725      12.909616     \n",
       "  vioscreen_vitd3 vioscreen_vitd_iu vioscreen_vite_iu vioscreen_vitk\n",
       "1  4.974000       198.9929          10.89772          265.6982      \n",
       "2 23.216467       928.7782          30.10846          288.4739      \n",
       "3  7.457671       568.4899          21.95663          155.8026      \n",
       "4  6.076740       243.0696          18.84419          430.3969      \n",
       "5 10.839206       433.5682          24.21910          543.6381      \n",
       "6 12.907616       516.3846          28.27493          581.5570      \n",
       "  vioscreen_water vioscreen_wgrain vioscreen_xylitol vioscreen_zinc\n",
       "1 3481.122        0.7428219        0.02747945         8.860438     \n",
       "2 6306.160        1.0293424        0.04073973        58.210789     \n",
       "3 2319.670        0.7225479        0.01980822        15.659973     \n",
       "4 7217.774        0.0000000        0.08460273        15.860876     \n",
       "5 4430.210        5.2092605        0.03843836        16.354656     \n",
       "6 5959.042        0.2600822        0.07169863        22.326469     "
      ]
     },
     "metadata": {},
     "output_type": "display_data"
    }
   ],
   "source": [
    "head(df_90)"
   ]
  },
  {
   "cell_type": "markdown",
   "metadata": {},
   "source": [
    "## Perform PCA on vioscreen data"
   ]
  },
  {
   "cell_type": "code",
   "execution_count": 8,
   "metadata": {
    "collapsed": true
   },
   "outputs": [],
   "source": [
    "pr.out = prcomp(df_90[, -c(1,2)], scale=TRUE)  # exclude sampleID and diet_type"
   ]
  },
  {
   "cell_type": "code",
   "execution_count": 9,
   "metadata": {},
   "outputs": [
    {
     "data": {
      "text/html": [
       "<ol class=list-inline>\n",
       "\t<li>0.317450960912811</li>\n",
       "\t<li>0.142243658052666</li>\n",
       "</ol>\n"
      ],
      "text/latex": [
       "\\begin{enumerate*}\n",
       "\\item 0.317450960912811\n",
       "\\item 0.142243658052666\n",
       "\\end{enumerate*}\n"
      ],
      "text/markdown": [
       "1. 0.317450960912811\n",
       "2. 0.142243658052666\n",
       "\n",
       "\n"
      ],
      "text/plain": [
       "[1] 0.3174510 0.1422437"
      ]
     },
     "metadata": {},
     "output_type": "display_data"
    }
   ],
   "source": [
    "# variation explained \n",
    "pr.var = pr.out$sdev^2\n",
    "pve = pr.var/sum(pr.var)\n",
    "pve[1:2]"
   ]
  },
  {
   "cell_type": "code",
   "execution_count": 10,
   "metadata": {},
   "outputs": [
    {
     "data": {
      "text/plain": [
       "\n",
       "                        Omnivore Omnivore but do not eat red meat \n",
       "                            1263                              108 \n",
       "                     Unspecified                            Vegan \n",
       "                              21                               48 \n",
       "                      Vegetarian       Vegetarian but eat seafood \n",
       "                              74                               82 "
      ]
     },
     "metadata": {},
     "output_type": "display_data"
    }
   ],
   "source": [
    "table(df_90$diet_type)\n",
    "colors  = rep('black', length(df_90$diet_type))\n",
    "colors[df_90$diet_type == 'Omnivore'] = 'red'\n",
    "colors[df_90$diet_type == 'Omnivore but do not eat red meat'] = 'orange'\n",
    "colors[df_90$diet_type == 'Vegan'] = 'green'\n",
    "colors[df_90$diet_type == 'Vegetarian'] = 'purple'\n",
    "colors[df_90$diet_type == 'Vegetarian but eat seafood'] = 'blue'"
   ]
  },
  {
   "cell_type": "code",
   "execution_count": 11,
   "metadata": {},
   "outputs": [
    {
     "data": {
      "text/html": [
       "<strong>pdf:</strong> 2"
      ],
      "text/latex": [
       "\\textbf{pdf:} 2"
      ],
      "text/markdown": [
       "**pdf:** 2"
      ],
      "text/plain": [
       "pdf \n",
       "  2 "
      ]
     },
     "metadata": {},
     "output_type": "display_data"
    }
   ],
   "source": [
    "# color first 2 principal components with diet_type\n",
    "pdf('vioscreen_pca.pdf')\n",
    "par(xpd=TRUE, mar=par()$mar + c(0, 0, 0, 7))\n",
    "plot(pr.out$x[, 1:2], pch=20, xlab='PC1 (31.7% variation explained)', \n",
    "     ylab='PC2 (14.2% variation explained)', col=colors, bty='n')\n",
    "legend(20, 20, c('Unspecified', 'Omnivore', 'Omnivore but \\n do not eat red meat', \n",
    "                 'Vegan', 'Vegetarian', 'Vegetarian but \\n eat seafood'), col= c('black', 'red',\n",
    "                                                                              'orange', 'green', 'purple', 'blue'), \n",
    "       pch=c(19,19,19,19,19, 19))\n",
    "par(mar=c(5,4,4,2) + 0.1)\n",
    "dev.off()"
   ]
  },
  {
   "cell_type": "code",
   "execution_count": 12,
   "metadata": {},
   "outputs": [],
   "source": [
    "# export PC files\n",
    "pc_info = cbind(df_90$SampleID, pr.out$x)\n",
    "write.table(pc_info, file='vioscreen_pc_orig.txt', sep='\\t', row.names = FALSE) # delete index columns\n",
    "eigenvals = pr.out$sdev^2\n",
    "write(paste(as.character(eigenvals), collapse='\\t'), 'eigenvals.txt', append='TRUE')\n",
    "prop_pc = eigenvals/sum(eigenvals)\n",
    "write(paste(as.character(prop_pc), collapse='\\t'), 'prop_pc.txt', append='TRUE')"
   ]
  },
  {
   "cell_type": "code",
   "execution_count": null,
   "metadata": {
    "collapsed": true
   },
   "outputs": [],
   "source": []
  }
 ],
 "metadata": {
  "kernelspec": {
   "display_name": "R",
   "language": "R",
   "name": "ir"
  },
  "language_info": {
   "codemirror_mode": "r",
   "file_extension": ".r",
   "mimetype": "text/x-r-source",
   "name": "R",
   "pygments_lexer": "r",
   "version": "3.2.4"
  }
 },
 "nbformat": 4,
 "nbformat_minor": 2
}
